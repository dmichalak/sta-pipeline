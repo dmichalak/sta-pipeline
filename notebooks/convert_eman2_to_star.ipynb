{
 "cells": [
  {
   "cell_type": "code",
   "execution_count": 36,
   "metadata": {},
   "outputs": [],
   "source": [
    "from pathlib import Path\n",
    "\n",
    "import numpy as np\n",
    "import pandas as pd\n",
    "import json\n",
    "\n",
    "import starfile\n",
    "import napari\n",
    "import mrcfile"
   ]
  },
  {
   "cell_type": "code",
   "execution_count": 2,
   "metadata": {},
   "outputs": [],
   "source": [
    "filepath = Path(\"/mnt/scratch/ribosomes/kas_k44a/eman2/info/ts_003_b10_rec_corrected_info.json\")"
   ]
  },
  {
   "cell_type": "code",
   "execution_count": 30,
   "metadata": {},
   "outputs": [],
   "source": [
    "data = json.load(open(filepath))\n",
    "df = pd.DataFrame(data[\"boxes_3d\"], columns=[\"x\", \"y\", \"z\", \"\", \"\", \"\"])\n",
    "df = df[df.columns[:3]]"
   ]
  },
  {
   "cell_type": "code",
   "execution_count": 31,
   "metadata": {},
   "outputs": [],
   "source": [
    "tomo_y_max = 1152\n",
    "tomo_bin_factor = 10\n",
    "\n",
    "df[\"y\"] = tomo_y_max - df[\"y\"]\n",
    "df = df * tomo_bin_factor"
   ]
  },
  {
   "cell_type": "code",
   "execution_count": 34,
   "metadata": {},
   "outputs": [],
   "source": [
    "df.columns = [\"rlnCoordinateX\", \"rlnCoordinateY\", \"rlnCoordinateZ\"]\n",
    "rln_angles = [\"rlnAngleRot\", \"rlnAngleTilt\", \"rlnAnglePsi\"]\n",
    "for angle in rln_angles:\n",
    "    random_angles = np.random.randint(0, 179, size=len(df.index))\n",
    "    df[angle] = random_angles"
   ]
  },
  {
   "cell_type": "code",
   "execution_count": 40,
   "metadata": {},
   "outputs": [
    {
     "data": {
      "text/plain": [
       "<Points layer 'Points' at 0x7ff4ae000550>"
      ]
     },
     "execution_count": 40,
     "metadata": {},
     "output_type": "execute_result"
    }
   ],
   "source": [
    "viewer = napari.Viewer(ndisplay=3)\n",
    "viewer.add_image(\n",
    "    mrcfile.read(\"/mnt/scratch/ribosomes/kas_k44a/eman2/segmentations/ts_003_b10_rec_corrected__good_ribosomes-6.922_seg.mrc\"),\n",
    "\n",
    ")\n",
    "viewer.add_points(\n",
    "    df[[\"rlnCoordinateX\", \"rlnCoordinateY\", \"rlnCoordinateZ\"]],\n",
    "    blending=\"translucent\",\n",
    "    edge_color = \"red\",\n",
    "    edge_width = 0.2\n",
    "    )"
   ]
  },
  {
   "cell_type": "code",
   "execution_count": 39,
   "metadata": {},
   "outputs": [
    {
     "data": {
      "text/plain": [
       "array([[1200, 8260, 2900,   75,   82,  176],\n",
       "       [2160, 9820, 2900,  105,   73,   76],\n",
       "       [ 640, 9420, 3100,   33,   50,  159],\n",
       "       ...,\n",
       "       [ 870,  930, 1280,  157,  131,   73],\n",
       "       [ 740, 1160, 1280,   57,   78,   26],\n",
       "       [1150, 1070, 1280,  133,   73,   16]])"
      ]
     },
     "execution_count": 39,
     "metadata": {},
     "output_type": "execute_result"
    }
   ],
   "source": [
    "df.values"
   ]
  },
  {
   "cell_type": "code",
   "execution_count": null,
   "metadata": {},
   "outputs": [],
   "source": []
  }
 ],
 "metadata": {
  "kernelspec": {
   "display_name": "devbio-napari-env",
   "language": "python",
   "name": "python3"
  },
  "language_info": {
   "codemirror_mode": {
    "name": "ipython",
    "version": 3
   },
   "file_extension": ".py",
   "mimetype": "text/x-python",
   "name": "python",
   "nbconvert_exporter": "python",
   "pygments_lexer": "ipython3",
   "version": "3.9.16"
  },
  "orig_nbformat": 4
 },
 "nbformat": 4,
 "nbformat_minor": 2
}
