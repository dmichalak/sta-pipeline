{
 "cells": [
  {
   "cell_type": "code",
   "execution_count": 58,
   "metadata": {},
   "outputs": [],
   "source": [
    "from pathlib import Path\n",
    "\n",
    "import numpy as np\n",
    "import pandas as pd\n",
    "import json\n",
    "\n",
    "import starfile\n",
    "import napari\n",
    "import mrcfile"
   ]
  },
  {
   "cell_type": "code",
   "execution_count": 59,
   "metadata": {},
   "outputs": [],
   "source": [
    "viewer = napari.Viewer(ndisplay=3)"
   ]
  },
  {
   "cell_type": "code",
   "execution_count": 84,
   "metadata": {},
   "outputs": [
    {
     "data": {
      "text/plain": [
       "[PosixPath('/mnt/scratch/ribosomes/kas_k44a/eman2/info/corrected_iter30-ts_004_b10_rec_corrected_info.json')]"
      ]
     },
     "execution_count": 84,
     "metadata": {},
     "output_type": "execute_result"
    }
   ],
   "source": [
    "eman2_directory = Path(\"/mnt/scratch/ribosomes/kas_k44a/eman2/\")\n",
    "\n",
    "eman2_particle_lists = sorted(eman2_directory.glob(\"info/corrected_iter30-ts_*_b10_rec_corrected_info.json\"))\n",
    "\n",
    "eman2_particle_lists[:5]"
   ]
  },
  {
   "cell_type": "code",
   "execution_count": 87,
   "metadata": {},
   "outputs": [
    {
     "name": "stdout",
     "output_type": "stream",
     "text": [
      "ts_004\n"
     ]
    },
    {
     "data": {
      "text/html": [
       "<div>\n",
       "<style scoped>\n",
       "    .dataframe tbody tr th:only-of-type {\n",
       "        vertical-align: middle;\n",
       "    }\n",
       "\n",
       "    .dataframe tbody tr th {\n",
       "        vertical-align: top;\n",
       "    }\n",
       "\n",
       "    .dataframe thead th {\n",
       "        text-align: right;\n",
       "    }\n",
       "</style>\n",
       "<table border=\"1\" class=\"dataframe\">\n",
       "  <thead>\n",
       "    <tr style=\"text-align: right;\">\n",
       "      <th></th>\n",
       "      <th>x</th>\n",
       "      <th>y</th>\n",
       "      <th>z</th>\n",
       "      <th>box_class</th>\n",
       "    </tr>\n",
       "  </thead>\n",
       "  <tbody>\n",
       "    <tr>\n",
       "      <th>0</th>\n",
       "      <td>758</td>\n",
       "      <td>448</td>\n",
       "      <td>139</td>\n",
       "      <td>box20_mass1000</td>\n",
       "    </tr>\n",
       "    <tr>\n",
       "      <th>1</th>\n",
       "      <td>632</td>\n",
       "      <td>34</td>\n",
       "      <td>124</td>\n",
       "      <td>box20_mass1000</td>\n",
       "    </tr>\n",
       "    <tr>\n",
       "      <th>2</th>\n",
       "      <td>622</td>\n",
       "      <td>562</td>\n",
       "      <td>185</td>\n",
       "      <td>box20_mass1000</td>\n",
       "    </tr>\n",
       "    <tr>\n",
       "      <th>3</th>\n",
       "      <td>580</td>\n",
       "      <td>716</td>\n",
       "      <td>287</td>\n",
       "      <td>box20_mass1000</td>\n",
       "    </tr>\n",
       "    <tr>\n",
       "      <th>4</th>\n",
       "      <td>172</td>\n",
       "      <td>1132</td>\n",
       "      <td>353</td>\n",
       "      <td>box20_mass1000</td>\n",
       "    </tr>\n",
       "  </tbody>\n",
       "</table>\n",
       "</div>"
      ],
      "text/plain": [
       "     x     y    z       box_class\n",
       "0  758   448  139  box20_mass1000\n",
       "1  632    34  124  box20_mass1000\n",
       "2  622   562  185  box20_mass1000\n",
       "3  580   716  287  box20_mass1000\n",
       "4  172  1132  353  box20_mass1000"
      ]
     },
     "execution_count": 87,
     "metadata": {},
     "output_type": "execute_result"
    }
   ],
   "source": [
    "ts_index = 0\n",
    "\n",
    "ts_name = eman2_particle_lists[ts_index].name.split(\"-\")[1][:6]\n",
    "print(ts_name)\n",
    "\n",
    "particle_data = json.load(open(eman2_particle_lists[ts_index]))\n",
    "\n",
    "box_class_map = {}\n",
    "for key in particle_data[\"class_list\"].keys():\n",
    "    box_class_map[str(key)] = particle_data[\"class_list\"][key][\"name\"]\n",
    "\n",
    "particle_df = pd.DataFrame(particle_data[\"boxes_3d\"], columns=[\"x\",\"y\",\"z\",\"\",\"\",\"box_class\"]).drop(columns=\"\")\n",
    "particle_df[\"box_class\"] = particle_df[\"box_class\"].astype(str).map(box_class_map)\n",
    "\n",
    "particle_df.head()\n"
   ]
  },
  {
   "cell_type": "code",
   "execution_count": 88,
   "metadata": {},
   "outputs": [],
   "source": [
    "tomogram_path = [tomogram for tomogram in eman2_directory.glob(f\"../isonet/corrected_iter30/{ts_name}*.mrc\")]\n",
    "segmentation_path = [seg for seg in eman2_directory.glob(f\"segmentations/{ts_name}*.mrc\")]\n",
    "if len(list(segmentation_path)) == 0:\n",
    "    #error: no file found\n",
    "    print(\"no file found\")\n",
    "    pass\n",
    "elif len(list(segmentation_path)) > 1:\n",
    "    #error: multiple files found\n",
    "    print(\"multiple files found\")\n",
    "    pass\n",
    "\n",
    "tomogram_layer = viewer.add_image(\n",
    "    mrcfile.read(tomogram_path[0]),\n",
    "    name=\"tomogram\",\n",
    "    blending=\"translucent\",\n",
    "    depiction=\"plane\",\n",
    "    visible=False,\n",
    ")\n",
    "segementation_layer = viewer.add_image(\n",
    "    mrcfile.read(segmentation_path[0]),\n",
    "    name=\"segmentation\",\n",
    "    blending=\"translucent\",\n",
    "    colormap=\"gist_earth\",\n",
    "    visible=False,\n",
    ")"
   ]
  },
  {
   "cell_type": "code",
   "execution_count": 90,
   "metadata": {},
   "outputs": [],
   "source": [
    "particle_data = json.load(open(eman2_particle_lists[ts_index]))\n",
    "\n",
    "box_class_map = {}\n",
    "for key in particle_data[\"class_list\"].keys():\n",
    "    box_class_map[str(key)] = particle_data[\"class_list\"][key][\"name\"]\n",
    "\n",
    "particle_df = pd.DataFrame(particle_data[\"boxes_3d\"], columns=[\"x\",\"y\",\"z\",\"\",\"\",\"box_class\"]).drop(columns=\"\")\n",
    "particle_df[\"box_class\"] = particle_df[\"box_class\"].astype(str).map(box_class_map)\n",
    "\n",
    "particle_df[\"x\"] = particle_df[\"x\"]# - 10\n",
    "colors = [\"red\", \"green\", \"blue\", \"yellow\", \"magenta\", \"cyan\", \"white\", \"gray\", \"black\",]\n",
    "i = 0\n",
    "for box_class in particle_df[\"box_class\"].unique():\n",
    "    viewer.add_points(\n",
    "        particle_df[particle_df[\"box_class\"] == box_class][[\"z\",\"y\",\"x\"]],\n",
    "        name=box_class,\n",
    "        blending=\"translucent\",\n",
    "        edge_color = \"red\",\n",
    "        edge_width = 0.2,\n",
    "        visible=False,\n",
    "    )\n",
    "    i += 1"
   ]
  },
  {
   "cell_type": "code",
   "execution_count": 47,
   "metadata": {},
   "outputs": [],
   "source": [
    "df.columns = [\"rlnCoordinateX\", \"rlnCoordinateY\", \"rlnCoordinateZ\"]\n",
    "rln_angles = [\"rlnAngleRot\", \"rlnAngleTilt\", \"rlnAnglePsi\"]\n",
    "for angle in rln_angles:\n",
    "    random_angles = np.random.randint(0, 179, size=len(df.index))\n",
    "    df[angle] = random_angles"
   ]
  },
  {
   "cell_type": "code",
   "execution_count": null,
   "metadata": {},
   "outputs": [],
   "source": []
  }
 ],
 "metadata": {
  "kernelspec": {
   "display_name": "devbio-napari-env",
   "language": "python",
   "name": "python3"
  },
  "language_info": {
   "codemirror_mode": {
    "name": "ipython",
    "version": 3
   },
   "file_extension": ".py",
   "mimetype": "text/x-python",
   "name": "python",
   "nbconvert_exporter": "python",
   "pygments_lexer": "ipython3",
   "version": "3.9.16"
  },
  "orig_nbformat": 4
 },
 "nbformat": 4,
 "nbformat_minor": 2
}
