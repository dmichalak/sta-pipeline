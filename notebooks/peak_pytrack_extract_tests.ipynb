{
 "cells": [
  {
   "cell_type": "code",
   "execution_count": 28,
   "metadata": {},
   "outputs": [],
   "source": [
    "from pathlib import Path\n",
    "import pandas as pd\n",
    "import numpy as np\n",
    "\n",
    "import trackpy as tp \n",
    "import mrcfile\n",
    "import napari\n",
    "import starfile\n",
    "from skimage.morphology import extrema\n",
    "from skimage.measure import label"
   ]
  },
  {
   "cell_type": "code",
   "execution_count": 2,
   "metadata": {},
   "outputs": [],
   "source": [
    "tomogram_path = Path(\"/mnt/scratch/ribosomes/kas_k44a/isonet/corrected_iter30/ts_003_b10_rec_corrected.mrc\").absolute()\n",
    "segmentation_path = Path(\"/mnt/scratch/ribosomes/kas_k44a/eman2/segmentations/ts_003_b10_rec_corrected__good_ribosomes-6.922_seg.mrc\").absolute()\n",
    "\n",
    "ts_name = \"ts_003\""
   ]
  },
  {
   "cell_type": "code",
   "execution_count": 3,
   "metadata": {},
   "outputs": [],
   "source": [
    "tomogram_mrc = mrcfile.read(tomogram_path)\n",
    "segmentation_mrc = mrcfile.read(segmentation_path)"
   ]
  },
  {
   "cell_type": "code",
   "execution_count": 4,
   "metadata": {},
   "outputs": [
    {
     "data": {
      "text/plain": [
       "<Image layer 'segmentation' at 0x7fc4fdb6bc70>"
      ]
     },
     "execution_count": 4,
     "metadata": {},
     "output_type": "execute_result"
    }
   ],
   "source": [
    "viewer = napari.Viewer(ndisplay=3)\n",
    "viewer.add_image(\n",
    "    tomogram_mrc,\n",
    "    name=ts_name,\n",
    "    depiction=\"plane\",\n",
    "    blending=\"translucent\",\n",
    "    visible=False,\n",
    ")\n",
    "viewer.add_image(\n",
    "    segmentation_mrc, \n",
    "    name=\"segmentation\",\n",
    "    depiction=\"volume\",\n",
    "    blending=\"translucent\",\n",
    "    colormap=\"gist_earth\",\n",
    "    visible=False,\n",
    ")"
   ]
  },
  {
   "cell_type": "code",
   "execution_count": 26,
   "metadata": {},
   "outputs": [],
   "source": [
    "hmax_df = extrema.h_maxima(\n",
    "    segmentation_mrc,\n",
    "    h = 0.5, \n",
    ")"
   ]
  },
  {
   "cell_type": "code",
   "execution_count": 29,
   "metadata": {},
   "outputs": [],
   "source": [
    "maxes = label(hmax_df)"
   ]
  },
  {
   "cell_type": "code",
   "execution_count": 31,
   "metadata": {},
   "outputs": [
    {
     "data": {
      "text/plain": [
       "<Image layer 'maxes' at 0x7fc52e258e80>"
      ]
     },
     "execution_count": 31,
     "metadata": {},
     "output_type": "execute_result"
    }
   ],
   "source": [
    "viewer.add_image(maxes)"
   ]
  },
  {
   "cell_type": "code",
   "execution_count": 23,
   "metadata": {},
   "outputs": [],
   "source": [
    "tp_df = tp.locate(\n",
    "    segmentation_mrc, \n",
    "    diameter = 5,\n",
    "    separation = 5,\n",
    "    minmass = 30,\n",
    "    percentile = 80,\n",
    "    threshold = 1,\n",
    ")"
   ]
  },
  {
   "cell_type": "code",
   "execution_count": 24,
   "metadata": {},
   "outputs": [
    {
     "data": {
      "text/plain": [
       "<Points layer 'Points [2]' at 0x7fc52f39b310>"
      ]
     },
     "execution_count": 24,
     "metadata": {},
     "output_type": "execute_result"
    }
   ],
   "source": [
    "viewer.add_points(\n",
    "    tp_df[[\"z\",\"y\",\"x\"]],\n",
    "    blending=\"translucent\",\n",
    "    edge_color=\"red\",\n",
    "    edge_width=0.2,\n",
    "    visible=False,\n",
    ")\n"
   ]
  },
  {
   "cell_type": "code",
   "execution_count": 16,
   "metadata": {},
   "outputs": [
    {
     "data": {
      "text/html": [
       "<div>\n",
       "<style scoped>\n",
       "    .dataframe tbody tr th:only-of-type {\n",
       "        vertical-align: middle;\n",
       "    }\n",
       "\n",
       "    .dataframe tbody tr th {\n",
       "        vertical-align: top;\n",
       "    }\n",
       "\n",
       "    .dataframe thead th {\n",
       "        text-align: right;\n",
       "    }\n",
       "</style>\n",
       "<table border=\"1\" class=\"dataframe\">\n",
       "  <thead>\n",
       "    <tr style=\"text-align: right;\">\n",
       "      <th></th>\n",
       "      <th>z</th>\n",
       "      <th>y</th>\n",
       "      <th>x</th>\n",
       "      <th>mass</th>\n",
       "      <th>size</th>\n",
       "      <th>ecc</th>\n",
       "      <th>signal</th>\n",
       "      <th>raw_mass</th>\n",
       "      <th>ep</th>\n",
       "    </tr>\n",
       "  </thead>\n",
       "  <tbody>\n",
       "    <tr>\n",
       "      <th>count</th>\n",
       "      <td>918.000000</td>\n",
       "      <td>918.000000</td>\n",
       "      <td>918.000000</td>\n",
       "      <td>918.000000</td>\n",
       "      <td>918.000000</td>\n",
       "      <td>0.0</td>\n",
       "      <td>918.000000</td>\n",
       "      <td>918.000000</td>\n",
       "      <td>918.000000</td>\n",
       "    </tr>\n",
       "    <tr>\n",
       "      <th>mean</th>\n",
       "      <td>255.827433</td>\n",
       "      <td>458.586662</td>\n",
       "      <td>319.912222</td>\n",
       "      <td>521.734546</td>\n",
       "      <td>2.607624</td>\n",
       "      <td>NaN</td>\n",
       "      <td>4.942378</td>\n",
       "      <td>1685.874317</td>\n",
       "      <td>0.000893</td>\n",
       "    </tr>\n",
       "    <tr>\n",
       "      <th>std</th>\n",
       "      <td>60.588462</td>\n",
       "      <td>293.684624</td>\n",
       "      <td>240.655983</td>\n",
       "      <td>377.163474</td>\n",
       "      <td>0.218595</td>\n",
       "      <td>NaN</td>\n",
       "      <td>2.530684</td>\n",
       "      <td>1197.474269</td>\n",
       "      <td>0.000586</td>\n",
       "    </tr>\n",
       "    <tr>\n",
       "      <th>min</th>\n",
       "      <td>114.871987</td>\n",
       "      <td>8.101560</td>\n",
       "      <td>13.773277</td>\n",
       "      <td>62.015892</td>\n",
       "      <td>1.655092</td>\n",
       "      <td>NaN</td>\n",
       "      <td>2.288937</td>\n",
       "      <td>286.672279</td>\n",
       "      <td>0.000112</td>\n",
       "    </tr>\n",
       "    <tr>\n",
       "      <th>25%</th>\n",
       "      <td>207.767266</td>\n",
       "      <td>236.884421</td>\n",
       "      <td>117.644888</td>\n",
       "      <td>244.254635</td>\n",
       "      <td>2.512900</td>\n",
       "      <td>NaN</td>\n",
       "      <td>3.075759</td>\n",
       "      <td>816.881030</td>\n",
       "      <td>0.000448</td>\n",
       "    </tr>\n",
       "    <tr>\n",
       "      <th>50%</th>\n",
       "      <td>268.943921</td>\n",
       "      <td>362.621507</td>\n",
       "      <td>225.064311</td>\n",
       "      <td>418.696685</td>\n",
       "      <td>2.668259</td>\n",
       "      <td>NaN</td>\n",
       "      <td>4.220228</td>\n",
       "      <td>1323.138691</td>\n",
       "      <td>0.000739</td>\n",
       "    </tr>\n",
       "    <tr>\n",
       "      <th>75%</th>\n",
       "      <td>310.190698</td>\n",
       "      <td>628.485233</td>\n",
       "      <td>521.159551</td>\n",
       "      <td>696.319733</td>\n",
       "      <td>2.770904</td>\n",
       "      <td>NaN</td>\n",
       "      <td>6.223048</td>\n",
       "      <td>2183.807666</td>\n",
       "      <td>0.001197</td>\n",
       "    </tr>\n",
       "    <tr>\n",
       "      <th>max</th>\n",
       "      <td>390.226517</td>\n",
       "      <td>1120.008987</td>\n",
       "      <td>825.076515</td>\n",
       "      <td>2634.066018</td>\n",
       "      <td>2.928925</td>\n",
       "      <td>NaN</td>\n",
       "      <td>18.239968</td>\n",
       "      <td>8706.343185</td>\n",
       "      <td>0.003416</td>\n",
       "    </tr>\n",
       "  </tbody>\n",
       "</table>\n",
       "</div>"
      ],
      "text/plain": [
       "                z            y           x         mass        size  ecc  \\\n",
       "count  918.000000   918.000000  918.000000   918.000000  918.000000  0.0   \n",
       "mean   255.827433   458.586662  319.912222   521.734546    2.607624  NaN   \n",
       "std     60.588462   293.684624  240.655983   377.163474    0.218595  NaN   \n",
       "min    114.871987     8.101560   13.773277    62.015892    1.655092  NaN   \n",
       "25%    207.767266   236.884421  117.644888   244.254635    2.512900  NaN   \n",
       "50%    268.943921   362.621507  225.064311   418.696685    2.668259  NaN   \n",
       "75%    310.190698   628.485233  521.159551   696.319733    2.770904  NaN   \n",
       "max    390.226517  1120.008987  825.076515  2634.066018    2.928925  NaN   \n",
       "\n",
       "           signal     raw_mass          ep  \n",
       "count  918.000000   918.000000  918.000000  \n",
       "mean     4.942378  1685.874317    0.000893  \n",
       "std      2.530684  1197.474269    0.000586  \n",
       "min      2.288937   286.672279    0.000112  \n",
       "25%      3.075759   816.881030    0.000448  \n",
       "50%      4.220228  1323.138691    0.000739  \n",
       "75%      6.223048  2183.807666    0.001197  \n",
       "max     18.239968  8706.343185    0.003416  "
      ]
     },
     "execution_count": 16,
     "metadata": {},
     "output_type": "execute_result"
    }
   ],
   "source": [
    "tp_df.describe()"
   ]
  },
  {
   "cell_type": "code",
   "execution_count": 17,
   "metadata": {},
   "outputs": [
    {
     "ename": "SyntaxError",
     "evalue": "invalid syntax (723774918.py, line 7)",
     "output_type": "error",
     "traceback": [
      "\u001b[0;36m  Cell \u001b[0;32mIn[17], line 7\u001b[0;36m\u001b[0m\n\u001b[0;31m    peaks =\u001b[0m\n\u001b[0m            ^\u001b[0m\n\u001b[0;31mSyntaxError\u001b[0m\u001b[0;31m:\u001b[0m invalid syntax\n"
     ]
    }
   ],
   "source": [
    "tomo_bin_factor = 10\n",
    "\n",
    "rln_coordinates = [\"rlnCoordinateZ\", \"rlnCoordinateY\", \"rlnCoordinateX\"]\n",
    "rln_angles = [\"rlnAngleRot\", \"rlnAngleTilt\", \"rlnAnglePsi\"]\n",
    "\n",
    "# Load the segmentation data, identify particle positions, and write them to a star file\n",
    "peaks = \n",
    "\n",
    "# Convert the peak coordinates to RELION's coordinate system\n",
    "rln_df = pd.DataFrame(peaks * tomo_bin_factor, columns=rln_coordinates)\n",
    "\n",
    "# Add random orientations to each peak\n",
    "for angle in rln_angles:\n",
    "    random_angles = np.random.randint(0, 179, size=len(rln_df.index))\n",
    "    rln_df[angle] = random_angles\n",
    "\n",
    "rln_df[\"rlnTomoName\"] = ts_name\n",
    "\n",
    "# Write the star file\n",
    "starfile_name = f\"peaks_abs{threshold_abs}_dist{min_peak_distance_px}_{ts_name}.star\"\n",
    "peaks_directory = Path(\"/mnt/scratch/ribosomes/kas_k44a/eman2/\").absolute()\n",
    "starfile.write(rln_df, peaks_directory / starfile_name, overwrite=True)\n",
    "\n",
    "\n"
   ]
  },
  {
   "cell_type": "code",
   "execution_count": null,
   "metadata": {},
   "outputs": [],
   "source": []
  }
 ],
 "metadata": {
  "kernelspec": {
   "display_name": "devbio-napari-env",
   "language": "python",
   "name": "python3"
  },
  "language_info": {
   "codemirror_mode": {
    "name": "ipython",
    "version": 3
   },
   "file_extension": ".py",
   "mimetype": "text/x-python",
   "name": "python",
   "nbconvert_exporter": "python",
   "pygments_lexer": "ipython3",
   "version": "3.9.16"
  },
  "orig_nbformat": 4
 },
 "nbformat": 4,
 "nbformat_minor": 2
}
