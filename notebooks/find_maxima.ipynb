{
 "cells": [
  {
   "cell_type": "code",
   "execution_count": 20,
   "metadata": {},
   "outputs": [],
   "source": [
    "from pathlib import Path\n",
    "import pandas as pd\n",
    "import numpy as np\n",
    "from skimage.feature import peak_local_max\n",
    "import mrcfile\n",
    "import napari\n",
    "import starfile"
   ]
  },
  {
   "cell_type": "code",
   "execution_count": 14,
   "metadata": {},
   "outputs": [],
   "source": [
    "# Specify tomograms to ignore\n",
    "\"\"\" To remove these from a star file use\n",
    "relion_star_handler --i particles.star --o new_particles.star --select_by_str rlnTomoName --select_exclude ts001\n",
    "\"\"\"\n",
    "\n",
    "tomos_to_ignore = [ # no ribosomes or no sample\n",
    "#    \"ts001\",\n",
    "#    \"ts012\",\n",
    "#    \"ts019\",\n",
    "#    \"ts021\",\n",
    "#    \"ts022\",\n",
    "#    \"ts023\",\n",
    "#    \"ts025\",\n",
    "#    \"ts026\",\n",
    "#    \"ts027\",\n",
    "#    #\"ts028\", # weird ribosome like shapes\n",
    "#    \"ts029\",\n",
    "#    \"ts031\",\n",
    "#    \"ts036\",\n",
    "#    \"ts039\",\n",
    "]\n",
    "\n",
    "tomos_with_bad_alignment = [ # incomplete list\n",
    "#    \"ts001\",\n",
    "#    \"ts034\",\n",
    "]\n"
   ]
  },
  {
   "cell_type": "markdown",
   "metadata": {},
   "source": [
    "### Set paths to tomograms and their segmentations. Set pixel size, bin factor, peak separation."
   ]
  },
  {
   "cell_type": "code",
   "execution_count": 15,
   "metadata": {},
   "outputs": [
    {
     "name": "stdout",
     "output_type": "stream",
     "text": [
      "Peaks will be at least 10.825 nm apart.\n"
     ]
    }
   ],
   "source": [
    "eman2_directory = Path(\"/mnt/scratch/ribosomes/kas_k44a/eman2/\").absolute()\n",
    "tomo_directory = (eman2_directory / Path(\"tomos/\")).absolute()\n",
    "segment_directory = (eman2_directory / Path(\"segmentations/\")).absolute()\n",
    "\n",
    "tomo_bin_factor = 10\n",
    "peak_separation = 10 # pixels\n",
    "unbinned_pixel_size = 1.0825\n",
    "print(f\"Peaks will be at least {peak_separation * tomo_bin_factor * unbinned_pixel_size / 10.0} nm apart.\")\n",
    "seg_file_string = \"inverted_ribosomes_good_seg.mrc\"\n",
    "ts_index = 0\n",
    "\n",
    "# Construct dictionary\n",
    "ts_dict = {}\n",
    "\n",
    "for tomo_path in sorted(tomo_directory.glob(\"*.mrc\")):\n",
    "    ts_name = tomo_path.stem.split(\"__\")[0]\n",
    "\n",
    "    # Check if tomo should be ignored\n",
    "    if ts_name in tomos_to_ignore:\n",
    "        continue\n",
    "\n",
    "    ts_dict[ts_name] = {}\n",
    "    segment_path = segment_directory / Path(f\"{ts_name}__{seg_file_string}\")\n",
    "\n",
    "    if tomo_path.is_file() and segment_path.is_file():\n",
    "        ts_dict[ts_name][\"tomo_path\"] = tomo_path\n",
    "        ts_dict[ts_name][\"segment_path\"] = segment_directory / Path(f\"{ts_name}__{seg_file_string}\") \n",
    "        ts_dict[ts_name][\"peaks\"] = None\n"
   ]
  },
  {
   "cell_type": "markdown",
   "metadata": {},
   "source": [
    "### Set relative and absolute peak thresholds. Run the peak_local_max calcuation for each segmentation."
   ]
  },
  {
   "cell_type": "code",
   "execution_count": 16,
   "metadata": {},
   "outputs": [
    {
     "name": "stdout",
     "output_type": "stream",
     "text": [
      "Finding peaks in ts_001_b10_rec ...\n",
      "Found 216 peaks.\n",
      "Finding peaks in ts_002_b10_rec ...\n",
      "Found 756 peaks.\n",
      "Finding peaks in ts_003_b10_rec ...\n",
      "Found 346 peaks.\n",
      "Finding peaks in ts_004_b10_rec ...\n",
      "Found 196 peaks.\n",
      "Finding peaks in ts_005_b10_rec ...\n",
      "Found 236 peaks.\n",
      "Finding peaks in ts_006_b10_rec ...\n",
      "Found 123 peaks.\n",
      "Finding peaks in ts_007_b10_rec ...\n",
      "Found 193 peaks.\n",
      "Finding peaks in ts_008_b10_rec ...\n",
      "Found 365 peaks.\n",
      "Finding peaks in ts_009_b10_rec ...\n",
      "Found 378 peaks.\n",
      "Finding peaks in ts_010_b10_rec ...\n",
      "Found 356 peaks.\n",
      "Finding peaks in ts_011_b10_rec ...\n",
      "Found 313 peaks.\n",
      "Finding peaks in ts_012_b10_rec ...\n",
      "Found 574 peaks.\n",
      "Finding peaks in ts_013_b10_rec ...\n",
      "Found 181 peaks.\n",
      "Finding peaks in ts_014_b10_rec ...\n",
      "Found 295 peaks.\n",
      "Finding peaks in ts_015_b10_rec ...\n",
      "Found 379 peaks.\n",
      "Finding peaks in ts_016_b10_rec ...\n",
      "Found 238 peaks.\n",
      "Finding peaks in ts_017_b10_rec ...\n",
      "Found 206 peaks.\n",
      "Finding peaks in ts_018_b10_rec ...\n",
      "Found 191 peaks.\n",
      "Finding peaks in ts_019_b10_rec ...\n",
      "Found 604 peaks.\n",
      "Finding peaks in ts_020_b10_rec ...\n",
      "Found 337 peaks.\n",
      "Finding peaks in ts_021_b10_rec ...\n",
      "Found 290 peaks.\n"
     ]
    }
   ],
   "source": [
    "# peaks with intensity above threshold_abs or threshold_rel * max_intensity are saved\n",
    "threshold_rel = 0.2\n",
    "threshold_abs = 0.1\n",
    "\n",
    "border_size_in_nm = 45\n",
    "border_size_in_px = int(border_size_in_nm / (tomo_bin_factor * unbinned_pixel_size / 10))\n",
    "#print(border_size)\n",
    "peak_files = segment_directory.glob(\"*.peaks\")\n",
    "\n",
    "to_load = ts_dict.keys()\n",
    "\n",
    "for ts_name in to_load:\n",
    "    if Path(f\"{ts_name}_{threshold_abs}abs.peaks\").absolute() not in peak_files:\n",
    "        ts_dict[ts_name][\"tomogram_mrc\"] = mrcfile.read(ts_dict[ts_name][\"tomo_path\"])\n",
    "        ts_dict[ts_name][\"segment_mrc\"]= mrcfile.read(ts_dict[ts_name][\"segment_path\"])\n",
    "        print(\"Finding peaks in\", ts_name, \"...\")\n",
    "        peaks = peak_local_max(\n",
    "            ts_dict[ts_name][\"segment_mrc\"],\n",
    "            min_distance = peak_separation, \n",
    "            threshold_abs = threshold_abs, \n",
    "            threshold_rel = threshold_rel,\n",
    "            exclude_border = border_size_in_px,\n",
    "            )\n",
    "        print(\"Found\", len(peaks), \"peaks.\")\n",
    "        ts_dict[ts_name][\"peaks\"] = peaks\n",
    "        np.savetxt(segment_directory / f\"{ts_name}_abs{threshold_abs}rel{threshold_rel}.peaks\", peaks, delimiter=\"\\t\", fmt=\"%d\")\n",
    "    ts_index += 1\n"
   ]
  },
  {
   "cell_type": "markdown",
   "metadata": {},
   "source": [
    "### View each tomogram, segmentation, and peak positions in Napari"
   ]
  },
  {
   "cell_type": "code",
   "execution_count": 12,
   "metadata": {},
   "outputs": [],
   "source": [
    "viewer = napari.Viewer(ndisplay=3)\n",
    "for ts_name in to_load:\n",
    "    viewer.add_image(\n",
    "        ts_dict[ts_name][\"tomogram_mrc\"], \n",
    "        name=f\"{ts_name} tomogram\",\n",
    "        depiction=\"plane\",\n",
    "        blending=\"translucent\",\n",
    "        contrast_limits=[-15, 15],\n",
    "        visible=False,\n",
    "    )\n",
    "    viewer.add_image(\n",
    "        ts_dict[ts_name][\"segment_mrc\"],\n",
    "        name=f\"{ts_name} segment\",\n",
    "        depiction=\"volume\",\n",
    "        blending=\"translucent\",\n",
    "        colormap=\"gist_earth\",\n",
    "        visible=False,\n",
    "    )\n",
    "    viewer.add_points(\n",
    "        ts_dict[ts_name][\"peaks\"], \n",
    "        name=f\"{ts_name} peaks\",\n",
    "        blending=\"translucent\",\n",
    "        edge_color=\"red\",\n",
    "        edge_width=0.2, \n",
    "        visible=False\n",
    "    )\n"
   ]
  },
  {
   "cell_type": "markdown",
   "metadata": {},
   "source": [
    "Save the peak positions in a star file for each tomogram."
   ]
  },
  {
   "cell_type": "code",
   "execution_count": 22,
   "metadata": {},
   "outputs": [],
   "source": [
    "# Convert the calculated peak coordinates from binned space to unbinned space. Star files for RELION required unbinned coordinates.\n",
    "rln_coordinates = [\"rlnCoordinateZ\", \"rlnCoordinateY\", \"rlnCoordinateX\"]\n",
    "rln_angles = [\"rlnAngleRot\", \"rlnAngleTilt\", \"rlnAnglePsi\"]\n",
    "\n",
    "#rln_tomoname = \"ts002\"\n",
    "#peak_coords_df = pd.DataFrame(peak_coords,columns=rln_coordinates)\n",
    "#unbinned_peak_coords_df = pd.DataFrame()\n",
    "#for coordinate in rln_coordinates:\n",
    "#    unbinned_peak_coords_df[coordinate] = tomo_bin_factor * peak_coords_df[coordinate]\n",
    "#for angle in rln_angles:\n",
    "#    unbinned_peak_coords_df[angle] = 0.0\n",
    "#unbinned_peak_coords_df[\"rlnTomoName\"] = rln_tomoname\n",
    "#unbinned_peak_coords_df.head(3)\n",
    "#\n",
    "# Create empty pd columns and append entries for every tomogram in tomos\n",
    "name_i = 0\n",
    "unbinned_peak_coords_dict = {}\n",
    "\n",
    "import numpy as np\n",
    "\n",
    "for ts_name in to_load:\n",
    "    short_ts_name = ts_name.split(\"_b\")[0]\n",
    "    unbinned_peak_coords_dict[ts_name] = pd.DataFrame(ts_dict[ts_name][\"peaks\"] * tomo_bin_factor,columns=rln_coordinates)\n",
    "    for angle in rln_angles:\n",
    "        random_angles = np.random.randint(0,179,size=len(unbinned_peak_coords_dict[ts_name].index))\n",
    "        unbinned_peak_coords_dict[ts_name][angle] = random_angles\n",
    "    unbinned_peak_coords_dict[ts_name][\"rlnTomoName\"] = short_ts_name\n",
    "    name_i+=1\n",
    "\n",
    "    px_shift = 10\n",
    "    unbinned_peak_coords_dict[ts_name][\"rlnCoordinateX\"] = unbinned_peak_coords_dict[ts_name][\"rlnCoordinateX\"] - px_shift\n",
    "    write_path = segment_directory / f\"particles_{short_ts_name}.star\"\n",
    "    output_star_df = {}\n",
    "    optics_columns = [\n",
    "        \"rlnOpticsGroup\",\n",
    "        \"rlnOpticsGroupName\",\n",
    "        \"rlnSphericalAberration\",\n",
    "        \"rlnVoltage\",\n",
    "        \"rlnTomoTiltSeriesPixelSize\",\n",
    "    ]\n",
    "    output_star_df[\"optics\"] = pd.DataFrame(columns=optics_columns) \n",
    "    output_star_df[\"optics\"].loc[len(output_star_df[\"optics\"])] = [1, \"opticsGroup1\", 2.7, 300, 1.0825]\n",
    "    output_star_df[\"particles\"] = unbinned_peak_coords_dict[ts_name]\n",
    "    output_star_df[\"particles\"][\"rlnOpticsGroup\"] = 1\n",
    "    output_star_df[\"particles\"][\"rlnOriginXAngst\"] = 0.0\n",
    "    output_star_df[\"particles\"][\"rlnOriginYAngst\"] = 0.0\n",
    "    output_star_df[\"particles\"][\"rlnOriginZAngst\"] = 0.0\n",
    "\n",
    "\n",
    "    starfile.write(output_star_df, write_path, overwrite=True)"
   ]
  },
  {
   "cell_type": "code",
   "execution_count": null,
   "metadata": {},
   "outputs": [],
   "source": []
  },
  {
   "cell_type": "markdown",
   "metadata": {},
   "source": [
    "### Save all peak positions in all tomograms to a single star file."
   ]
  },
  {
   "cell_type": "code",
   "execution_count": 23,
   "metadata": {},
   "outputs": [],
   "source": [
    "# Initialize the df that will be written to the star file\n",
    "output_star_df = {}\n",
    "output_star_df[\"optics\"] = pd.DataFrame(columns=optics_columns)\n",
    "output_star_df[\"optics\"].loc[len(output_star_df[\"optics\"])] = [1, \"opticsGroup1\", 2.7, 300, 1.0825]\n",
    "output_star_df[\"particles\"] = pd.DataFrame(columns=rln_coordinates+rln_angles+[\"rlnTomoName\"])\n",
    "output_star_df[\"particles\"][\"rlnOpticsGroup\"] = 1\n",
    "output_star_df[\"particles\"][\"rlnOriginXAngst\"] = 0.0\n",
    "output_star_df[\"particles\"][\"rlnOriginYAngst\"] = 0.0\n",
    "output_star_df[\"particles\"][\"rlnOriginZAngst\"] = 0.0\n",
    "\n",
    "# Concatenate particle dfs from each tomogram into one\n",
    "for ts_name in unbinned_peak_coords_dict.keys():\n",
    "    output_star_df[\"particles\"]= pd.concat([output_star_df[\"particles\"], unbinned_peak_coords_dict[ts_name]], ignore_index=True)\n",
    "\n",
    "# Write the star file\n",
    "write_path = segment_directory / f\"particles_abs{threshold_abs}rel{threshold_rel}.star\"\n",
    "starfile.write(output_star_df, write_path, overwrite=True)\n"
   ]
  }
 ],
 "metadata": {
  "kernelspec": {
   "display_name": "napari",
   "language": "python",
   "name": "python3"
  },
  "language_info": {
   "codemirror_mode": {
    "name": "ipython",
    "version": 3
   },
   "file_extension": ".py",
   "mimetype": "text/x-python",
   "name": "python",
   "nbconvert_exporter": "python",
   "pygments_lexer": "ipython3",
   "version": "3.9.16"
  },
  "orig_nbformat": 4
 },
 "nbformat": 4,
 "nbformat_minor": 2
}
