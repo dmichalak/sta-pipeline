{
 "cells": [
  {
   "cell_type": "code",
   "execution_count": 5,
   "metadata": {},
   "outputs": [],
   "source": [
    "from pathlib import Path\n",
    "import pandas as pd\n",
    "\n",
    "import starfile\n",
    "import dynamotable\n"
   ]
  },
  {
   "cell_type": "code",
   "execution_count": 3,
   "metadata": {},
   "outputs": [],
   "source": [
    "working_directory = Path(\"/mnt/scratch/ribosomes/kas_k44a/old_relion/\")\n",
    "input_starfile = {}\n",
    "\n",
    "optics_columns = [\n",
    "    \"rlnOpticsGroup\",\n",
    "    \"rlnOpticsGroupName\",\n",
    "    \"rlnSphericalAberration\",\n",
    "    \"rlnVoltage\",\n",
    "    \"rlnTomoTiltSeriesPixelSize\",\n",
    "    \"rlnCtfDataAreCtfPremultiplied\",\n",
    "    \"rlnImageDimensionality\",\n",
    "    \"rlnTomoSubtomogramBinning\",\n",
    "    \"rlnImagePixelSize\",\n",
    "    \"rlnImageSize\",\n",
    "]\n",
    "input_starfile[\"optics\"] = pd.DataFrame(columns=optics_columns) \n",
    "input_starfile[\"optics\"].loc[len(input_starfile[\"optics\"])] = [1, \"opticsGroup1\", 2.7, 300, 1.0825, 1, 3, 8, 8.66, 64]\n",
    "input_starfile[\"particles\"] = starfile.read(\"/mnt/scratch/ribosomes/kas_k44a/eman2/inverted_seg_particles/particles_abs0.1rel0.1.star\")\n",
    "input_starfile[\"particles\"].rename(columns={\"rlnOriginX\": \"rlnOriginXAngst\", \"rlnOriginY\": \"rlnOriginYAngst\", \"rlnOriginZ\": \"rlnOriginZAngst\", \"rlnMicrographName\" : \"rlnTomoName\"}, inplace=True)\n",
    "input_starfile[\"particles\"][\"rlnTomoName\"] = input_starfile[\"particles\"][\"rlnTomoName\"].str.replace(\".mrc\", \"\")\n",
    "#input_starfile[\"particles\"].drop(columns=[\"rlnPixelSize\"], inplace=True)\n",
    "\n",
    "input_starfile[\"particles\"][\"rlnOpticsGroup\"] = 1"
   ]
  },
  {
   "cell_type": "code",
   "execution_count": 4,
   "metadata": {},
   "outputs": [
    {
     "data": {
      "text/html": [
       "<div>\n",
       "<style scoped>\n",
       "    .dataframe tbody tr th:only-of-type {\n",
       "        vertical-align: middle;\n",
       "    }\n",
       "\n",
       "    .dataframe tbody tr th {\n",
       "        vertical-align: top;\n",
       "    }\n",
       "\n",
       "    .dataframe thead th {\n",
       "        text-align: right;\n",
       "    }\n",
       "</style>\n",
       "<table border=\"1\" class=\"dataframe\">\n",
       "  <thead>\n",
       "    <tr style=\"text-align: right;\">\n",
       "      <th></th>\n",
       "      <th>rlnCoordinateZ</th>\n",
       "      <th>rlnCoordinateY</th>\n",
       "      <th>rlnCoordinateX</th>\n",
       "      <th>rlnAngleRot</th>\n",
       "      <th>rlnAngleTilt</th>\n",
       "      <th>rlnAnglePsi</th>\n",
       "      <th>rlnTomoName</th>\n",
       "      <th>rlnOpticsGroup</th>\n",
       "    </tr>\n",
       "  </thead>\n",
       "  <tbody>\n",
       "    <tr>\n",
       "      <th>0</th>\n",
       "      <td>2730</td>\n",
       "      <td>5180</td>\n",
       "      <td>580</td>\n",
       "      <td>53</td>\n",
       "      <td>114</td>\n",
       "      <td>3</td>\n",
       "      <td>ts_001_b10</td>\n",
       "      <td>1</td>\n",
       "    </tr>\n",
       "    <tr>\n",
       "      <th>1</th>\n",
       "      <td>2640</td>\n",
       "      <td>4880</td>\n",
       "      <td>600</td>\n",
       "      <td>63</td>\n",
       "      <td>135</td>\n",
       "      <td>7</td>\n",
       "      <td>ts_001_b10</td>\n",
       "      <td>1</td>\n",
       "    </tr>\n",
       "    <tr>\n",
       "      <th>2</th>\n",
       "      <td>2040</td>\n",
       "      <td>8480</td>\n",
       "      <td>600</td>\n",
       "      <td>44</td>\n",
       "      <td>76</td>\n",
       "      <td>4</td>\n",
       "      <td>ts_001_b10</td>\n",
       "      <td>1</td>\n",
       "    </tr>\n",
       "    <tr>\n",
       "      <th>3</th>\n",
       "      <td>2310</td>\n",
       "      <td>4420</td>\n",
       "      <td>620</td>\n",
       "      <td>134</td>\n",
       "      <td>109</td>\n",
       "      <td>83</td>\n",
       "      <td>ts_001_b10</td>\n",
       "      <td>1</td>\n",
       "    </tr>\n",
       "    <tr>\n",
       "      <th>4</th>\n",
       "      <td>2760</td>\n",
       "      <td>10680</td>\n",
       "      <td>700</td>\n",
       "      <td>58</td>\n",
       "      <td>78</td>\n",
       "      <td>113</td>\n",
       "      <td>ts_001_b10</td>\n",
       "      <td>1</td>\n",
       "    </tr>\n",
       "  </tbody>\n",
       "</table>\n",
       "</div>"
      ],
      "text/plain": [
       "   rlnCoordinateZ  rlnCoordinateY  rlnCoordinateX  rlnAngleRot  rlnAngleTilt  \\\n",
       "0            2730            5180             580           53           114   \n",
       "1            2640            4880             600           63           135   \n",
       "2            2040            8480             600           44            76   \n",
       "3            2310            4420             620          134           109   \n",
       "4            2760           10680             700           58            78   \n",
       "\n",
       "   rlnAnglePsi rlnTomoName  rlnOpticsGroup  \n",
       "0            3  ts_001_b10               1  \n",
       "1            7  ts_001_b10               1  \n",
       "2            4  ts_001_b10               1  \n",
       "3           83  ts_001_b10               1  \n",
       "4          113  ts_001_b10               1  "
      ]
     },
     "execution_count": 4,
     "metadata": {},
     "output_type": "execute_result"
    }
   ],
   "source": [
    "input_starfile[\"particles\"].sort_values(\n",
    "    by=[\"rlnTomoName\", \"rlnCoordinateX\", \"rlnCoordinateY\",\"rlnCoordinateZ\"], \n",
    "    inplace=True, \n",
    "    ignore_index=True\n",
    "    )\n",
    "input_starfile[\"particles\"].head()\n"
   ]
  },
  {
   "cell_type": "code",
   "execution_count": 48,
   "metadata": {},
   "outputs": [
    {
     "name": "stderr",
     "output_type": "stream",
     "text": [
      "/tmp/ipykernel_416344/1926229425.py:6: SettingWithCopyWarning: \n",
      "A value is trying to be set on a copy of a slice from a DataFrame.\n",
      "Try using .loc[row_indexer,col_indexer] = value instead\n",
      "\n",
      "See the caveats in the documentation: https://pandas.pydata.org/pandas-docs/stable/user_guide/indexing.html#returning-a-view-versus-a-copy\n",
      "  output_starfile[\"particles\"][\"rlnCoordinateZ\"] = output_starfile[\"particles\"][\"rlnCoordinateZ\"] - 100\n"
     ]
    }
   ],
   "source": [
    "for rlnTomoName in input_starfile[\"particles\"][\"rlnTomoName\"].unique():\n",
    "    output_starfile = input_starfile.copy()\n",
    "    output_starfile[\"particles\"] = output_starfile[\"particles\"][\n",
    "        output_starfile[\"particles\"][\"rlnTomoName\"] == rlnTomoName\n",
    "    ]\n",
    "    output_starfile[\"particles\"][\"rlnCoordinateZ\"] = output_starfile[\"particles\"][\"rlnCoordinateZ\"] - 100\n",
    "    starfile.write(output_starfile, working_directory / f\"{rlnTomoName.split('.')[0]}_particles.star\", overwrite=True)"
   ]
  },
  {
   "cell_type": "code",
   "execution_count": 57,
   "metadata": {},
   "outputs": [],
   "source": [
    "ts001 = starfile.read(working_directory / \"run_data.star\")\n",
    "ts001[\"particles\"] = ts001[\"particles\"][ts001[\"particles\"][\"rlnMicrographName\"] == \"/data/michalakdj/202206_kas_krios/frames/reconstruction/AAA1_tilt030.mrc_8.66Apx.mrc\"]\n",
    "\n",
    "ts001[\"particles\"][\"rlnCoordinateX\"] = ts001[\"particles\"][\"rlnCoordinateX\"] - 100 * (8.66 / 3.0)\n",
    "ts001[\"particles\"][\"rlnCoordinateY\"] = ts001[\"particles\"][\"rlnCoordinateY\"] - 100 * (8.66 / 3.0)\n",
    "ts001[\"particles\"][\"rlnCoordinateZ\"] = ts001[\"particles\"][\"rlnCoordinateZ\"] - 100 * (8.66 / 3.0)\n",
    "starfile.write(ts001, working_directory / \"run_data_ts001.star\", overwrite=True)"
   ]
  },
  {
   "cell_type": "code",
   "execution_count": 53,
   "metadata": {},
   "outputs": [
    {
     "data": {
      "text/plain": [
       "207"
      ]
     },
     "execution_count": 53,
     "metadata": {},
     "output_type": "execute_result"
    }
   ],
   "source": [
    "len(ts001[\"particles\"].value_counts())"
   ]
  },
  {
   "cell_type": "code",
   "execution_count": 58,
   "metadata": {},
   "outputs": [
    {
     "name": "stderr",
     "output_type": "stream",
     "text": [
      "/tmp/ipykernel_500276/3578741538.py:7: SettingWithCopyWarning: \n",
      "A value is trying to be set on a copy of a slice from a DataFrame.\n",
      "Try using .loc[row_indexer,col_indexer] = value instead\n",
      "\n",
      "See the caveats in the documentation: https://pandas.pydata.org/pandas-docs/stable/user_guide/indexing.html#returning-a-view-versus-a-copy\n",
      "  ts_001_df[\"particles\"][\"rlnCoordinateX\"] = ts_001_df[\"particles\"][\"rlnCoordinateX\"] * (3/10.825)\n",
      "/tmp/ipykernel_500276/3578741538.py:8: SettingWithCopyWarning: \n",
      "A value is trying to be set on a copy of a slice from a DataFrame.\n",
      "Try using .loc[row_indexer,col_indexer] = value instead\n",
      "\n",
      "See the caveats in the documentation: https://pandas.pydata.org/pandas-docs/stable/user_guide/indexing.html#returning-a-view-versus-a-copy\n",
      "  ts_001_df[\"particles\"][\"rlnCoordinateY\"] = ts_001_df[\"particles\"][\"rlnCoordinateY\"] * (3/10.825)\n",
      "/tmp/ipykernel_500276/3578741538.py:9: SettingWithCopyWarning: \n",
      "A value is trying to be set on a copy of a slice from a DataFrame.\n",
      "Try using .loc[row_indexer,col_indexer] = value instead\n",
      "\n",
      "See the caveats in the documentation: https://pandas.pydata.org/pandas-docs/stable/user_guide/indexing.html#returning-a-view-versus-a-copy\n",
      "  ts_001_df[\"particles\"][\"rlnCoordinateZ\"] = ts_001_df[\"particles\"][\"rlnCoordinateZ\"] * (3/10.825) - 40\n",
      "/tmp/ipykernel_500276/3578741538.py:10: SettingWithCopyWarning: \n",
      "A value is trying to be set on a copy of a slice from a DataFrame.\n",
      "Try using .loc[row_indexer,col_indexer] = value instead\n",
      "\n",
      "See the caveats in the documentation: https://pandas.pydata.org/pandas-docs/stable/user_guide/indexing.html#returning-a-view-versus-a-copy\n",
      "  ts_001_df[\"particles\"][\"rlnTomoName\"] = \"ts_001\"\n"
     ]
    }
   ],
   "source": [
    "old_relion_star = starfile.read(\"/mnt/scratch/ribosomes/kas_k44a/old_relion/run_data.star\")\n",
    "\n",
    "ts_001_df = old_relion_star.copy()\n",
    "ts_001_df[\"optics\"][\"rlnTomoTiltSeriesPixelSize\"] = 3\n",
    "\n",
    "ts_001_df[\"particles\"] = old_relion_star[\"particles\"][old_relion_star[\"particles\"][\"rlnMicrographName\"] == '/data/michalakdj/202206_kas_krios/frames/reconstruction/AAA1_tilt030.mrc_8.66Apx.mrc']\n",
    "ts_001_df[\"particles\"][\"rlnCoordinateX\"] = ts_001_df[\"particles\"][\"rlnCoordinateX\"] * (3/10.825)\n",
    "ts_001_df[\"particles\"][\"rlnCoordinateY\"] = ts_001_df[\"particles\"][\"rlnCoordinateY\"] * (3/10.825)\n",
    "ts_001_df[\"particles\"][\"rlnCoordinateZ\"] = ts_001_df[\"particles\"][\"rlnCoordinateZ\"] * (3/10.825) - 40\n",
    "ts_001_df[\"particles\"][\"rlnTomoName\"] = \"ts_001\""
   ]
  },
  {
   "cell_type": "code",
   "execution_count": 59,
   "metadata": {},
   "outputs": [],
   "source": [
    "starfile.write(ts_001_df, \"/mnt/scratch/ribosomes/kas_k44a/old_relion/ts_001.star\", overwrite=True)"
   ]
  },
  {
   "cell_type": "code",
   "execution_count": 49,
   "metadata": {},
   "outputs": [
    {
     "data": {
      "text/plain": [
       "'/data/michalakdj/202206_kas_krios/frames/reconstruction/AAA1_tilt030.mrc_8.66Apx.mrc'"
      ]
     },
     "execution_count": 49,
     "metadata": {},
     "output_type": "execute_result"
    }
   ],
   "source": [
    "\n",
    "old_relion_star[\"particles\"][\"rlnMicrographName\"][0]"
   ]
  },
  {
   "cell_type": "code",
   "execution_count": null,
   "metadata": {},
   "outputs": [],
   "source": []
  }
 ],
 "metadata": {
  "kernelspec": {
   "display_name": "napari",
   "language": "python",
   "name": "python3"
  },
  "language_info": {
   "codemirror_mode": {
    "name": "ipython",
    "version": 3
   },
   "file_extension": ".py",
   "mimetype": "text/x-python",
   "name": "python",
   "nbconvert_exporter": "python",
   "pygments_lexer": "ipython3",
   "version": "3.9.16"
  },
  "orig_nbformat": 4
 },
 "nbformat": 4,
 "nbformat_minor": 2
}
