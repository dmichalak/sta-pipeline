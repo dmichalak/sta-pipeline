{
 "cells": [
  {
   "cell_type": "code",
   "execution_count": 1,
   "metadata": {},
   "outputs": [],
   "source": [
    "from pathlib import Path\n",
    "import pandas as pd\n",
    "\n",
    "import starfile\n",
    "import dynamotable\n"
   ]
  },
  {
   "cell_type": "code",
   "execution_count": 3,
   "metadata": {},
   "outputs": [],
   "source": [
    "working_directory = Path(\"/mnt/scratch/ribosomes/kas_k44a/\")\n",
    "input_starfile = {}\n",
    "\n",
    "optics_columns = [\n",
    "    \"rlnOpticsGroup\",\n",
    "    \"rlnOpticsGroupName\",\n",
    "    \"rlnSphericalAberration\",\n",
    "    \"rlnVoltage\",\n",
    "    \"rlnTomoTiltSeriesPixelSize\",\n",
    "    \"rlnCtfDataAreCtfPremultiplied\",\n",
    "    \"rlnImageDimensionality\",\n",
    "    \"rlnTomoSubtomogramBinning\",\n",
    "    \"rlnImagePixelSize\",\n",
    "    \"rlnImageSize\",\n",
    "]\n",
    "\n",
    "input_starfile = starfile.read(\"/mnt/scratch/ribosomes/kas_k44a/eman2/segmentations/particles_abs0.1rel0.1.star\")\n",
    "#input_starfile[\"optics\"] = pd.DataFrame(columns=optics_columns) \n",
    "#input_starfile[\"optics\"].loc[len(input_starfile[\"optics\"])] = [1, \"opticsGroup1\", 2.7, 300, 1.0825, 1, 3, 8, 8.66, 64]\n",
    "#input_starfile[\"particles\"] = starfile.read(\"/mnt/scratch/ribosomes/kas_k44a/eman2/segmentations/particles_abs0.1rel0.1.star\")\n",
    "#input_starfile[\"particles\"].rename(columns={\"rlnOriginX\": \"rlnOriginXAngst\", \"rlnOriginY\": \"rlnOriginYAngst\", \"rlnOriginZ\": \"rlnOriginZAngst\", \"rlnMicrographName\" : \"rlnTomoName\"}, inplace=True)\n",
    "#input_starfile[\"particles\"][\"rlnTomoName\"] = input_starfile[\"particles\"][\"rlnTomoName\"].str.replace(\".mrc\", \"\")\n",
    "##input_starfile[\"particles\"].drop(columns=[\"rlnPixelSize\"], inplace=True)\n",
    "#\n",
    "#input_starfile[\"particles\"][\"rlnOpticsGroup\"] = 1"
   ]
  },
  {
   "cell_type": "code",
   "execution_count": null,
   "metadata": {},
   "outputs": [],
   "source": [
    "input_starfile[\"particles\"].sort_values(\n",
    "    by=[\"rlnTomoName\", \"rlnCoordinateX\", \"rlnCoordinateY\",\"rlnCoordinateZ\"], \n",
    "    inplace=True, \n",
    "    ignore_index=True\n",
    "    )\n",
    "input_starfile[\"particles\"].head()\n"
   ]
  },
  {
   "cell_type": "code",
   "execution_count": null,
   "metadata": {},
   "outputs": [],
   "source": [
    "for rlnTomoName in input_starfile[\"particles\"][\"rlnTomoName\"].unique():\n",
    "    output_starfile = input_starfile.copy()\n",
    "    output_starfile[\"particles\"] = output_starfile[\"particles\"][\n",
    "        output_starfile[\"particles\"][\"rlnTomoName\"] == rlnTomoName\n",
    "    ]\n",
    "    output_starfile[\"particles\"][\"rlnCoordinateZ\"] = output_starfile[\"particles\"][\"rlnCoordinateZ\"] - 100\n",
    "    starfile.write(output_starfile, working_directory / f\"{rlnTomoName.split('.')[0]}_particles.star\", overwrite=True)"
   ]
  },
  {
   "cell_type": "code",
   "execution_count": null,
   "metadata": {},
   "outputs": [],
   "source": [
    "ts001 = starfile.read(working_directory / \"run_data.star\")\n",
    "ts001[\"particles\"] = ts001[\"particles\"][ts001[\"particles\"][\"rlnMicrographName\"] == \"/data/michalakdj/202206_kas_krios/frames/reconstruction/AAA1_tilt030.mrc_8.66Apx.mrc\"]\n",
    "\n",
    "ts001[\"particles\"][\"rlnCoordinateX\"] = ts001[\"particles\"][\"rlnCoordinateX\"] - 100 * (8.66 / 3.0)\n",
    "ts001[\"particles\"][\"rlnCoordinateY\"] = ts001[\"particles\"][\"rlnCoordinateY\"] - 100 * (8.66 / 3.0)\n",
    "ts001[\"particles\"][\"rlnCoordinateZ\"] = ts001[\"particles\"][\"rlnCoordinateZ\"] - 100 * (8.66 / 3.0)\n",
    "starfile.write(ts001, working_directory / \"run_data_ts001.star\", overwrite=True)"
   ]
  },
  {
   "cell_type": "code",
   "execution_count": null,
   "metadata": {},
   "outputs": [],
   "source": [
    "len(ts001[\"particles\"].value_counts())"
   ]
  },
  {
   "cell_type": "code",
   "execution_count": null,
   "metadata": {},
   "outputs": [],
   "source": [
    "old_relion_star = starfile.read(\"/mnt/scratch/ribosomes/kas_k44a/old_relion/run_data.star\")\n",
    "\n",
    "ts_001_df = old_relion_star.copy()\n",
    "ts_001_df[\"optics\"][\"rlnTomoTiltSeriesPixelSize\"] = 3\n",
    "\n",
    "ts_001_df[\"particles\"] = old_relion_star[\"particles\"][old_relion_star[\"particles\"][\"rlnMicrographName\"] == '/data/michalakdj/202206_kas_krios/frames/reconstruction/AAA1_tilt030.mrc_8.66Apx.mrc']\n",
    "ts_001_df[\"particles\"][\"rlnCoordinateX\"] = ts_001_df[\"particles\"][\"rlnCoordinateX\"] * (3/10.825)\n",
    "ts_001_df[\"particles\"][\"rlnCoordinateY\"] = ts_001_df[\"particles\"][\"rlnCoordinateY\"] * (3/10.825)\n",
    "ts_001_df[\"particles\"][\"rlnCoordinateZ\"] = ts_001_df[\"particles\"][\"rlnCoordinateZ\"] * (3/10.825)\n",
    "ts_001_df[\"particles\"][\"rlnTomoName\"] = \"ts_001\""
   ]
  },
  {
   "cell_type": "code",
   "execution_count": null,
   "metadata": {},
   "outputs": [],
   "source": [
    "starfile.write(ts_001_df, \"/mnt/scratch/ribosomes/kas_k44a/old_relion/tilt030.star\", overwrite=True)"
   ]
  },
  {
   "cell_type": "code",
   "execution_count": null,
   "metadata": {},
   "outputs": [],
   "source": [
    "\n",
    "old_relion_star[\"particles\"][\"rlnMicrographName\"][0]"
   ]
  },
  {
   "cell_type": "code",
   "execution_count": null,
   "metadata": {},
   "outputs": [],
   "source": []
  }
 ],
 "metadata": {
  "kernelspec": {
   "display_name": "napari",
   "language": "python",
   "name": "python3"
  },
  "language_info": {
   "codemirror_mode": {
    "name": "ipython",
    "version": 3
   },
   "file_extension": ".py",
   "mimetype": "text/x-python",
   "name": "python",
   "nbconvert_exporter": "python",
   "pygments_lexer": "ipython3",
   "version": "3.9.16"
  },
  "orig_nbformat": 4
 },
 "nbformat": 4,
 "nbformat_minor": 2
}
