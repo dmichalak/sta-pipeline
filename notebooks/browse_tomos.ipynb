{
 "cells": [
  {
   "cell_type": "code",
   "execution_count": 1,
   "metadata": {},
   "outputs": [],
   "source": [
    "from pathlib import Path\n",
    "\n",
    "import napari\n",
    "import mrcfile\n"
   ]
  },
  {
   "cell_type": "code",
   "execution_count": 7,
   "metadata": {},
   "outputs": [],
   "source": [
    "tomogram_directory = Path(\n",
    "    \"/mnt/scratch/ribosomes/kas_k44a/eman2/mrcs/\"\n",
    ")\n",
    "viewer = napari.Viewer()"
   ]
  },
  {
   "cell_type": "code",
   "execution_count": 7,
   "metadata": {},
   "outputs": [],
   "source": [
    "mrc_file = Path(\"/mnt/storage/data/kas_k44a/ribosomes_21tomos/ts_001/ts_001.mrc\")\n",
    "viewer = napari.Viewer()"
   ]
  },
  {
   "cell_type": "code",
   "execution_count": null,
   "metadata": {},
   "outputs": [
    {
     "data": {
      "text/plain": [
       "<Image layer 'ts_008_b10_rec' at 0x7fb236c52be0>"
      ]
     },
     "execution_count": 8,
     "metadata": {},
     "output_type": "execute_result"
    },
    {
     "name": "stderr",
     "output_type": "stream",
     "text": [
      "Traceback (most recent call last):\n",
      "  File \"/home/michalakdj/mambaforge/envs/devbio-napari-env/lib/python3.9/site-packages/napari_animation/_qt/animation_widget.py\", line 161, in _save_callback\n",
      "    if animation_kwargs.get(\"filename\", None) is not None:\n",
      "AttributeError: 'str' object has no attribute 'get'\n"
     ]
    },
    {
     "name": "stdout",
     "output_type": "stream",
     "text": [
      "Rendering frames...\n"
     ]
    },
    {
     "name": "stderr",
     "output_type": "stream",
     "text": [
      "  0%|          | 0/61 [00:00<?, ?it/s]IMAGEIO FFMPEG_WRITER WARNING: input image is not divisible by macro_block_size=16, resizing from (796, 1166) to (800, 1168) to ensure video compatibility with most codecs and players. To prevent resizing, make your input image divisible by the macro_block_size or set the macro_block_size to 1 (risking incompatibility).\n",
      "100%|██████████| 61/61 [00:02<00:00, 29.01it/s]\n"
     ]
    },
    {
     "name": "stdout",
     "output_type": "stream",
     "text": [
      "Rendering frames...\n"
     ]
    },
    {
     "name": "stderr",
     "output_type": "stream",
     "text": [
      "  0%|          | 0/61 [00:00<?, ?it/s]IMAGEIO FFMPEG_WRITER WARNING: input image is not divisible by macro_block_size=16, resizing from (796, 1166) to (800, 1168) to ensure video compatibility with most codecs and players. To prevent resizing, make your input image divisible by the macro_block_size or set the macro_block_size to 1 (risking incompatibility).\n",
      "100%|██████████| 61/61 [00:02<00:00, 26.26it/s]\n"
     ]
    },
    {
     "name": "stdout",
     "output_type": "stream",
     "text": [
      "Rendering frames...\n"
     ]
    },
    {
     "name": "stderr",
     "output_type": "stream",
     "text": [
      "  0%|          | 0/61 [00:00<?, ?it/s]IMAGEIO FFMPEG_WRITER WARNING: input image is not divisible by macro_block_size=16, resizing from (796, 1166) to (800, 1168) to ensure video compatibility with most codecs and players. To prevent resizing, make your input image divisible by the macro_block_size or set the macro_block_size to 1 (risking incompatibility).\n",
      "100%|██████████| 61/61 [00:02<00:00, 26.91it/s]\n"
     ]
    }
   ],
   "source": [
    "\n",
    "mrc_file = Path(\"/mnt/storage/data/kas_k44a/ribosomes_21tomos/ts_008/ts_008_b10_rec.mrc\")\n",
    "\n",
    "viewer.add_image(\n",
    "    mrcfile.read(mrc_file),\n",
    "    name=mrc_file.stem,\n",
    "    visible=False,\n",
    ")"
   ]
  },
  {
   "cell_type": "code",
   "execution_count": 9,
   "metadata": {},
   "outputs": [],
   "source": [
    "#viewer.add_image(\n",
    "#    mrcfile.read(tomogram),\n",
    "#    #name=f\"{ts_list[ts_idx].stem[:5]} tomo\",\n",
    "#    depiction=\"plane\",\n",
    "#    blending=\"translucent\",\n",
    "#    interpolation2d=\"bicubic\",\n",
    "#    #contrast_limits=[-3, 2.5],\n",
    "#    visible=False,\n",
    "#)\n",
    "i=0\n",
    "stop_index = 5\n",
    "for tomogram in sorted(tomogram_directory.glob(\"*.mrc\")):\n",
    "    if i == stop_index:\n",
    "        continue\n",
    "    viewer.add_image(\n",
    "        mrcfile.read(tomogram),\n",
    "        name=tomogram.stem,\n",
    "        depiction=\"plane\",\n",
    "        blending=\"translucent\",\n",
    "        interpolation2d=\"bicubic\",\n",
    "        #contrast_limits=[-3, 2.5],\n",
    "        visible=False,\n",
    "    )\n",
    "    #i+=1"
   ]
  },
  {
   "cell_type": "code",
   "execution_count": null,
   "metadata": {},
   "outputs": [],
   "source": []
  },
  {
   "cell_type": "code",
   "execution_count": null,
   "metadata": {},
   "outputs": [],
   "source": []
  }
 ],
 "metadata": {
  "kernelspec": {
   "display_name": "devbio-napari-env",
   "language": "python",
   "name": "python3"
  },
  "language_info": {
   "codemirror_mode": {
    "name": "ipython",
    "version": 3
   },
   "file_extension": ".py",
   "mimetype": "text/x-python",
   "name": "python",
   "nbconvert_exporter": "python",
   "pygments_lexer": "ipython3",
   "version": "3.9.16"
  },
  "orig_nbformat": 4
 },
 "nbformat": 4,
 "nbformat_minor": 2
}
