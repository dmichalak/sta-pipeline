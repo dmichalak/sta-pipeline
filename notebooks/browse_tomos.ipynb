{
 "cells": [
  {
   "cell_type": "code",
   "execution_count": 1,
   "metadata": {},
   "outputs": [],
   "source": [
    "from pathlib import Path\n",
    "\n",
    "import napari\n",
    "import mrcfile\n"
   ]
  },
  {
   "cell_type": "code",
   "execution_count": 7,
   "metadata": {},
   "outputs": [],
   "source": [
    "tomogram_directory = Path(\n",
    "    \"/mnt/scratch/ribosomes/kas_k44a/eman2/mrcs/\"\n",
    ")\n",
    "viewer = napari.Viewer()"
   ]
  },
  {
   "cell_type": "code",
   "execution_count": 9,
   "metadata": {},
   "outputs": [],
   "source": [
    "#viewer.add_image(\n",
    "#    mrcfile.read(tomogram),\n",
    "#    #name=f\"{ts_list[ts_idx].stem[:5]} tomo\",\n",
    "#    depiction=\"plane\",\n",
    "#    blending=\"translucent\",\n",
    "#    interpolation2d=\"bicubic\",\n",
    "#    #contrast_limits=[-3, 2.5],\n",
    "#    visible=False,\n",
    "#)\n",
    "i=0\n",
    "stop_index = 5\n",
    "for tomogram in sorted(tomogram_directory.glob(\"*.mrc\")):\n",
    "    if i == stop_index:\n",
    "        continue\n",
    "    viewer.add_image(\n",
    "        mrcfile.read(tomogram),\n",
    "        name=tomogram.stem,\n",
    "        depiction=\"plane\",\n",
    "        blending=\"translucent\",\n",
    "        interpolation2d=\"bicubic\",\n",
    "        #contrast_limits=[-3, 2.5],\n",
    "        visible=False,\n",
    "    )\n",
    "    #i+=1"
   ]
  },
  {
   "cell_type": "code",
   "execution_count": null,
   "metadata": {},
   "outputs": [],
   "source": []
  },
  {
   "cell_type": "code",
   "execution_count": null,
   "metadata": {},
   "outputs": [],
   "source": []
  }
 ],
 "metadata": {
  "kernelspec": {
   "display_name": "devbio-napari-env",
   "language": "python",
   "name": "python3"
  },
  "language_info": {
   "codemirror_mode": {
    "name": "ipython",
    "version": 3
   },
   "file_extension": ".py",
   "mimetype": "text/x-python",
   "name": "python",
   "nbconvert_exporter": "python",
   "pygments_lexer": "ipython3",
   "version": "3.9.16"
  },
  "orig_nbformat": 4
 },
 "nbformat": 4,
 "nbformat_minor": 2
}
