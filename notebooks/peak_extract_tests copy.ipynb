{
 "cells": [
  {
   "cell_type": "code",
   "execution_count": 1,
   "metadata": {},
   "outputs": [],
   "source": [
    "from pathlib import Path\n",
    "import pandas as pd\n",
    "import numpy as np\n",
    "from skimage.feature import peak_local_max\n",
    "import mrcfile\n",
    "import napari\n",
    "import starfile"
   ]
  },
  {
   "cell_type": "code",
   "execution_count": 26,
   "metadata": {},
   "outputs": [],
   "source": [
    "tomogram_path = Path(\"/mnt/scratch/ribosomes/kas_k44a/isonet/corrected_iter30/ts_003_b10_rec_corrected.mrc\").absolute()\n",
    "segmentation_path = Path(\"/mnt/scratch/ribosomes/kas_k44a/eman2/segmentations/ts_003_b10_rec_corrected__good_ribosomes-6.922_seg.mrc\").absolute()\n",
    "\n",
    "ts_name = \"ts_003\""
   ]
  },
  {
   "cell_type": "code",
   "execution_count": null,
   "metadata": {},
   "outputs": [],
   "source": [
    "tomogram_mrc = mrcfile.read(tomogram_path)\n",
    "segmentation_mrc = mrcfile.read(segmentation_path)"
   ]
  },
  {
   "cell_type": "code",
   "execution_count": 16,
   "metadata": {},
   "outputs": [],
   "source": [
    "viewer = napari.Viewer(ndisplay=3)\n",
    "viewer.add_image(\n",
    "    tomogram_mrc,\n",
    "    name=ts_name,\n",
    "    depiction=\"plane\",\n",
    "    blending=\"translucent\",\n",
    "    visible=False,\n",
    ")\n",
    "viewer.add_image(\n",
    "    segmentation_mrc, \n",
    "    name=\"segmentation\",\n",
    "    depiction=\"volume\",\n",
    "    blending=\"translucent\",\n",
    "    colormap=\"gist_earth\",\n",
    "    visible=False,\n",
    ")"
   ]
  },
  {
   "cell_type": "code",
   "execution_count": 40,
   "metadata": {},
   "outputs": [],
   "source": [
    "tomo_bin_factor = 10\n",
    "min_peak_distance_px = 10\n",
    "threshold_abs = 4\n",
    "threshold_rel = None\n",
    "border_size_in_px = 5\n",
    "\n",
    "rln_coordinates = [\"rlnCoordinateZ\", \"rlnCoordinateY\", \"rlnCoordinateX\"]\n",
    "rln_angles = [\"rlnAngleRot\", \"rlnAngleTilt\", \"rlnAnglePsi\"]\n",
    "\n",
    "# Load the segmentation data, identify particle positions, and write them to a star file\n",
    "peaks = peak_local_max(\n",
    "    segmentation_mrc,\n",
    "    min_distance=min_peak_distance_px,\n",
    "    threshold_abs=threshold_abs,\n",
    "    threshold_rel=threshold_rel,\n",
    "    exclude_border=border_size_in_px,\n",
    ")\n",
    "\n",
    "# Convert the peak coordinates to RELION's coordinate system\n",
    "rln_df = pd.DataFrame(peaks * tomo_bin_factor, columns=rln_coordinates)\n",
    "\n",
    "# Add random orientations to each peak\n",
    "for angle in rln_angles:\n",
    "    random_angles = np.random.randint(0, 179, size=len(rln_df.index))\n",
    "    rln_df[angle] = random_angles\n",
    "\n",
    "rln_df[\"rlnTomoName\"] = ts_name\n",
    "\n",
    "# Write the star file\n",
    "starfile_name = f\"peaks_abs{threshold_abs}_dist{min_peak_distance_px}_{ts_name}.star\"\n",
    "peaks_directory = Path(\"/mnt/scratch/ribosomes/kas_k44a/eman2/\").absolute()\n",
    "starfile.write(rln_df, peaks_directory / starfile_name, overwrite=True)\n",
    "\n",
    "\n"
   ]
  },
  {
   "cell_type": "code",
   "execution_count": 41,
   "metadata": {},
   "outputs": [
    {
     "data": {
      "text/plain": [
       "<Points layer 'peaks_dist10_abs4' at 0x7f2a87ba0be0>"
      ]
     },
     "execution_count": 41,
     "metadata": {},
     "output_type": "execute_result"
    }
   ],
   "source": [
    "viewer.add_points(\n",
    "    peaks,\n",
    "    name=f\"peaks_dist{min_peak_distance_px}_abs{threshold_abs}\",\n",
    "    blending=\"translucent\",\n",
    "    edge_color=\"red\",\n",
    "    edge_width=0.2,\n",
    "    visible=False,\n",
    ")\n"
   ]
  },
  {
   "cell_type": "code",
   "execution_count": null,
   "metadata": {},
   "outputs": [],
   "source": []
  }
 ],
 "metadata": {
  "kernelspec": {
   "display_name": "devbio-napari-env",
   "language": "python",
   "name": "python3"
  },
  "language_info": {
   "codemirror_mode": {
    "name": "ipython",
    "version": 3
   },
   "file_extension": ".py",
   "mimetype": "text/x-python",
   "name": "python",
   "nbconvert_exporter": "python",
   "pygments_lexer": "ipython3",
   "version": "3.9.16"
  },
  "orig_nbformat": 4
 },
 "nbformat": 4,
 "nbformat_minor": 2
}
