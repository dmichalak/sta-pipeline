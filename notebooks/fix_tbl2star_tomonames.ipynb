{
 "cells": [
  {
   "cell_type": "code",
   "execution_count": 8,
   "metadata": {},
   "outputs": [],
   "source": [
    "from pathlib import Path\n",
    "import starfile\n",
    "import dynamotable\n",
    "import pandas as pd"
   ]
  },
  {
   "cell_type": "code",
   "execution_count": 20,
   "metadata": {},
   "outputs": [],
   "source": [
    "input_star_path = Path(\"/mnt/scratch/ribosomes/wws_EGFcontrol/dynamo/init_align/results/ite_0006/averages/refined_table_ref_001_ite_0006.star\")\n",
    "input_star = starfile.read(input_star_path)\n",
    "input_tbl_path = Path(\"/mnt/scratch/ribosomes/wws_EGFcontrol/dynamo/init_align/results/ite_0006/averages/refined_table_ref_001_ite_0006.tbl\")\n",
    "input_tbl = dynamotable.read(input_tbl_path)"
   ]
  },
  {
   "cell_type": "code",
   "execution_count": 30,
   "metadata": {},
   "outputs": [],
   "source": [
    "tbltomo_to_rlnTomoName = {\n",
    "    1 : \"ts002\",\n",
    "    2 : \"ts003\",\n",
    "    3 : \"ts004\",\n",
    "    4 : \"ts005\",\n",
    "    5 : \"ts006\",\n",
    "    6 : \"ts007\",\n",
    "    7 : \"ts008\",\n",
    "    8 : \"ts009\",\n",
    "    9 : \"ts010\",\n",
    "    10 : \"ts011\",\n",
    "    11 : \"ts013\",\n",
    "    12 : \"ts014\",\n",
    "    13 : \"ts015\",\n",
    "    14 : \"ts016\",\n",
    "    15 : \"ts017\",\n",
    "    16 : \"ts018\",\n",
    "    17 : \"ts020\",\n",
    "    18 : \"ts024\",\n",
    "    19 : \"ts028\",\n",
    "    20 : \"ts030\",\n",
    "    21 : \"ts032\",\n",
    "    22 : \"ts033\",\n",
    "    23 : \"ts034\",\n",
    "    24 : \"ts035\",\n",
    "    25 : \"ts037\",\n",
    "    26 : \"ts038\",\n",
    "    27 : \"ts040\",\n",
    "    28 : \"ts041\",\n",
    "    29 : \"ts042\",\n",
    "    30 : \"ts043\",\n",
    "    31 : \"ts044\",\n",
    "    32 : \"ts045\",\n",
    "    33 : \"ts046\",\n",
    "    34 : \"ts047\",\n",
    "    35 : \"ts048\",\n",
    "    36 : \"ts049\",\n",
    "}"
   ]
  },
  {
   "cell_type": "code",
   "execution_count": 31,
   "metadata": {},
   "outputs": [],
   "source": [
    "# For each value in the the \"tomo\" column from the input tbl, use the dictionary to replace it with the corresponding rlnTomoName\n",
    "input_star[\"rlnTomoName\"] = [tbltomo_to_rlnTomoName[tomo] for tomo in input_tbl[\"tomo\"].values]"
   ]
  },
  {
   "cell_type": "code",
   "execution_count": 32,
   "metadata": {},
   "outputs": [],
   "source": [
    "starfile.write(input_star, input_star_path.parent / \"refined_table_ref_001_ite_0006_with_rlnTomoName.star\")"
   ]
  },
  {
   "cell_type": "code",
   "execution_count": null,
   "metadata": {},
   "outputs": [],
   "source": []
  }
 ],
 "metadata": {
  "kernelspec": {
   "display_name": "devbio-napari-env",
   "language": "python",
   "name": "python3"
  },
  "language_info": {
   "codemirror_mode": {
    "name": "ipython",
    "version": 3
   },
   "file_extension": ".py",
   "mimetype": "text/x-python",
   "name": "python",
   "nbconvert_exporter": "python",
   "pygments_lexer": "ipython3",
   "version": "3.9.16"
  },
  "orig_nbformat": 4
 },
 "nbformat": 4,
 "nbformat_minor": 2
}
