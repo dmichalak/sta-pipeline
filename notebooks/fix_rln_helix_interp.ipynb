{
 "cells": [
  {
   "cell_type": "code",
   "execution_count": 2,
   "metadata": {},
   "outputs": [],
   "source": [
    "from pathlib import Path\n",
    "import starfile"
   ]
  },
  {
   "cell_type": "code",
   "execution_count": 5,
   "metadata": {},
   "outputs": [],
   "source": [
    "input_star_path = Path(\"/mnt/scratch/dynamin/kas_k44a/3dmod/ts_027_interpo.star\")\n",
    "input_star = starfile.read(input_star_path)\n",
    "\n",
    "input_binning = 6"
   ]
  },
  {
   "cell_type": "code",
   "execution_count": 8,
   "metadata": {},
   "outputs": [],
   "source": [
    "output_star = input_star.copy()\n",
    "for coord in [\"X\",\"Y\",\"Z\"]:\n",
    "    output_star[f\"rlnCoordinate{coord}\"] = input_star[f\"rlnCoordinate{coord}\"] * 6\n"
   ]
  },
  {
   "cell_type": "code",
   "execution_count": 9,
   "metadata": {},
   "outputs": [],
   "source": [
    "output_star_path = input_star_path.parent / f\"{input_star_path.stem}_unbin.star\"\n",
    "starfile.write(output_star, output_star_path)"
   ]
  },
  {
   "cell_type": "code",
   "execution_count": null,
   "metadata": {},
   "outputs": [],
   "source": []
  }
 ],
 "metadata": {
  "kernelspec": {
   "display_name": "devbio-napari-env",
   "language": "python",
   "name": "python3"
  },
  "language_info": {
   "codemirror_mode": {
    "name": "ipython",
    "version": 3
   },
   "file_extension": ".py",
   "mimetype": "text/x-python",
   "name": "python",
   "nbconvert_exporter": "python",
   "pygments_lexer": "ipython3",
   "version": "3.9.16"
  },
  "orig_nbformat": 4
 },
 "nbformat": 4,
 "nbformat_minor": 2
}
