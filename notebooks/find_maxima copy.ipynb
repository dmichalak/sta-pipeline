{
 "cells": [
  {
   "cell_type": "code",
   "execution_count": null,
   "metadata": {},
   "outputs": [],
   "source": [
    "from pathlib import Path\n",
    "import pandas as pd\n",
    "import numpy as np\n",
    "from skimage.feature import peak_local_max\n",
    "import mrcfile\n",
    "import napari\n",
    "import starfile"
   ]
  },
  {
   "cell_type": "markdown",
   "metadata": {},
   "source": [
    "### Set paths to tomograms and their segmentations. Set pixel size, bin factor, peak separation."
   ]
  },
  {
   "cell_type": "code",
   "execution_count": null,
   "metadata": {},
   "outputs": [],
   "source": [
    "eman2_directory = Path(\"/mnt/scratch/ribosomes/kas_k44a/eman2/\").absolute()\n",
    "tomo_directory = (eman2_directory / Path(\"mrcs/\")).absolute()\n",
    "segment_directory = (eman2_directory / Path(\"segmentations/\")).absolute()\n",
    "\n",
    "ts_list = [\n",
    "    \"ts_001_b10_rec\",\n",
    "    \"ts_013_b10_rec\",\n",
    "    \"ts_014_b10_rec\",\n",
    "    \"ts_015_b10_rec\",\n",
    "    \"ts_021_b10_rec\",\n",
    "]\n",
    "\n",
    "tomo_bin_factor = 10\n",
    "peak_separation = 10 # pixels\n",
    "unbinned_pixel_size = 1.0825\n",
    "print(f\"Peaks will be at least {peak_separation * tomo_bin_factor * unbinned_pixel_size / 10.0} nm apart.\")\n",
    "ts_index = 0\n"
   ]
  },
  {
   "cell_type": "code",
   "execution_count": null,
   "metadata": {},
   "outputs": [],
   "source": [
    "# Construct dictionary\n",
    "ts_dict = {}\n",
    "\n",
    "for segment_path in sorted(segment_directory.glob(\"*.mrc\")):\n",
    "    ts_name = segment_path.stem.split(\"__\")[0]\n",
    "    # Check if tomo should be ignored\n",
    "    if ts_name in ts_list:\n",
    "        ts_dict[ts_name] = {}\n",
    "        tomo_path = tomo_directory / f\"{ts_name}.mrc\"\n",
    "        if tomo_path.is_file() and segment_path.is_file():\n",
    "            ts_dict[ts_name][\"tomo_path\"] = tomo_path\n",
    "            ts_dict[ts_name][\"segment_path\"] = segment_path\n",
    "            ts_dict[ts_name][\"peaks\"] = None"
   ]
  },
  {
   "cell_type": "code",
   "execution_count": null,
   "metadata": {},
   "outputs": [],
   "source": [
    "ts_dict.keys()"
   ]
  },
  {
   "cell_type": "markdown",
   "metadata": {},
   "source": [
    "### Set relative and absolute peak thresholds. Run the peak_local_max calcuation for each segmentation."
   ]
  },
  {
   "cell_type": "code",
   "execution_count": null,
   "metadata": {},
   "outputs": [],
   "source": [
    "# peaks with intensity above threshold_abs or threshold_rel * max_intensity are saved\n",
    "threshold_rel = 0.2\n",
    "threshold_abs = 0.1\n",
    "\n",
    "border_size_in_px = 10\n",
    "#print(border_size)\n",
    "peak_files = segment_directory.glob(\"*.peaks\")\n",
    "\n",
    "to_load = ts_dict.keys()\n",
    "\n",
    "for ts_name in to_load:\n",
    "    if Path(f\"{ts_name}_{threshold_abs}abs.peaks\").absolute() not in peak_files:\n",
    "        ts_dict[ts_name][\"tomogram_mrc\"] = mrcfile.read(ts_dict[ts_name][\"tomo_path\"])\n",
    "        ts_dict[ts_name][\"segment_mrc\"]= mrcfile.read(ts_dict[ts_name][\"segment_path\"])\n",
    "        print(\"Finding peaks in\", ts_name, \"...\")\n",
    "        peaks = peak_local_max(\n",
    "            ts_dict[ts_name][\"segment_mrc\"],\n",
    "            min_distance = peak_separation, \n",
    "            threshold_abs = threshold_abs, \n",
    "            threshold_rel = threshold_rel,\n",
    "            exclude_border = border_size_in_px,\n",
    "            )\n",
    "        print(\"Found\", len(peaks), \"peaks.\")\n",
    "        ts_dict[ts_name][\"peaks\"] = peaks\n",
    "        np.savetxt(segment_directory / f\"{ts_name}_abs{threshold_abs}rel{threshold_rel}.peaks\", peaks, delimiter=\"\\t\", fmt=\"%d\")\n",
    "    ts_index += 1\n"
   ]
  },
  {
   "cell_type": "markdown",
   "metadata": {},
   "source": [
    "### View each tomogram, segmentation, and peak positions in Napari"
   ]
  },
  {
   "cell_type": "code",
   "execution_count": 19,
   "metadata": {},
   "outputs": [
    {
     "name": "stderr",
     "output_type": "stream",
     "text": [
      "WARNING: Traceback (most recent call last):\n",
      "  File \"/home/michalakdj/mambaforge/envs/devbio-napari-env/lib/python3.9/runpy.py\", line 197, in _run_module_as_main\n",
      "    return _run_code(code, main_globals, None,\n",
      "  File \"/home/michalakdj/mambaforge/envs/devbio-napari-env/lib/python3.9/runpy.py\", line 87, in _run_code\n",
      "    exec(code, run_globals)\n",
      "  File \"/home/michalakdj/mambaforge/envs/devbio-napari-env/lib/python3.9/site-packages/ipykernel_launcher.py\", line 17, in <module>\n",
      "    app.launch_new_instance()\n",
      "  File \"/home/michalakdj/mambaforge/envs/devbio-napari-env/lib/python3.9/site-packages/traitlets/config/application.py\", line 1043, in launch_instance\n",
      "    app.start()\n",
      "  File \"/home/michalakdj/mambaforge/envs/devbio-napari-env/lib/python3.9/site-packages/ipykernel/kernelapp.py\", line 725, in start\n",
      "    self.io_loop.start()\n",
      "  File \"/home/michalakdj/mambaforge/envs/devbio-napari-env/lib/python3.9/site-packages/tornado/platform/asyncio.py\", line 195, in start\n",
      "    self.asyncio_loop.run_forever()\n",
      "  File \"/home/michalakdj/mambaforge/envs/devbio-napari-env/lib/python3.9/asyncio/base_events.py\", line 601, in run_forever\n",
      "    self._run_once()\n",
      "  File \"/home/michalakdj/mambaforge/envs/devbio-napari-env/lib/python3.9/asyncio/base_events.py\", line 1905, in _run_once\n",
      "    handle._run()\n",
      "  File \"/home/michalakdj/mambaforge/envs/devbio-napari-env/lib/python3.9/asyncio/events.py\", line 80, in _run\n",
      "    self._context.run(self._callback, *self._args)\n",
      "  File \"/home/michalakdj/mambaforge/envs/devbio-napari-env/lib/python3.9/site-packages/tornado/ioloop.py\", line 738, in _run_callback\n",
      "    ret = callback()\n",
      "  File \"/home/michalakdj/mambaforge/envs/devbio-napari-env/lib/python3.9/site-packages/ipykernel/kernelbase.py\", line 458, in advance_eventloop\n",
      "    eventloop(self)\n",
      "  File \"/home/michalakdj/mambaforge/envs/devbio-napari-env/lib/python3.9/site-packages/ipykernel/eventloops.py\", line 128, in loop_qt\n",
      "    el.exec() if hasattr(el, 'exec') else el.exec_()\n",
      "  File \"/home/michalakdj/mambaforge/envs/devbio-napari-env/lib/python3.9/site-packages/vispy/app/backends/_qt.py\", line 567, in event\n",
      "    out = super(QtBaseCanvasBackend, self).event(ev)\n",
      "  File \"/home/michalakdj/mambaforge/envs/devbio-napari-env/lib/python3.9/site-packages/vispy/app/backends/_qt.py\", line 532, in mouseMoveEvent\n",
      "    self._vispy_mouse_move(\n",
      "  File \"/home/michalakdj/mambaforge/envs/devbio-napari-env/lib/python3.9/site-packages/vispy/app/base.py\", line 216, in _vispy_mouse_move\n",
      "    ev = self._vispy_canvas.events.mouse_move(**kwargs)\n",
      "  File \"/home/michalakdj/mambaforge/envs/devbio-napari-env/lib/python3.9/site-packages/vispy/util/event.py\", line 453, in __call__\n",
      "    self._invoke_callback(cb, event)\n",
      "  File \"/home/michalakdj/mambaforge/envs/devbio-napari-env/lib/python3.9/site-packages/vispy/util/event.py\", line 469, in _invoke_callback\n",
      "    cb(event)\n",
      "  File \"/home/michalakdj/mambaforge/envs/devbio-napari-env/lib/python3.9/site-packages/napari/_vispy/canvas.py\", line 96, in _process_mouse_event\n",
      "    super()._process_mouse_event(event)\n",
      "  File \"/home/michalakdj/mambaforge/envs/devbio-napari-env/lib/python3.9/site-packages/vispy/scene/canvas.py\", line 369, in _process_mouse_event\n",
      "    getattr(picked.events, event.type)(scene_event)\n",
      "  File \"/home/michalakdj/mambaforge/envs/devbio-napari-env/lib/python3.9/site-packages/vispy/util/event.py\", line 453, in __call__\n",
      "    self._invoke_callback(cb, event)\n",
      "  File \"/home/michalakdj/mambaforge/envs/devbio-napari-env/lib/python3.9/site-packages/vispy/util/event.py\", line 471, in _invoke_callback\n",
      "    _handle_exception(self.ignore_callback_errors,\n",
      "  << caught exception here: >>\n",
      "  File \"/home/michalakdj/mambaforge/envs/devbio-napari-env/lib/python3.9/site-packages/vispy/util/event.py\", line 469, in _invoke_callback\n",
      "    cb(event)\n",
      "  File \"/home/michalakdj/mambaforge/envs/devbio-napari-env/lib/python3.9/site-packages/vispy/scene/cameras/perspective.py\", line 227, in viewbox_mouse_event\n",
      "    self._update_rotation(event)\n",
      "  File \"/home/michalakdj/mambaforge/envs/devbio-napari-env/lib/python3.9/site-packages/vispy/scene/cameras/arcball.py\", line 65, in _update_rotation\n",
      "    Quaternion(*_arcball(self._event_value, wh)) *\n",
      "  File \"/home/michalakdj/mambaforge/envs/devbio-napari-env/lib/python3.9/site-packages/vispy/scene/cameras/arcball.py\", line 101, in _arcball\n",
      "    x, y = xy\n",
      "ValueError: too many values to unpack (expected 2)\n",
      "ERROR: Invoking <bound method Base3DRotationCamera.viewbox_mouse_event of <ArcballCamera at 0x7fdd2bd41670>> for SceneMouseEvent\n"
     ]
    }
   ],
   "source": [
    "viewer = napari.Viewer(ndisplay=3)\n",
    "for ts_name in to_load:\n",
    "    viewer.add_image(\n",
    "        ts_dict[ts_name][\"tomogram_mrc\"], \n",
    "        name=f\"{ts_name} tomogram\",\n",
    "        depiction=\"plane\",\n",
    "        blending=\"translucent\",\n",
    "        contrast_limits=[-15, 15],\n",
    "        visible=False,\n",
    "    )\n",
    "    viewer.add_image(\n",
    "        ts_dict[ts_name][\"segment_mrc\"],\n",
    "        name=f\"{ts_name} segment\",\n",
    "        depiction=\"volume\",\n",
    "        blending=\"translucent\",\n",
    "        colormap=\"gist_earth\",\n",
    "        visible=False,\n",
    "    )\n",
    "    viewer.add_points(\n",
    "        ts_dict[ts_name][\"peaks\"], \n",
    "        name=f\"{ts_name} peaks\",\n",
    "        blending=\"translucent\",\n",
    "        edge_color=\"red\",\n",
    "        edge_width=0.2, \n",
    "        visible=False\n",
    "    )\n"
   ]
  },
  {
   "cell_type": "markdown",
   "metadata": {},
   "source": [
    "Save the peak positions in a star file for each tomogram."
   ]
  },
  {
   "cell_type": "code",
   "execution_count": null,
   "metadata": {},
   "outputs": [],
   "source": [
    "# Convert the calculated peak coordinates from binned space to unbinned space. Star files for RELION required unbinned coordinates.\n",
    "rln_coordinates = [\"rlnCoordinateZ\", \"rlnCoordinateY\", \"rlnCoordinateX\"]\n",
    "rln_angles = [\"rlnAngleRot\", \"rlnAngleTilt\", \"rlnAnglePsi\"]\n",
    "\n",
    "#rln_tomoname = \"ts002\"\n",
    "#peak_coords_df = pd.DataFrame(peak_coords,columns=rln_coordinates)\n",
    "#unbinned_peak_coords_df = pd.DataFrame()\n",
    "#for coordinate in rln_coordinates:\n",
    "#    unbinned_peak_coords_df[coordinate] = tomo_bin_factor * peak_coords_df[coordinate]\n",
    "#for angle in rln_angles:\n",
    "#    unbinned_peak_coords_df[angle] = 0.0\n",
    "#unbinned_peak_coords_df[\"rlnTomoName\"] = rln_tomoname\n",
    "#unbinned_peak_coords_df.head(3)\n",
    "#\n",
    "# Create empty pd columns and append entries for every tomogram in tomos\n",
    "name_i = 0\n",
    "unbinned_peak_coords_dict = {}\n",
    "\n",
    "import numpy as np\n",
    "\n",
    "for ts_name in to_load:\n",
    "    short_ts_name = ts_name.split(\"_b\")[0]\n",
    "    unbinned_peak_coords_dict[ts_name] = pd.DataFrame(ts_dict[ts_name][\"peaks\"] * tomo_bin_factor,columns=rln_coordinates)\n",
    "    for angle in rln_angles:\n",
    "        random_angles = np.random.randint(0,179,size=len(unbinned_peak_coords_dict[ts_name].index))\n",
    "        unbinned_peak_coords_dict[ts_name][angle] = random_angles\n",
    "    unbinned_peak_coords_dict[ts_name][\"rlnTomoName\"] = short_ts_name\n",
    "    name_i+=1\n",
    "\n",
    "    px_shift = -10\n",
    "    unbinned_peak_coords_dict[ts_name][\"rlnCoordinateX\"] = unbinned_peak_coords_dict[ts_name][\"rlnCoordinateX\"] + px_shift * tomo_bin_factor\n",
    "    write_path = segment_directory / f\"particles_{short_ts_name}_abs{threshold_abs}rel{threshold_rel}_Xshift{px_shift}.star\"\n",
    "    output_star_df = {}\n",
    "    optics_columns = [\n",
    "        \"rlnOpticsGroup\",\n",
    "        \"rlnOpticsGroupName\",\n",
    "        \"rlnSphericalAberration\",\n",
    "        \"rlnVoltage\",\n",
    "        \"rlnTomoTiltSeriesPixelSize\",\n",
    "    ]\n",
    "    output_star_df[\"optics\"] = pd.DataFrame(columns=optics_columns) \n",
    "    output_star_df[\"optics\"].loc[len(output_star_df[\"optics\"])] = [1, \"opticsGroup1\", 2.7, 300, 1.0825]\n",
    "    output_star_df[\"particles\"] = unbinned_peak_coords_dict[ts_name]\n",
    "    output_star_df[\"particles\"][\"rlnOpticsGroup\"] = 1\n",
    "    output_star_df[\"particles\"][\"rlnOriginXAngst\"] = 0.0\n",
    "    output_star_df[\"particles\"][\"rlnOriginYAngst\"] = 0.0\n",
    "    output_star_df[\"particles\"][\"rlnOriginZAngst\"] = 0.0\n",
    "\n",
    "\n",
    "    starfile.write(output_star_df, write_path, overwrite=True)"
   ]
  },
  {
   "cell_type": "markdown",
   "metadata": {},
   "source": [
    "### Save all peak positions in all tomograms to a single star file."
   ]
  },
  {
   "cell_type": "code",
   "execution_count": null,
   "metadata": {},
   "outputs": [],
   "source": [
    "# Initialize the df that will be written to the star file\n",
    "output_star_df = {}\n",
    "output_star_df[\"optics\"] = pd.DataFrame(columns=optics_columns)\n",
    "output_star_df[\"optics\"].loc[len(output_star_df[\"optics\"])] = [1, \"opticsGroup1\", 2.7, 300, 1.0825]\n",
    "output_star_df[\"particles\"] = pd.DataFrame(columns=rln_coordinates+rln_angles+[\"rlnTomoName\"])\n",
    "output_star_df[\"particles\"][\"rlnOpticsGroup\"] = 1\n",
    "output_star_df[\"particles\"][\"rlnOriginXAngst\"] = 0.0\n",
    "output_star_df[\"particles\"][\"rlnOriginYAngst\"] = 0.0\n",
    "output_star_df[\"particles\"][\"rlnOriginZAngst\"] = 0.0\n",
    "\n",
    "# Concatenate particle dfs from each tomogram into one\n",
    "for ts_name in unbinned_peak_coords_dict.keys():\n",
    "    output_star_df[\"particles\"]= pd.concat([output_star_df[\"particles\"], unbinned_peak_coords_dict[ts_name]], ignore_index=True)\n",
    "\n",
    "# Write the star file\n",
    "write_path = segment_directory / f\"particles_abs{threshold_abs}rel{threshold_rel}.star\"\n",
    "starfile.write(output_star_df, write_path, overwrite=True)\n"
   ]
  },
  {
   "cell_type": "code",
   "execution_count": null,
   "metadata": {},
   "outputs": [],
   "source": []
  }
 ],
 "metadata": {
  "kernelspec": {
   "display_name": "napari",
   "language": "python",
   "name": "python3"
  },
  "language_info": {
   "codemirror_mode": {
    "name": "ipython",
    "version": 3
   },
   "file_extension": ".py",
   "mimetype": "text/x-python",
   "name": "python",
   "nbconvert_exporter": "python",
   "pygments_lexer": "ipython3",
   "version": "3.9.16"
  },
  "orig_nbformat": 4
 },
 "nbformat": 4,
 "nbformat_minor": 2
}
