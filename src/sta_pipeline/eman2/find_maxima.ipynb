{
 "cells": [
  {
   "cell_type": "code",
   "execution_count": 3,
   "metadata": {},
   "outputs": [],
   "source": [
    "from pathlib import Path\n",
    "import pandas as pd\n",
    "from skimage.feature import peak_local_max\n",
    "import mrcfile\n",
    "import napari\n",
    "import starfile"
   ]
  },
  {
   "cell_type": "code",
   "execution_count": 8,
   "metadata": {},
   "outputs": [
    {
     "name": "stdout",
     "output_type": "stream",
     "text": [
      "Peaks will be at least 12.99 nm apart.\n"
     ]
    }
   ],
   "source": [
    "eman2_dir = Path(\"/media/michalakdj/scratch/eman2_models/\")\n",
    "tomo_paths = [\n",
    "    eman2_dir / Path(\"tomograms/ts001_corrected.mrc\"),\n",
    "    eman2_dir / Path(\"tomograms/ts002_corrected.mrc\"),\n",
    "    eman2_dir / Path(\"tomograms/ts003_corrected.mrc\"),\n",
    "    eman2_dir / Path(\"tomograms/ts004_corrected.mrc\"),\n",
    "    eman2_dir / Path(\"tomograms/ts005_corrected.mrc\"),\n",
    "]\n",
    "tomo_names = [tomo_path.stem.split('_')[0] for tomo_path in tomo_paths]\n",
    "segment_paths = [\n",
    "    eman2_dir / Path(\"segmentations/ts001_corrected__ribosome_good_seg.mrc\"),\n",
    "    eman2_dir / Path(\"segmentations/ts002_corrected__ribosome_good_seg.mrc\"),\n",
    "    eman2_dir / Path(\"segmentations/ts003_corrected__ribosome_good_seg.mrc\"),\n",
    "    eman2_dir / Path(\"segmentations/ts004_corrected__ribosome_good_seg.mrc\"),\n",
    "    eman2_dir / Path(\"segmentations/ts005_corrected__ribosome_good_seg.mrc\"),\n",
    "]\n",
    "tomo_bin_factor = 10\n",
    "peak_separation = 12 # pixels\n",
    "unbinned_pixel_size = 1.0825\n",
    "print(f\"Peaks will be at least {peak_separation * tomo_bin_factor * unbinned_pixel_size / 10.0} nm apart.\")\n",
    "threshold_rel = 0.1\n",
    "viewer = napari.Viewer(ndisplay=3)"
   ]
  },
  {
   "cell_type": "code",
   "execution_count": 9,
   "metadata": {},
   "outputs": [],
   "source": [
    "# View the tomogram in Napari\n",
    "tomos = [mrcfile.read(tomo) for tomo in tomo_paths]\n",
    "layers = {}\n",
    "name_i = 0\n",
    "for tomo in tomos:\n",
    "    layers[f\"{tomo_names[name_i]}\"] = viewer.add_image(\n",
    "        tomo, \n",
    "        name=f\"{tomo_names[name_i]}\",\n",
    "        depiction=\"plane\", \n",
    "        blending=\"translucent\", \n",
    "        visible=False,\n",
    "        )\n",
    "    name_i+=1"
   ]
  },
  {
   "cell_type": "code",
   "execution_count": 6,
   "metadata": {},
   "outputs": [],
   "source": [
    "# Add the segmentation to the Napari viewer\n",
    "segment_maps = [mrcfile.read(segment_path) for segment_path in segment_paths]\n",
    "\n",
    "name_i = 0\n",
    "for segment_map in segment_maps:\n",
    "    layers[f\"{tomo_names[name_i]}_seg\"] = viewer.add_image(\n",
    "        segment_map, \n",
    "        name=f\"{tomo_names[name_i]}_seg\",\n",
    "        colormap=\"gist_earth\", \n",
    "        blending=\"translucent\",\n",
    "        visible=False, \n",
    "        )\n",
    "    name_i+=1"
   ]
  },
  {
   "cell_type": "code",
   "execution_count": 7,
   "metadata": {},
   "outputs": [],
   "source": [
    "colors = [\"red\",\"orange\", \"yellow\",\"green\", \"blue\", \"purple\"]\n",
    "\n",
    "name_i = 0\n",
    "peak_coords_dict = {}\n",
    "for segment_map in segment_maps:\n",
    "    peak_coords_dict[tomo_names[name_i]] = peak_local_max(\n",
    "        segment_map, \n",
    "        min_distance=10, \n",
    "        threshold_rel=threshold_rel, \n",
    "        ) \n",
    "    layers[f\"{tomo_names[name_i]}_peaks\"] = viewer.add_points(\n",
    "        peak_coords_dict[tomo_names[name_i]], \n",
    "        name=f\"{tomo_names[name_i]} Peaks(rel_density > {threshold_rel})\", \n",
    "        edge_color=colors[0], \n",
    "        edge_width=0.2, \n",
    "        blending=\"translucent\",\n",
    "        visible=False, \n",
    "        )\n",
    "    name_i+=1"
   ]
  },
  {
   "cell_type": "code",
   "execution_count": null,
   "metadata": {},
   "outputs": [],
   "source": [
    "layers[\"ts001\"].bounding_box.visible = True"
   ]
  },
  {
   "cell_type": "code",
   "execution_count": null,
   "metadata": {},
   "outputs": [],
   "source": [
    "ribosome = mrcfile.read(\"/media/michalakdj/scratch/ribosome/Refine3D/clean1_bin8/run_class001.mrc\")\n",
    "ribosome_layer = viewer.add_image(ribosome)\n",
    "ribosome_layer.bounding_box.visible = True"
   ]
  },
  {
   "cell_type": "code",
   "execution_count": null,
   "metadata": {},
   "outputs": [],
   "source": [
    "# Convert the calculated peak coordinates from binned space to unbinned space. Star files for RELION required unbinned coordinates.\n",
    "rln_coordinates = [\"rlnCoordinateZ\", \"rlnCoordinateY\", \"rlnCoordinateX\"]\n",
    "rln_angles = [\"rlnAngleRot\", \"rlnAngleTilt\", \"rlnAnglePsi\"]\n",
    "\n",
    "#rln_tomoname = \"ts002\"\n",
    "#peak_coords_df = pd.DataFrame(peak_coords,columns=rln_coordinates)\n",
    "#unbinned_peak_coords_df = pd.DataFrame()\n",
    "#for coordinate in rln_coordinates:\n",
    "#    unbinned_peak_coords_df[coordinate] = tomo_bin_factor * peak_coords_df[coordinate]\n",
    "#for angle in rln_angles:\n",
    "#    unbinned_peak_coords_df[angle] = 0.0\n",
    "#unbinned_peak_coords_df[\"rlnTomoName\"] = rln_tomoname\n",
    "#unbinned_peak_coords_df.head(3)\n",
    "#\n",
    "# Create empty pd columns and append entries for every tomogram in tomos\n",
    "name_i = 0\n",
    "unbinned_peak_coords_dict = {}\n",
    "\n",
    "import numpy as np\n",
    "\n",
    "for tomo in peak_coords_dict:\n",
    "    peak_coords_dict[tomo]= pd.DataFrame(peak_coords_dict[tomo], columns=rln_coordinates)\n",
    "    unbinned_peak_coords_dict[tomo] = peak_coords_dict[tomo] * tomo_bin_factor\n",
    "    for angle in rln_angles:\n",
    "        random_angles = np.random.randint(0,179,size=len(unbinned_peak_coords_dict[tomo].index))\n",
    "        unbinned_peak_coords_dict[tomo][angle] = random_angles\n",
    "    unbinned_peak_coords_dict[tomo][\"rlnTomoName\"] = tomo_names[name_i]\n",
    "    name_i+=1"
   ]
  },
  {
   "cell_type": "code",
   "execution_count": 4,
   "metadata": {},
   "outputs": [],
   "source": [
    "write_path = Path(\"/media/michalakdj/scratch/eman2_models/segmentations/ribosomes.star\")\n",
    "#starfile.write(unbinned_peak_coords_df, write_path, overwrite=True)"
   ]
  },
  {
   "cell_type": "code",
   "execution_count": 5,
   "metadata": {},
   "outputs": [
    {
     "data": {
      "text/plain": [
       "'ribosomes.star'"
      ]
     },
     "execution_count": 5,
     "metadata": {},
     "output_type": "execute_result"
    }
   ],
   "source": [
    "write_path.name"
   ]
  },
  {
   "cell_type": "code",
   "execution_count": null,
   "metadata": {},
   "outputs": [],
   "source": []
  }
 ],
 "metadata": {
  "kernelspec": {
   "display_name": "napari",
   "language": "python",
   "name": "python3"
  },
  "language_info": {
   "codemirror_mode": {
    "name": "ipython",
    "version": 3
   },
   "file_extension": ".py",
   "mimetype": "text/x-python",
   "name": "python",
   "nbconvert_exporter": "python",
   "pygments_lexer": "ipython3",
   "version": "3.9.16"
  },
  "orig_nbformat": 4
 },
 "nbformat": 4,
 "nbformat_minor": 2
}
