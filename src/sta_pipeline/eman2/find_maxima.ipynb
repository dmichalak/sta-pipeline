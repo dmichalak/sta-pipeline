{
 "cells": [
  {
   "cell_type": "code",
   "execution_count": 2,
   "metadata": {},
   "outputs": [],
   "source": [
    "from pathlib import Path\n",
    "import pandas as pd\n",
    "import numpy as np\n",
    "from skimage.feature import peak_local_max\n",
    "import mrcfile\n",
    "import napari\n",
    "import starfile"
   ]
  },
  {
   "cell_type": "code",
   "execution_count": 3,
   "metadata": {},
   "outputs": [],
   "source": [
    "eman2_directory = Path(\"/mnt/scratch/ribosomes/wws_EGFcontrol/eman2\")\n",
    "tomo_directory = eman2_directory / Path(\"tomograms/\")\n",
    "segment_directory = eman2_directory / Path(\"segmentations/\")\n",
    "\n",
    "# Construct dictionary\n",
    "ts_dict = {}\n",
    "\n",
    "for tomo_path in sorted(tomo_directory.glob(\"*.mrc\")):\n",
    "    ts_name = tomo_path.stem.split(\"_\")[0]\n",
    "    ts_dict[ts_name] = {}\n",
    "    segment_path = segment_directory / Path(f\"{ts_name}_rec_corrected__ribosomes_good_seg.mrc\")\n",
    "\n",
    "    if tomo_path.is_file() and segment_path.is_file():\n",
    "        ts_dict[ts_name][\"tomo_path\"] = tomo_path\n",
    "        ts_dict[ts_name][\"segment_path\"] = segment_directory / Path(f\"{ts_name}_rec_corrected__ribosomes_good_seg.mrc\") \n",
    "        ts_dict[ts_name][\"peaks\"] = None\n"
   ]
  },
  {
   "cell_type": "code",
   "execution_count": 4,
   "metadata": {},
   "outputs": [
    {
     "name": "stdout",
     "output_type": "stream",
     "text": [
      "Peaks will be at least 10.825 nm apart.\n"
     ]
    }
   ],
   "source": [
    "tomo_bin_factor = 10\n",
    "peak_separation = 10 # pixels\n",
    "unbinned_pixel_size = 1.0825\n",
    "print(f\"Peaks will be at least {peak_separation * tomo_bin_factor * unbinned_pixel_size / 10.0} nm apart.\")\n",
    "\n",
    "ts_index = 0"
   ]
  },
  {
   "cell_type": "code",
   "execution_count": 8,
   "metadata": {},
   "outputs": [],
   "source": [
    "threshold_rel = 0.1\n",
    "threshold_abs = 1\n",
    "peak_files = segment_directory.glob(\"*.peaks\")\n",
    "\n",
    "to_load = ts_dict.keys()\n",
    "\n",
    "for ts_name in to_load:\n",
    "    if Path(f\"{ts_name}_{threshold_abs}abs.peaks\").absolute() not in peak_files:\n",
    "        ts_dict[ts_name][\"tomogram_mrc\"] = mrcfile.read(ts_dict[ts_name][\"tomo_path\"])\n",
    "        ts_dict[ts_name][\"segment_mrc\"]= mrcfile.read(ts_dict[ts_name][\"segment_path\"])\n",
    "        peaks = peak_local_max(\n",
    "            ts_dict[ts_name][\"segment_mrc\"],\n",
    "            min_distance=peak_separation, \n",
    "            threshold_abs=threshold_abs, \n",
    "            threshold_rel=threshold_rel,\n",
    "            )\n",
    "        ts_dict[ts_name][\"peaks\"] = peaks\n",
    "        np.savetxt(segment_directory / f\"{ts_name}_{threshold_abs}abs.peaks\", peaks, delimiter=\"\\t\", fmt=\"%d\")\n",
    "    ts_index += 1\n"
   ]
  },
  {
   "cell_type": "code",
   "execution_count": 12,
   "metadata": {},
   "outputs": [
    {
     "name": "stderr",
     "output_type": "stream",
     "text": [
      "WARNING: Unrecognized OpenGL version\n",
      "WARNING: Unrecognized OpenGL version\n"
     ]
    }
   ],
   "source": [
    "viewer = napari.Viewer(ndisplay=3)\n",
    "for ts_name in to_load:\n",
    "    viewer.add_image(\n",
    "        ts_dict[ts_name][\"tomogram_mrc\"], \n",
    "        name=f\"{ts_name} tomogram\",\n",
    "        depiction=\"plane\",\n",
    "        blending=\"translucent\",\n",
    "        contrast_limits=[-15, 15],\n",
    "        visible=False,\n",
    "    )\n",
    "    viewer.add_image(\n",
    "        ts_dict[ts_name][\"segment_mrc\"],\n",
    "        name=f\"{ts_name} segment\",\n",
    "        depiction=\"volume\",\n",
    "        blending=\"translucent\",\n",
    "        colormap=\"gist_earth\",\n",
    "        visible=False,\n",
    "    )\n",
    "    viewer.add_points(\n",
    "        ts_dict[ts_name][\"peaks\"], \n",
    "        name=f\"{ts_name} peaks\",\n",
    "        blending=\"translucent\",\n",
    "        edge_color=\"red\",\n",
    "        edge_width=0.2, \n",
    "        visible=False\n",
    "    )\n"
   ]
  },
  {
   "cell_type": "code",
   "execution_count": null,
   "metadata": {},
   "outputs": [],
   "source": [
    "# Convert the calculated peak coordinates from binned space to unbinned space. Star files for RELION required unbinned coordinates.\n",
    "rln_coordinates = [\"rlnCoordinateZ\", \"rlnCoordinateY\", \"rlnCoordinateX\"]\n",
    "rln_angles = [\"rlnAngleRot\", \"rlnAngleTilt\", \"rlnAnglePsi\"]\n",
    "\n",
    "#rln_tomoname = \"ts002\"\n",
    "#peak_coords_df = pd.DataFrame(peak_coords,columns=rln_coordinates)\n",
    "#unbinned_peak_coords_df = pd.DataFrame()\n",
    "#for coordinate in rln_coordinates:\n",
    "#    unbinned_peak_coords_df[coordinate] = tomo_bin_factor * peak_coords_df[coordinate]\n",
    "#for angle in rln_angles:\n",
    "#    unbinned_peak_coords_df[angle] = 0.0\n",
    "#unbinned_peak_coords_df[\"rlnTomoName\"] = rln_tomoname\n",
    "#unbinned_peak_coords_df.head(3)\n",
    "#\n",
    "# Create empty pd columns and append entries for every tomogram in tomos\n",
    "name_i = 0\n",
    "unbinned_peak_coords_dict = {}\n",
    "\n",
    "import numpy as np\n",
    "\n",
    "for ts_name in to_load:\n",
    "    unbinned_peak_coords_dict[ts_name] = pd.DataFrame(ts_dict[ts_name][\"peaks\"],columns=rln_coordinates) * tomo_bin_factor\n",
    "    for angle in rln_angles:\n",
    "        random_angles = np.random.randint(0,179,size=len(unbinned_peak_coords_dict[ts_name].index))\n",
    "        unbinned_peak_coords_dict[ts_name][angle] = random_angles\n",
    "    unbinned_peak_coords_dict[ts_name][\"rlnTomoName\"] = ts_name\n",
    "    name_i+=1\n",
    "\n",
    "    write_path = segment_directory / f\"particles_{ts_name}.star\"\n",
    "    starfile.write(unbinned_peak_coords_dict[ts_name], write_path, overwrite=True)"
   ]
  },
  {
   "cell_type": "code",
   "execution_count": null,
   "metadata": {},
   "outputs": [],
   "source": [
    "# Initialize the df that will be written to the star file\n",
    "particles_df = pd.DataFrame(columns=rln_coordinates+rln_angles+[\"rlnTomoName\"])\n",
    "\n",
    "# Concatenate particle dfs from each tomogram into one\n",
    "for ts_name in unbinned_peak_coords_dict.keys():\n",
    "    particles_df = pd.concat([particles_df, unbinned_peak_coords_dict[ts_name]], ignore_index=True)\n",
    "\n",
    "# Write the star file\n",
    "write_path = segment_directory / f\"particles_abs{threshold_abs}rel{threshold_rel}.star\"\n",
    "starfile.write(particles_df, write_path, overwrite=True)"
   ]
  },
  {
   "cell_type": "code",
   "execution_count": null,
   "metadata": {},
   "outputs": [],
   "source": []
  }
 ],
 "metadata": {
  "kernelspec": {
   "display_name": "napari",
   "language": "python",
   "name": "python3"
  },
  "language_info": {
   "codemirror_mode": {
    "name": "ipython",
    "version": 3
   },
   "file_extension": ".py",
   "mimetype": "text/x-python",
   "name": "python",
   "nbconvert_exporter": "python",
   "pygments_lexer": "ipython3",
   "version": "3.9.16"
  },
  "orig_nbformat": 4
 },
 "nbformat": 4,
 "nbformat_minor": 2
}
