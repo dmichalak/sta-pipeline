{
 "cells": [
  {
   "cell_type": "code",
   "execution_count": 1,
   "id": "926f0e6d-52a0-494d-abeb-b2f20036c69e",
   "metadata": {
    "tags": []
   },
   "outputs": [],
   "source": [
    "from skimage.io import imread\n",
    "import mrcfile\n",
    "import napari"
   ]
  },
  {
   "cell_type": "code",
   "execution_count": 5,
   "id": "4f4f17f2-0d73-41a6-8a63-0a96acf5291d",
   "metadata": {
    "tags": []
   },
   "outputs": [],
   "source": [
    "viewer = napari.Viewer()"
   ]
  },
  {
   "cell_type": "code",
   "execution_count": 6,
   "id": "fd74ea23-949a-40e2-a25e-ef208fa932a9",
   "metadata": {
    "tags": []
   },
   "outputs": [
    {
     "data": {
      "text/plain": [
       "<Image layer 'deconv' at 0x7f8ffb6d5100>"
      ]
     },
     "execution_count": 6,
     "metadata": {},
     "output_type": "execute_result"
    }
   ],
   "source": [
    "rootname = \"ts001\"\n",
    "DP = \"50\"\n",
    "SP = \"50\"\n",
    "tomogram = mrcfile.mmap(\n",
    "    f\"/media/michalakdj/scratch/actin_test/isonet/actin_deconv_snr0.4/{rootname}.mrc\",\n",
    "    permissive=True).data\n",
    "mask = mrcfile.mmap(\n",
    "    f\"/media/michalakdj/scratch/actin_test/isonet/actin_mask_DP{DP}SP{SP}/{rootname}_mask.mrc\",\n",
    "    permissive=True).data\n",
    "masked_tomogram = tomogram * mask\n",
    "viewer.add_image(masked_tomogram, name=f\"maskDP{DP}SP{SP}\")\n",
    "viewer.add_image(tomogram, name=f\"deconv\")"
   ]
  },
  {
   "cell_type": "code",
   "execution_count": null,
   "id": "d97813f2-bea0-4c8b-a318-deac065fa478",
   "metadata": {},
   "outputs": [],
   "source": []
  }
 ],
 "metadata": {
  "kernelspec": {
   "display_name": "Python 3 (ipykernel)",
   "language": "python",
   "name": "python3"
  },
  "language_info": {
   "codemirror_mode": {
    "name": "ipython",
    "version": 3
   },
   "file_extension": ".py",
   "mimetype": "text/x-python",
   "name": "python",
   "nbconvert_exporter": "python",
   "pygments_lexer": "ipython3",
   "version": "3.9.16"
  }
 },
 "nbformat": 4,
 "nbformat_minor": 5
}
