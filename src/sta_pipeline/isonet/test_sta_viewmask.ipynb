{
 "cells": [
  {
   "cell_type": "code",
   "execution_count": 2,
   "metadata": {},
   "outputs": [],
   "source": [
    "import click\n",
    "from os import PathLike\n",
    "from pathlib import Path\n",
    "from skimage.io import imread\n",
    "import mrcfile\n",
    "import napari"
   ]
  },
  {
   "cell_type": "code",
   "execution_count": 17,
   "metadata": {},
   "outputs": [],
   "source": [
    "\n",
    "def sta_viewmask(\n",
    "    tomogram_directory: PathLike,\n",
    "    mask_directory: PathLike\n",
    ")-> None:\n",
    "    \"\"\"View the mask applied to the tomogram.\n",
    "\n",
    "    Parameters\n",
    "    ----------\n",
    "    working_directory : PathLike\n",
    "        Path to the working directory.\n",
    "    mask_directory : PathLike  \n",
    "        Path to the mask directory.\n",
    "    \"\"\" \n",
    "    tomogram_directory = Path(tomogram_directory).absolute()    \n",
    "    mask_directory = Path(mask_directory).absolute()\n",
    "\n",
    "    viewer = napari.Viewer()\n",
    "\n",
    "    masks = {}\n",
    "    for mask in mask_directory.glob(\"*.mrc\"):\n",
    "        masks[mask.stem.split(\"_\")[0]] = mrcfile.mmap(mask, permissive=True).data\n",
    "        continue\n",
    "\n",
    "    tomograms = {}\n",
    "    for ts_name in masks.keys():\n",
    "        tomograms[ts_name] = mrcfile.mmap(\n",
    "            tomogram_directory / f\"{ts_name}_rec.mrc\", permissive=True).data\n",
    "    \n",
    "    masked_tomograms = {}\n",
    "    for ts_name in masks.keys():\n",
    "        masked_tomograms[ts_name] = tomograms[ts_name] * masks[ts_name]\n",
    "        viewer.add_image(tomograms[ts_name], name=ts_name, visible=False)\n",
    "        viewer.add_image(masked_tomograms[ts_name], name=f\"{ts_name}_masked\", visible=False)\n",
    "\n",
    "\n",
    "\n",
    "@click.command()\n",
    "@click.option(\n",
    "    \"--tomogram_directory\",\n",
    "    \"-t\",\n",
    "    type=click.Path(exists=True),\n",
    "    help=\"Path to the tomogram directory.\",\n",
    ")\n",
    "@click.option(\n",
    "    \"--mask_directory\",\n",
    "    \"-m\",\n",
    "    type=click.Path(exists=True),\n",
    "    help=\"Path to the mask directory.\",\n",
    ")\n",
    "\n",
    "def cli(\n",
    "    tomogram_directory: PathLike,\n",
    "    mask_directory: PathLike\n",
    "):\n",
    "    sta_viewmask(\n",
    "        tomogram_directory=tomogram_directory,\n",
    "        mask_directory=mask_directory\n",
    "    )"
   ]
  },
  {
   "cell_type": "code",
   "execution_count": 18,
   "metadata": {},
   "outputs": [],
   "source": [
    "mask_directory = Path(\"/mnt/scratch/ribosomes/wws_EGFcontrol/isonet/mask_dp50sp50_test\")\n",
    "tomogram_directory = Path(\"/mnt/scratch/ribosomes/wws_EGFcontrol/isonet/deconv_snr0.7_test/\")\n",
    "sta_viewmask(\n",
    "    tomogram_directory=tomogram_directory,\n",
    "    mask_directory=mask_directory\n",
    ")"
   ]
  },
  {
   "cell_type": "code",
   "execution_count": null,
   "metadata": {},
   "outputs": [],
   "source": []
  }
 ],
 "metadata": {
  "kernelspec": {
   "display_name": "devbio-napari-env",
   "language": "python",
   "name": "python3"
  },
  "language_info": {
   "codemirror_mode": {
    "name": "ipython",
    "version": 3
   },
   "file_extension": ".py",
   "mimetype": "text/x-python",
   "name": "python",
   "nbconvert_exporter": "python",
   "pygments_lexer": "ipython3",
   "version": "3.9.16"
  },
  "orig_nbformat": 4
 },
 "nbformat": 4,
 "nbformat_minor": 2
}
