{
 "cells": [
  {
   "cell_type": "code",
   "execution_count": 2,
   "metadata": {},
   "outputs": [],
   "source": [
    "from pathlib import Path\n",
    "import pandas as pd\n",
    "import numpy as np\n",
    "\n",
    "import imodmodel\n",
    "import starfile"
   ]
  },
  {
   "cell_type": "code",
   "execution_count": 41,
   "metadata": {},
   "outputs": [],
   "source": [
    "randomize_angles = True\n",
    "path_to_model_directory = Path(\"./data/\").absolute()\n"
   ]
  },
  {
   "cell_type": "code",
   "execution_count": 42,
   "metadata": {},
   "outputs": [],
   "source": [
    "model_dict = {}\n",
    "for model in path_to_model_directory.glob(\"*.mod\"):\n",
    "    model_dict[model.stem] = imodmodel.read(model)\n",
    "    model_dict[model.stem][\"name\"] = model.stem"
   ]
  },
  {
   "cell_type": "code",
   "execution_count": 43,
   "metadata": {},
   "outputs": [
    {
     "data": {
      "text/plain": [
       "{'42':     object_id  contour_id            x            y           z name\n",
       " 0           0           0   630.559998  5253.160156 -316.290009   42\n",
       " 1           0           0  1697.530029  1636.839966 -239.350006   42\n",
       " 2           0           0   795.900024  1904.420044 -131.059998   42\n",
       " 3           0           0   385.880005   237.860001  -67.680000   42\n",
       " 4           0           0  2408.530029  4749.339844 -527.340027   42\n",
       " 5           0           0  3026.870117   910.669983 -364.040009   42\n",
       " 6           0           0  3753.909912  1306.530029 -346.609985   42\n",
       " 7           0           0  1029.630005   492.089996  266.559998   42\n",
       " 8           0           0   556.650024   956.080017  388.000000   42\n",
       " 9           0           0  2841.760010  2241.030029  431.369995   42\n",
       " 10          0           0  2047.099976  2190.570068  440.549988   42,\n",
       " '85':     object_id  contour_id            x            y            z name\n",
       " 0           0           0  2143.500000  5487.439941  -625.580017   85\n",
       " 1           0           0  2151.699951  3732.310059  -472.779999   85\n",
       " 2           0           0   990.559998  5002.500000  -609.750000   85\n",
       " 3           0           0  1694.569946  5067.020020  -595.979980   85\n",
       " 4           0           0  1818.640015  3789.870117  -450.660004   85\n",
       " 5           0           0  1940.859985  5487.069824  -637.780029   85\n",
       " 6           0           0  1491.829956   713.309998  -455.739990   85\n",
       " 7           0           0   633.780029   888.609985 -1025.199951   85\n",
       " 8           0           0  3108.250000  5042.509766  -614.200012   85\n",
       " 9           0           0  3782.060059  4679.390137  -578.599976   85\n",
       " 10          0           0  2802.489990  5499.390137  -620.380005   85\n",
       " 11          0           0  2140.080078  2045.699951  -551.760010   85\n",
       " 12          0           0  3012.270020  1062.880005  -551.030029   85\n",
       " 13          0           0  3847.020020  5180.870117   352.010010   85\n",
       " 14          0           0  4036.469971  4852.649902   472.519989   85\n",
       " 15          0           0  2163.320068   719.440002    38.900002   85}"
      ]
     },
     "execution_count": 43,
     "metadata": {},
     "output_type": "execute_result"
    }
   ],
   "source": [
    "model_dict"
   ]
  },
  {
   "cell_type": "code",
   "execution_count": 44,
   "metadata": {},
   "outputs": [],
   "source": [
    "star_dict = {}\n",
    "for key in list(model_dict.keys()):\n",
    "    star_dict[key] = pd.DataFrame()\n",
    "    star_dict[key][\"rlnTomoName\"] = model_dict[key][\"name\"]\n",
    "    star_dict[key][\"rlnCoordinateX\"] = model_dict[key][\"x\"]\n",
    "    star_dict[key][\"rlnCoordinateY\"] = model_dict[key][\"y\"]\n",
    "    star_dict[key][\"rlnCoordinateZ\"] = model_dict[key][\"z\"]\n",
    "\n",
    "    if randomize_angles == True:\n",
    "        star_dict[key][\"rlnAngleRot\"] = np.random.uniform(0, 180, len(model_dict[key]))\n",
    "        star_dict[key][\"rlnAngleTilt\"] = np.random.uniform(0,180, len(model_dict[key]))\n",
    "        star_dict[key][\"rlnAnglePsi\"] = np.random.uniform(0, 180, len(model_dict[key]))\n",
    "    else:\n",
    "        star_dict[key][\"rlnAngleRot\"] = 0.0\n",
    "        star_dict[key][\"rlnAngleTilt\"] = 0.0\n",
    "        star_dict[key][\"rlnAnglePsi\"] = 0.0 \n"
   ]
  },
  {
   "cell_type": "code",
   "execution_count": 45,
   "metadata": {},
   "outputs": [
    {
     "data": {
      "text/plain": [
       "{'42':    rlnTomoName  rlnCoordinateX  rlnCoordinateY  rlnCoordinateZ  rlnAngleRot  \\\n",
       " 0           42      630.559998     5253.160156     -316.290009    47.514843   \n",
       " 1           42     1697.530029     1636.839966     -239.350006    36.323947   \n",
       " 2           42      795.900024     1904.420044     -131.059998   155.174811   \n",
       " 3           42      385.880005      237.860001      -67.680000   130.854883   \n",
       " 4           42     2408.530029     4749.339844     -527.340027   170.882146   \n",
       " 5           42     3026.870117      910.669983     -364.040009   154.933690   \n",
       " 6           42     3753.909912     1306.530029     -346.609985    39.015198   \n",
       " 7           42     1029.630005      492.089996      266.559998    23.249664   \n",
       " 8           42      556.650024      956.080017      388.000000   104.012824   \n",
       " 9           42     2841.760010     2241.030029      431.369995   172.636437   \n",
       " 10          42     2047.099976     2190.570068      440.549988   145.772938   \n",
       " \n",
       "     rlnAngleTilt  rlnAnglePsi  \n",
       " 0     137.239450    42.069624  \n",
       " 1      83.599455    99.273945  \n",
       " 2      63.708124   149.085398  \n",
       " 3      83.722611    49.001702  \n",
       " 4      52.450080    27.761955  \n",
       " 5     151.561211   179.507189  \n",
       " 6      74.977768   155.018636  \n",
       " 7      83.909285    78.879279  \n",
       " 8      59.467701   154.624683  \n",
       " 9     147.963060    66.656286  \n",
       " 10     10.058722   143.517486  ,\n",
       " '85':    rlnTomoName  rlnCoordinateX  rlnCoordinateY  rlnCoordinateZ  rlnAngleRot  \\\n",
       " 0           85     2143.500000     5487.439941     -625.580017    41.402919   \n",
       " 1           85     2151.699951     3732.310059     -472.779999   102.771933   \n",
       " 2           85      990.559998     5002.500000     -609.750000   179.128759   \n",
       " 3           85     1694.569946     5067.020020     -595.979980    89.237614   \n",
       " 4           85     1818.640015     3789.870117     -450.660004    22.264049   \n",
       " 5           85     1940.859985     5487.069824     -637.780029    56.140328   \n",
       " 6           85     1491.829956      713.309998     -455.739990    73.733248   \n",
       " 7           85      633.780029      888.609985    -1025.199951     5.727507   \n",
       " 8           85     3108.250000     5042.509766     -614.200012    83.013468   \n",
       " 9           85     3782.060059     4679.390137     -578.599976    59.757718   \n",
       " 10          85     2802.489990     5499.390137     -620.380005    99.657679   \n",
       " 11          85     2140.080078     2045.699951     -551.760010   115.493010   \n",
       " 12          85     3012.270020     1062.880005     -551.030029   125.521294   \n",
       " 13          85     3847.020020     5180.870117      352.010010    86.508891   \n",
       " 14          85     4036.469971     4852.649902      472.519989   172.497257   \n",
       " 15          85     2163.320068      719.440002       38.900002    25.117556   \n",
       " \n",
       "     rlnAngleTilt  rlnAnglePsi  \n",
       " 0     167.654578   148.722783  \n",
       " 1      39.044263   164.954022  \n",
       " 2     151.596487   159.167853  \n",
       " 3      46.934103    82.544486  \n",
       " 4      76.511264     5.237695  \n",
       " 5     139.355413     2.954584  \n",
       " 6     158.805174    79.603188  \n",
       " 7     137.436666   131.737097  \n",
       " 8      64.945965   104.560963  \n",
       " 9     144.219582     5.423405  \n",
       " 10     44.066934   179.879011  \n",
       " 11     99.318440    21.959861  \n",
       " 12     56.417779    59.223570  \n",
       " 13     38.773178   121.704128  \n",
       " 14    146.215284    36.110720  \n",
       " 15     59.543084    27.506256  }"
      ]
     },
     "execution_count": 45,
     "metadata": {},
     "output_type": "execute_result"
    }
   ],
   "source": [
    "star_dict"
   ]
  },
  {
   "cell_type": "code",
   "execution_count": 47,
   "metadata": {},
   "outputs": [],
   "source": [
    "for key in star_dict.keys():\n",
    "    starfile.write(star_dict[key], f\"{star_dict[key]['rlnTomoName'][0]}.star\", overwrite=True)"
   ]
  },
  {
   "cell_type": "code",
   "execution_count": null,
   "metadata": {},
   "outputs": [],
   "source": []
  }
 ],
 "metadata": {
  "kernelspec": {
   "display_name": "base",
   "language": "python",
   "name": "python3"
  },
  "language_info": {
   "codemirror_mode": {
    "name": "ipython",
    "version": 3
   },
   "file_extension": ".py",
   "mimetype": "text/x-python",
   "name": "python",
   "nbconvert_exporter": "python",
   "pygments_lexer": "ipython3",
   "version": "3.10.11"
  },
  "orig_nbformat": 4
 },
 "nbformat": 4,
 "nbformat_minor": 2
}
