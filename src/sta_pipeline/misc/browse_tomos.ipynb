{
 "cells": [
  {
   "cell_type": "code",
   "execution_count": null,
   "metadata": {},
   "outputs": [],
   "source": [
    "from pathlib import Path\n",
    "\n",
    "import napari\n",
    "import mrcfile\n"
   ]
  },
  {
   "cell_type": "code",
   "execution_count": null,
   "metadata": {},
   "outputs": [],
   "source": [
    "tomograms_directory = Path(\"/mnt/scratch/ribosomes/wws_EGFcontrol/isonet/predict_dp50sp50_egfc/\")\n",
    "\n",
    "ts_list = []\n",
    "for ts in sorted(tomograms_directory.glob(\"*.mrc\")):\n",
    "    ts_list.append(ts.absolute())\n",
    "\n",
    "ts_idx = 0\n",
    "viewer = napari.Viewer()"
   ]
  },
  {
   "cell_type": "code",
   "execution_count": 8,
   "metadata": {},
   "outputs": [
    {
     "ename": "IndexError",
     "evalue": "list index out of range",
     "output_type": "error",
     "traceback": [
      "\u001b[0;31m---------------------------------------------------------------------------\u001b[0m",
      "\u001b[0;31mIndexError\u001b[0m                                Traceback (most recent call last)",
      "Cell \u001b[0;32mIn[8], line 3\u001b[0m\n\u001b[1;32m      1\u001b[0m \u001b[39mfor\u001b[39;00m i \u001b[39min\u001b[39;00m \u001b[39mrange\u001b[39m(\u001b[39m0\u001b[39m, \u001b[39m10\u001b[39m):\n\u001b[1;32m      2\u001b[0m     viewer\u001b[39m.\u001b[39madd_image(\n\u001b[0;32m----> 3\u001b[0m         mrcfile\u001b[39m.\u001b[39mread(ts_list[ts_idx]),\n\u001b[1;32m      4\u001b[0m         name\u001b[39m=\u001b[39m\u001b[39mf\u001b[39m\u001b[39m\"\u001b[39m\u001b[39m{\u001b[39;00mts_list[ts_idx]\u001b[39m.\u001b[39mstem[:\u001b[39m5\u001b[39m]\u001b[39m}\u001b[39;00m\u001b[39m tomo\u001b[39m\u001b[39m\"\u001b[39m,\n\u001b[1;32m      5\u001b[0m         depiction\u001b[39m=\u001b[39m\u001b[39m\"\u001b[39m\u001b[39mplane\u001b[39m\u001b[39m\"\u001b[39m,\n\u001b[1;32m      6\u001b[0m         blending\u001b[39m=\u001b[39m\u001b[39m\"\u001b[39m\u001b[39mtranslucent\u001b[39m\u001b[39m\"\u001b[39m,\n\u001b[1;32m      7\u001b[0m         interpolation2d\u001b[39m=\u001b[39m\u001b[39m\"\u001b[39m\u001b[39mbicubic\u001b[39m\u001b[39m\"\u001b[39m,\n\u001b[1;32m      8\u001b[0m         contrast_limits\u001b[39m=\u001b[39m[\u001b[39m-\u001b[39m\u001b[39m3\u001b[39m, \u001b[39m2.5\u001b[39m],\n\u001b[1;32m      9\u001b[0m         visible\u001b[39m=\u001b[39m\u001b[39mFalse\u001b[39;00m,\n\u001b[1;32m     10\u001b[0m     )\n\u001b[1;32m     12\u001b[0m     ts_idx \u001b[39m+\u001b[39m\u001b[39m=\u001b[39m \u001b[39m1\u001b[39m\n",
      "\u001b[0;31mIndexError\u001b[0m: list index out of range"
     ]
    }
   ],
   "source": [
    "%%capture\n",
    "\n",
    "for i in range(0, 10):\n",
    "    viewer.add_image(\n",
    "        mrcfile.read(ts_list[ts_idx]),\n",
    "        name=f\"{ts_list[ts_idx].stem[:5]} tomo\",\n",
    "        depiction=\"plane\",\n",
    "        blending=\"translucent\",\n",
    "        interpolation2d=\"bicubic\",\n",
    "        contrast_limits=[-3, 2.5],\n",
    "        visible=False,\n",
    "    )\n",
    "    \n",
    "    ts_idx += 1"
   ]
  },
  {
   "cell_type": "code",
   "execution_count": null,
   "metadata": {},
   "outputs": [],
   "source": []
  },
  {
   "cell_type": "code",
   "execution_count": null,
   "metadata": {},
   "outputs": [],
   "source": []
  }
 ],
 "metadata": {
  "kernelspec": {
   "display_name": "devbio-napari-env",
   "language": "python",
   "name": "python3"
  },
  "language_info": {
   "codemirror_mode": {
    "name": "ipython",
    "version": 3
   },
   "file_extension": ".py",
   "mimetype": "text/x-python",
   "name": "python",
   "nbconvert_exporter": "python",
   "pygments_lexer": "ipython3",
   "version": "3.9.16"
  },
  "orig_nbformat": 4
 },
 "nbformat": 4,
 "nbformat_minor": 2
}
