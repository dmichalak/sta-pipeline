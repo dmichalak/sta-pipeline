{
 "cells": [
  {
   "cell_type": "code",
   "execution_count": 5,
   "metadata": {},
   "outputs": [
    {
     "data": {
      "text/plain": [
       "'\\nGoal = find and remove bad particles in peak_local_max output\\n\\nRequires = a unique particle identifier = particle coordinates and ts_name\\n\\nUse = \"rlnCoordinateX\", \"rlnCoordinateY\", \"rlnCoordinateZ\", \"rlnTomoName\"\\n\\nRefinement stores translation and rotation info in the following columns:\\n    rlnOriginXAngst\\n    rlnOriginYAngst\\n    rlnOriginZAngst\\n    rlnAngleRot\\n    rlnAngleTilt\\n    rlnAnglePsi\\n\\n'"
      ]
     },
     "execution_count": 5,
     "metadata": {},
     "output_type": "execute_result"
    }
   ],
   "source": [
    "from pathlib import Path\n",
    "import pandas as pd\n",
    "import numpy as np\n",
    "\n",
    "import starfile\n",
    "\n",
    "\"\"\"\n",
    "Goal = find and remove bad particles in peak_local_max output\n",
    "\n",
    "Requires = a unique particle identifier = particle coordinates and ts_name\n",
    "\n",
    "Use = \"rlnCoordinateX\", \"rlnCoordinateY\", \"rlnCoordinateZ\", \"rlnTomoName\"\n",
    "\n",
    "Refinement stores translation and rotation info in the following columns:\n",
    "    rlnOriginXAngst\n",
    "    rlnOriginYAngst\n",
    "    rlnOriginZAngst\n",
    "    rlnAngleRot\n",
    "    rlnAngleTilt\n",
    "    rlnAnglePsi\n",
    "\n",
    "\"\"\""
   ]
  },
  {
   "cell_type": "code",
   "execution_count": null,
   "metadata": {},
   "outputs": [],
   "source": [
    "peaks_star_path = Path(\"path/to/peaks.star\")\n",
    "class_data_star_path = Path(\"path/to/class_data.star\")\n",
    "\n",
    "bad_particles_star_path = Path(\"path/to/bad_particles.star\")\n",
    "\n",
    "peaks_star = starfile.open(peaks_star_path)\n",
    "class_data_star = starfile.open(class_data_star_path)\n",
    "\n",
    "bad_classes = [1,2,3]"
   ]
  },
  {
   "cell_type": "code",
   "execution_count": null,
   "metadata": {},
   "outputs": [],
   "source": [
    "cleaned_class_data_star = class_data_star[class_data_star[\"rlnClassNumber\"].isin(bad_classes) == False]\n",
    "bad_class_data_star = class_data_star[class_data_star[\"rlnClassNumber\"].isin(bad_classes)]\n",
    "\n",
    "\n",
    "if bad_particles_star_path.exists():\n",
    "    bad_particles_star = starfile.open(bad_particles_star_path)\n",
    "    bad_particles_star = pd.concat([bad_particles_star, bad_class_data_star], ignore_index=True)\n",
    "    starfile.write(bad_particles_star, bad_particles_star_path, overwrite=True)\n",
    "else:\n",
    "    starfile.write(bad_class_data_star, bad_particles_star_path, overwrite=True)"
   ]
  },
  {
   "cell_type": "code",
   "execution_count": null,
   "metadata": {},
   "outputs": [],
   "source": [
    "bad_particles_df = bad_class_data_star.copy()\n",
    "\n",
    "# Find bad particles in peaks.star\n",
    "cleaned_peaks_star = peaks_star.drop(\n",
    "    peaks_star[\n",
    "        peaks_star[\"rlnCoordinateX\"].isin(bad_particles_df.rlnCoordinateX) &\n",
    "        peaks_star[\"rlnCoordinateY\"].isin(bad_particles_df.rlnCoordinateY) &\n",
    "        peaks_star[\"rlnCoordinateZ\"].isin(bad_particles_df.rlnCoordinateZ) &\n",
    "        peaks_star[\"rlnTomoName\"].isin(bad_particles_df.rlnTomoName\n",
    "    ].index\n",
    ")\n",
    "\n",
    "# Write cleaned peaks.star and import into relion\n",
    "cleaned_peaks_star_path = Path(\"path/to/cleaned_peaks.star\")\n",
    "\n",
    "starfile.write(cleaned_peaks_star, cleaned_peaks_star_path, overwrite=False)"
   ]
  }
 ],
 "metadata": {
  "kernelspec": {
   "display_name": "base",
   "language": "python",
   "name": "python3"
  },
  "language_info": {
   "codemirror_mode": {
    "name": "ipython",
    "version": 3
   },
   "file_extension": ".py",
   "mimetype": "text/x-python",
   "name": "python",
   "nbconvert_exporter": "python",
   "pygments_lexer": "ipython3",
   "version": "3.10.11"
  },
  "orig_nbformat": 4
 },
 "nbformat": 4,
 "nbformat_minor": 2
}
