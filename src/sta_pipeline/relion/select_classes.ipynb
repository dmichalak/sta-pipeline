{
 "cells": [
  {
   "cell_type": "code",
   "execution_count": 1,
   "metadata": {},
   "outputs": [],
   "source": [
    "from pathlib import Path\n",
    "import pandas as pd\n",
    "import numpy as np\n",
    "\n",
    "import starfile"
   ]
  },
  {
   "cell_type": "code",
   "execution_count": 12,
   "metadata": {},
   "outputs": [],
   "source": [
    "def select_classes(\n",
    "    class_data_star: str,\n",
    "    classes_to_select: str,\n",
    "    ) -> None:\n",
    "    \"\"\"Select a subset of classes from a class data star file.\"\"\"\n",
    "    class_data_star = Path(class_data_star).absolute()\n",
    "    output_dir = class_data_star.parent\n",
    "    classes_to_select = [int(x) for x in classes_to_select.split(\",\")]\n",
    "\n",
    "    class_data = starfile.read(class_data_star)\n",
    "    particle_data = class_data[\"particles\"]\n",
    "    selected_data = particle_data.loc[particle_data[\"rlnClassNumber\"].isin(classes_to_select)]\n",
    "    selected_data_star = output_dir / f\"{class_data_star.stem}_selectedclasses.star\"\n",
    "    class_data[\"particles\"] = selected_data\n",
    "    starfile.write(class_data, selected_data_star, overwrite=True)\n",
    "    #starfile.write(selected_data, selected_data_star, overwrite=True)"
   ]
  },
  {
   "cell_type": "code",
   "execution_count": 13,
   "metadata": {},
   "outputs": [],
   "source": [
    "class_data_star = \"/mnt/scratch/ribosomes/wws_EGFcontrol/Class3D/job021/run_it025_data.star\"\n",
    "classes_to_select = \"4\"\n",
    "select_classes(class_data_star, classes_to_select)"
   ]
  },
  {
   "cell_type": "code",
   "execution_count": null,
   "metadata": {},
   "outputs": [],
   "source": []
  }
 ],
 "metadata": {
  "kernelspec": {
   "display_name": "devbio-napari-env",
   "language": "python",
   "name": "python3"
  },
  "language_info": {
   "codemirror_mode": {
    "name": "ipython",
    "version": 3
   },
   "file_extension": ".py",
   "mimetype": "text/x-python",
   "name": "python",
   "nbconvert_exporter": "python",
   "pygments_lexer": "ipython3",
   "version": "3.9.16"
  },
  "orig_nbformat": 4
 },
 "nbformat": 4,
 "nbformat_minor": 2
}
