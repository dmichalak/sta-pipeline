{
 "cells": [
  {
   "cell_type": "code",
   "execution_count": 2,
   "metadata": {},
   "outputs": [],
   "source": [
    "from pathlib import Path\n",
    "import pandas as pd\n",
    "import numpy as np\n",
    "\n",
    "import starfile"
   ]
  },
  {
   "cell_type": "code",
   "execution_count": null,
   "metadata": {},
   "outputs": [],
   "source": [
    "def rln_split_classif_star(\n",
    "        classif_star_file: Path,\n",
    "        overwrite: bool = False,\n",
    "):\n",
    "    \"\"\" Split up the run_it025_data.star file into separate star files for each class specified by rlnClassNumber.\n",
    "\n",
    "        Args:\n",
    "                classif_star_file (Path): Path to the run_it025_data.star file\n",
    "                overwrite (bool): Whether to overwrite existing star files\n",
    "\n",
    "        Returns:\n",
    "                classes_dict (dict): Dictionary of \"particles\" and \"optics\" for each class\n",
    "\n",
    "    \"\"\"\n",
    "\n",
    "    classif_star_file = Path(classif_star_file).absolute()\n",
    "    classif_star = starfile.read(classif_star_file)\n",
    "    classif_particles_df = classif_star[\"particles\"]\n",
    "    classif_optics_df = classif_star[\"optics\"]\n",
    "\n",
    "    # Create a dictionary of classes\n",
    "    classes_dict = {\"particles\": None, \"optics\": classif_optics_df}\n",
    "\n",
    "    # Get the list of class numbers from rlnClassNumber\n",
    "    class_number_list = sorted(classif_particles_df[\"rlnClassNumber\"].unique())\n",
    "\n",
    "    for class_number in class_number_list:\n",
    "\n",
    "        class_star_file = Path(classif_star_file.parent / f\"class_{class_number}_it025_data.star\").absolute()\n",
    "        classes_dict[class_number][\"particles\"] = classif_particles_df[classif_particles_df[\"rlnClassNumber\"] == class_number]\n",
    "\n",
    "        # Write the star file\n",
    "        starfile.write(class_star_file, classes_dict[class_number])\n",
    "    \n",
    "    return classes_dict\n",
    "\n"
   ]
  },
  {
   "cell_type": "code",
   "execution_count": 13,
   "metadata": {},
   "outputs": [],
   "source": [
    "classif_data_star_file = Path('/mnt/scratch/ribosomes/kas_k44a/relion/Class3D/bin10_K12_local_15deg/run_it025_data.star').absolute()\n",
    "\n",
    "classif_data_star = starfile.read(classif_data_star_file)\n",
    "classif_data_particles_df= classif_data_star['particles']\n",
    "classif_data_optics_df = classif_data_star['optics']\n",
    "\n",
    "class_dict = {}\n",
    "class_numbers = sorted(classif_data_particles_df['rlnClassNumber'].unique())\n",
    "\n",
    "for class_number in class_numbers:\n",
    "    class_dict[class_number] = {\n",
    "        \"particles\" : classif_data_particles_df[classif_data_particles_df['rlnClassNumber'] == class_number],\n",
    "        \"optics\": classif_data_optics_df[classif_data_optics_df['rlnClassNumber'] == class_number],\n",
    "        }\n",
    "\n"
   ]
  },
  {
   "cell_type": "code",
   "execution_count": 16,
   "metadata": {},
   "outputs": [],
   "source": [
    "for class_number in sorted(classif_data_particles_df[\"rlnClassNumber\"].unique()):\n",
    "    subset_star_dict = {\n",
    "        \"optics\": None, \n",
    "        \"particles\": None,\n",
    "        }\n",
    "\n",
    "    subset_star_dict['optics'] = classif_data_optics_df \n"
   ]
  },
  {
   "cell_type": "code",
   "execution_count": 12,
   "metadata": {},
   "outputs": [],
   "source": [
    "def select_classes(\n",
    "    class_data_star: str,\n",
    "    classes_to_select: str,\n",
    "    ) -> None:\n",
    "    \"\"\"Select a subset of classes from a class data star file.\"\"\"\n",
    "    class_data_star = Path(class_data_star).absolute()\n",
    "    output_dir = class_data_star.parent\n",
    "    classes_to_select = [int(x) for x in classes_to_select.split(\",\")]\n",
    "\n",
    "    class_data = starfile.read(class_data_star)\n",
    "    particle_data = class_data[\"particles\"]\n",
    "    selected_data = particle_data.loc[particle_data[\"rlnClassNumber\"].isin(classes_to_select)]\n",
    "    selected_data_star = output_dir / f\"{class_data_star.stem}_selectedclasses.star\"\n",
    "    class_data[\"particles\"] = selected_data\n",
    "    starfile.write(class_data, selected_data_star, overwrite=True)\n",
    "    #starfile.write(selected_data, selected_data_star, overwrite=True)"
   ]
  },
  {
   "cell_type": "code",
   "execution_count": 13,
   "metadata": {},
   "outputs": [],
   "source": [
    "class_data_star = \"/mnt/scratch/ribosomes/wws_EGFcontrol/Class3D/job021/run_it025_data.star\"\n",
    "classes_to_select = \"4\"\n",
    "select_classes(class_data_star, classes_to_select)"
   ]
  },
  {
   "cell_type": "code",
   "execution_count": null,
   "metadata": {},
   "outputs": [],
   "source": []
  }
 ],
 "metadata": {
  "kernelspec": {
   "display_name": "devbio-napari-env",
   "language": "python",
   "name": "python3"
  },
  "language_info": {
   "codemirror_mode": {
    "name": "ipython",
    "version": 3
   },
   "file_extension": ".py",
   "mimetype": "text/x-python",
   "name": "python",
   "nbconvert_exporter": "python",
   "pygments_lexer": "ipython3",
   "version": "3.9.16"
  },
  "orig_nbformat": 4
 },
 "nbformat": 4,
 "nbformat_minor": 2
}
