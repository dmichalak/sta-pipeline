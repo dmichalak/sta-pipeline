{
 "cells": [
  {
   "cell_type": "code",
   "execution_count": null,
   "metadata": {},
   "outputs": [],
   "source": [
    "# create a 2d histogram showing how many particles from each class are in each tomogram. Might tell us something about which tomograms have lower resolution due to thickness."
   ]
  },
  {
   "cell_type": "code",
   "execution_count": 1,
   "metadata": {},
   "outputs": [],
   "source": [
    "from pathlib import Path\n",
    "\n",
    "import starfile"
   ]
  },
  {
   "cell_type": "code",
   "execution_count": 4,
   "metadata": {},
   "outputs": [],
   "source": [
    "input_star_path = Path(\"/mnt/scratch/ribosomes/kas_k44a/relion_full/Class3D/job009/run_it025_data.star\")\n",
    "output_dir = Path(\"/mnt/scratch/ribosomes/kas_k44a/relion_full/Class3D/job009/\")\n",
    "\n",
    "input_star = starfile.read(input_star_path)\n",
    "input_star_optics = input_star[\"optics\"]\n",
    "input_star_particles = input_star[\"particles\"]"
   ]
  },
  {
   "cell_type": "code",
   "execution_count": 3,
   "metadata": {},
   "outputs": [
    {
     "data": {
      "text/plain": [
       "OrderedDict([('optics',\n",
       "                 rlnOpticsGroup rlnOpticsGroupName  rlnSphericalAberration  rlnVoltage  \\\n",
       "              0               1       opticsGroup1                     2.7       300.0   \n",
       "              \n",
       "                 rlnTomoTiltSeriesPixelSize  rlnCtfDataAreCtfPremultiplied  \\\n",
       "              0                      1.0825                              1   \n",
       "              \n",
       "                 rlnImageDimensionality  rlnTomoSubtomogramBinning  rlnImagePixelSize  \\\n",
       "              0                       3                        4.0               4.33   \n",
       "              \n",
       "                 rlnImageSize  \n",
       "              0           104  ),\n",
       "             ('particles',\n",
       "                     rlnCoordinateX  rlnCoordinateY  rlnCoordinateZ  rlnAngleRot  \\\n",
       "              0           1127.8420       3238.3080       2978.2830   -17.990940   \n",
       "              1           2063.6407       1713.4631       2912.8310    26.955954   \n",
       "              2            591.0840       2093.7740       3049.1690   -17.990940   \n",
       "              3           5822.8862       2992.8050       2141.5130   150.793610   \n",
       "              4           4735.2500       5967.6400       3194.2910  -175.023450   \n",
       "              ...               ...             ...             ...          ...   \n",
       "              44327       5613.0680       2954.2140       1948.5980    -6.221790   \n",
       "              44328       5858.5742       2407.1920       2241.4804   -40.280320   \n",
       "              44329       4707.3520       2536.4560       1749.0170   162.009064   \n",
       "              44330       4541.1430        511.8370       2628.4260   173.640722   \n",
       "              44331       4388.7310       4555.0300       1997.5910  -119.593030   \n",
       "              \n",
       "                     rlnAngleTilt  rlnAnglePsi rlnTomoName  rlnObjectNumber  \\\n",
       "              0        122.362748   -38.518510      ts_003                1   \n",
       "              1         62.287439   -66.297320      ts_003                2   \n",
       "              2        122.362748   -98.518510      ts_003                3   \n",
       "              3         68.380996    38.904210      ts_003                4   \n",
       "              4        117.484114    22.375317      ts_003                5   \n",
       "              ...             ...          ...         ...              ...   \n",
       "              44327     92.489054   -37.882530      ts_124            44328   \n",
       "              44328    101.446700  -129.234940      ts_124            44329   \n",
       "              44329     57.637252   128.518508      ts_124            44330   \n",
       "              44330     68.040184  -172.087930      ts_124            44331   \n",
       "              44331     10.183513  -153.060730      ts_124            44332   \n",
       "              \n",
       "                    rlnTomoParticleName  rlnRandomSubset  ...  rlnOriginYAngst  \\\n",
       "              0                ts_003/1                1  ...         7.221937   \n",
       "              1                ts_003/2                2  ...         2.891937   \n",
       "              2                ts_003/3                1  ...         7.221937   \n",
       "              3                ts_003/4                2  ...        11.551937   \n",
       "              4                ts_003/5                1  ...         2.891937   \n",
       "              ...                   ...              ...  ...              ...   \n",
       "              44327          ts_124/494                2  ...        20.211937   \n",
       "              44328          ts_124/495                1  ...        20.211937   \n",
       "              44329          ts_124/496                2  ...         7.221937   \n",
       "              44330          ts_124/497                1  ...        -1.438060   \n",
       "              44331          ts_124/498                2  ...        -1.438060   \n",
       "              \n",
       "                     rlnOriginZAngst                                       rlnImageName  \\\n",
       "              0            -5.768060  PseudoSubtomo/job008/Subtomograms/ts_003/1_dat...   \n",
       "              1            -1.438060  PseudoSubtomo/job008/Subtomograms/ts_003/2_dat...   \n",
       "              2            -5.768060  PseudoSubtomo/job008/Subtomograms/ts_003/3_dat...   \n",
       "              3            -1.438060  PseudoSubtomo/job008/Subtomograms/ts_003/4_dat...   \n",
       "              4            11.551937  PseudoSubtomo/job008/Subtomograms/ts_003/5_dat...   \n",
       "              ...                ...                                                ...   \n",
       "              44327        15.881937  PseudoSubtomo/job008/Subtomograms/ts_124/494_d...   \n",
       "              44328         2.891937  PseudoSubtomo/job008/Subtomograms/ts_124/495_d...   \n",
       "              44329        -1.438060  PseudoSubtomo/job008/Subtomograms/ts_124/496_d...   \n",
       "              44330        15.881937  PseudoSubtomo/job008/Subtomograms/ts_124/497_d...   \n",
       "              44331        11.551937  PseudoSubtomo/job008/Subtomograms/ts_124/498_d...   \n",
       "              \n",
       "                                                           rlnCtfImage rlnGroupNumber  \\\n",
       "              0      PseudoSubtomo/job008/Subtomograms/ts_003/1_wei...              1   \n",
       "              1      PseudoSubtomo/job008/Subtomograms/ts_003/2_wei...              1   \n",
       "              2      PseudoSubtomo/job008/Subtomograms/ts_003/3_wei...              1   \n",
       "              3      PseudoSubtomo/job008/Subtomograms/ts_003/4_wei...              1   \n",
       "              4      PseudoSubtomo/job008/Subtomograms/ts_003/5_wei...              1   \n",
       "              ...                                                  ...            ...   \n",
       "              44327  PseudoSubtomo/job008/Subtomograms/ts_124/494_w...            111   \n",
       "              44328  PseudoSubtomo/job008/Subtomograms/ts_124/495_w...            111   \n",
       "              44329  PseudoSubtomo/job008/Subtomograms/ts_124/496_w...            111   \n",
       "              44330  PseudoSubtomo/job008/Subtomograms/ts_124/497_w...            111   \n",
       "              44331  PseudoSubtomo/job008/Subtomograms/ts_124/498_w...            111   \n",
       "              \n",
       "                    rlnClassNumber  rlnNormCorrection  rlnLogLikeliContribution  \\\n",
       "              0                  3                1.0                 4703394.0   \n",
       "              1                  7                1.0                 4730709.0   \n",
       "              2                  3                1.0                 4681332.0   \n",
       "              3                  3                1.0                 4732913.0   \n",
       "              4                  5                1.0                 4696572.0   \n",
       "              ...              ...                ...                       ...   \n",
       "              44327              7                1.0                 4664828.0   \n",
       "              44328              3                1.0                 4724923.0   \n",
       "              44329              3                1.0                 4627888.0   \n",
       "              44330              7                1.0                 4777507.0   \n",
       "              44331              7                1.0                 4705888.0   \n",
       "              \n",
       "                     rlnMaxValueProbDistribution  rlnNrOfSignificantSamples  \n",
       "              0                         0.320185                         11  \n",
       "              1                         0.549345                          5  \n",
       "              2                         0.999983                         48  \n",
       "              3                         0.912922                         12  \n",
       "              4                         0.993461                         20  \n",
       "              ...                            ...                        ...  \n",
       "              44327                     1.000000                          8  \n",
       "              44328                     0.939384                          5  \n",
       "              44329                     0.835484                          2  \n",
       "              44330                     0.414118                          2  \n",
       "              44331                     0.788810                          6  \n",
       "              \n",
       "              [44332 rows x 22 columns])])"
      ]
     },
     "execution_count": 3,
     "metadata": {},
     "output_type": "execute_result"
    }
   ],
   "source": []
  },
  {
   "cell_type": "code",
   "execution_count": null,
   "metadata": {},
   "outputs": [],
   "source": []
  }
 ],
 "metadata": {
  "kernelspec": {
   "display_name": "devbio-napari-env",
   "language": "python",
   "name": "python3"
  },
  "language_info": {
   "codemirror_mode": {
    "name": "ipython",
    "version": 3
   },
   "file_extension": ".py",
   "mimetype": "text/x-python",
   "name": "python",
   "nbconvert_exporter": "python",
   "pygments_lexer": "ipython3",
   "version": "3.9.16"
  }
 },
 "nbformat": 4,
 "nbformat_minor": 2
}
