{
 "cells": [
  {
   "cell_type": "code",
   "execution_count": 1,
   "metadata": {},
   "outputs": [],
   "source": [
    "from pathlib import Path\n",
    "\n",
    "import matplotlib.pyplot as plt\n",
    "import numpy as np\n",
    "import pandas as pd\n",
    "\n",
    "import starfile"
   ]
  },
  {
   "cell_type": "code",
   "execution_count": 4,
   "metadata": {},
   "outputs": [],
   "source": [
    "particle_star_path = Path(\"/mnt/scratch/ribosomes/kas_k44a/relion_full/Refine3D/b4_nogrid_nodupes/run_data.star\")"
   ]
  },
  {
   "cell_type": "code",
   "execution_count": 8,
   "metadata": {},
   "outputs": [
    {
     "name": "stdout",
     "output_type": "stream",
     "text": [
      "Index(['rlnTomoName', 'rlnCoordinateX', 'rlnCoordinateY', 'rlnCoordinateZ',\n",
      "       'rlnAngleRot', 'rlnAngleTilt', 'rlnAnglePsi', 'rlnOriginXAngst',\n",
      "       'rlnOriginYAngst', 'rlnOriginZAngst', 'rlnObjectNumber',\n",
      "       'rlnRandomSubset', 'rlnOpticsGroup', 'rlnClassNumber',\n",
      "       'rlnNormCorrection', 'rlnLogLikeliContribution',\n",
      "       'rlnMaxValueProbDistribution', 'rlnNrOfSignificantSamples',\n",
      "       'rlnGroupNumber', 'rlnTomoParticleName', 'rlnImageName', 'rlnCtfImage'],\n",
      "      dtype='object')\n"
     ]
    }
   ],
   "source": [
    "particle_star = starfile.read(particle_star_path)\n",
    "particle_df = particle_star[\"particles\"]\n",
    "print(particle_df.columns)"
   ]
  },
  {
   "cell_type": "code",
   "execution_count": null,
   "metadata": {},
   "outputs": [],
   "source": [
    "for tomogram in particle_df[\"rlnTomoName\"].unique:\n",
    "    for every particle:\n",
    "        p_x = particle_df[\"rlnCoordinateX\"]\n",
    "        p_y = particle_df[\"rlnCoordinateY\"]\n",
    "        p_z = particle_df[\"rlnCoordinateZ\"]\n",
    "        if p_z < PM_z(p_x, p_y):\n",
    "            "
   ]
  }
 ],
 "metadata": {
  "kernelspec": {
   "display_name": "devbio-napari-env",
   "language": "python",
   "name": "python3"
  },
  "language_info": {
   "codemirror_mode": {
    "name": "ipython",
    "version": 3
   },
   "file_extension": ".py",
   "mimetype": "text/x-python",
   "name": "python",
   "nbconvert_exporter": "python",
   "pygments_lexer": "ipython3",
   "version": "3.9.16"
  }
 },
 "nbformat": 4,
 "nbformat_minor": 2
}
