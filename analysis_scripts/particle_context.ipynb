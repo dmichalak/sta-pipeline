{
 "cells": [
  {
   "cell_type": "code",
   "execution_count": 1,
   "metadata": {},
   "outputs": [],
   "source": [
    "from pathlib import Path\n",
    "\n",
    "import matplotlib.pyplot as plt\n",
    "import numpy as np\n",
    "import pandas as pd\n",
    "\n",
    "import starfile"
   ]
  },
  {
   "cell_type": "code",
   "execution_count": 2,
   "metadata": {},
   "outputs": [],
   "source": [
    "from scipy.spatial import ConvexHull\n",
    "def point_in_ConvexHull(hull, pnt):\n",
    "    '''\n",
    "    Checks if `pnt` is inside the convex hull.\n",
    "    `hull` -- a QHull ConvexHull object\n",
    "    `pnt` -- point array of shape (3,)\n",
    "    '''\n",
    "    new_hull = ConvexHull(np.concatenate((hull.points, [pnt])))\n",
    "    if np.array_equal(new_hull.vertices, hull.vertices): \n",
    "        return True\n",
    "    return False"
   ]
  },
  {
   "cell_type": "code",
   "execution_count": 3,
   "metadata": {},
   "outputs": [
    {
     "name": "stdout",
     "output_type": "stream",
     "text": [
      "Extending z interface by 277.14 px\n"
     ]
    }
   ],
   "source": [
    "preclass_particle_star_path = Path(\"/mnt/scratch/ribosomes/kas_k44a/particle_context/particle_data/preclass_job282_run_data.star\")\n",
    "postclass_particle_star_path = Path(\"/mnt/scratch/ribosomes/kas_k44a/particle_context/particle_data/postclass_job292_run_data.star\")\n",
    "\n",
    "\n",
    "binning = 10\n",
    "tomo_dir = Path(\"/mnt/scratch/ribosomes/kas_k44a/particle_context/surfaces_10tomos/\")\n",
    "max_x = 818 * binning\n",
    "max_y = 1152 * binning\n",
    "max_z = 480 * binning\n",
    "unbinned_pixel_size = 1.0825\n"
   ]
  },
  {
   "cell_type": "code",
   "execution_count": 116,
   "metadata": {},
   "outputs": [],
   "source": [
    "preclass_particle_star = starfile.read(preclass_particle_star_path)\n",
    "postclass_particle_star = starfile.read(postclass_particle_star_path)\n",
    "preclass_particle_df = preclass_particle_star[\"particles\"]\n",
    "postclass_particle_df = postclass_particle_star[\"particles\"]\n",
    "\n",
    "topboundary_points = [\n",
    "    [0, 0, max_z],\n",
    "    [0, max_y, max_z],\n",
    "    [max_x, 0, max_z],\n",
    "    [max_x, max_y, max_z]\n",
    "]\n",
    "topboundary_points_df = pd.DataFrame(topboundary_points, columns=[\"x\", \"y\", \"z\"])\n",
    "bottomboundary_points = [\n",
    "    [0, 0, 0],\n",
    "    [0, max_y, 0],\n",
    "    [max_x, 0, 0],\n",
    "    [max_x, max_y, 0]\n",
    "]\n",
    "bottomboundary_points_df = pd.DataFrame(bottomboundary_points, columns=[\"x\", \"y\", \"z\"])"
   ]
  },
  {
   "cell_type": "code",
   "execution_count": 8,
   "metadata": {},
   "outputs": [
    {
     "name": "stderr",
     "output_type": "stream",
     "text": [
      "/tmp/ipykernel_3073299/2603567482.py:6: SettingWithCopyWarning: \n",
      "A value is trying to be set on a copy of a slice from a DataFrame.\n",
      "Try using .loc[row_indexer,col_indexer] = value instead\n",
      "\n",
      "See the caveats in the documentation: https://pandas.pydata.org/pandas-docs/stable/user_guide/indexing.html#returning-a-view-versus-a-copy\n",
      "  preclass_particles_to_check_df[\"Context\"] = None\n",
      "/tmp/ipykernel_3073299/2603567482.py:7: SettingWithCopyWarning: \n",
      "A value is trying to be set on a copy of a slice from a DataFrame.\n",
      "Try using .loc[row_indexer,col_indexer] = value instead\n",
      "\n",
      "See the caveats in the documentation: https://pandas.pydata.org/pandas-docs/stable/user_guide/indexing.html#returning-a-view-versus-a-copy\n",
      "  postclass_particles_to_check_df[\"Context\"] = None\n"
     ]
    }
   ],
   "source": [
    "tomo_list = [tomo.name[:6] for tomo in sorted(tomo_dir.glob(\"*.mod\"))]\n",
    "\n",
    "preclass_particle_df[\"Context\"] = None\n",
    "postclass_particle_df[\"Context\"] = None\n",
    "preclass_particles_to_check_df = preclass_particle_df[preclass_particle_df[\"rlnTomoName\"].isin(tomo_list)]\n",
    "postclass_particles_to_check_df = postclass_particle_df[postclass_particle_df[\"rlnTomoName\"].isin(tomo_list)]\n"
   ]
  },
  {
   "cell_type": "code",
   "execution_count": 6,
   "metadata": {},
   "outputs": [
    {
     "name": "stderr",
     "output_type": "stream",
     "text": [
      "/tmp/ipykernel_3073147/3997108960.py:24: SettingWithCopyWarning: \n",
      "A value is trying to be set on a copy of a slice from a DataFrame.\n",
      "Try using .loc[row_indexer,col_indexer] = value instead\n",
      "\n",
      "See the caveats in the documentation: https://pandas.pydata.org/pandas-docs/stable/user_guide/indexing.html#returning-a-view-versus-a-copy\n",
      "  preclass_particles_to_check_df.loc[index, \"Context\"] = \"Other\"\n",
      "/tmp/ipykernel_3073147/3997108960.py:25: SettingWithCopyWarning: \n",
      "A value is trying to be set on a copy of a slice from a DataFrame.\n",
      "Try using .loc[row_indexer,col_indexer] = value instead\n",
      "\n",
      "See the caveats in the documentation: https://pandas.pydata.org/pandas-docs/stable/user_guide/indexing.html#returning-a-view-versus-a-copy\n",
      "  preclass_particles_to_check_df.loc[index, \"ContextNum\"] = \"2\"\n"
     ]
    },
    {
     "name": "stderr",
     "output_type": "stream",
     "text": [
      "/tmp/ipykernel_3073147/3997108960.py:37: SettingWithCopyWarning: \n",
      "A value is trying to be set on a copy of a slice from a DataFrame.\n",
      "Try using .loc[row_indexer,col_indexer] = value instead\n",
      "\n",
      "See the caveats in the documentation: https://pandas.pydata.org/pandas-docs/stable/user_guide/indexing.html#returning-a-view-versus-a-copy\n",
      "  postclass_particles_to_check_df.loc[index, \"Context\"] = \"Other\"\n",
      "/tmp/ipykernel_3073147/3997108960.py:38: SettingWithCopyWarning: \n",
      "A value is trying to be set on a copy of a slice from a DataFrame.\n",
      "Try using .loc[row_indexer,col_indexer] = value instead\n",
      "\n",
      "See the caveats in the documentation: https://pandas.pydata.org/pandas-docs/stable/user_guide/indexing.html#returning-a-view-versus-a-copy\n",
      "  postclass_particles_to_check_df.loc[index, \"ContextNum\"] = \"2\"\n"
     ]
    }
   ],
   "source": [
    "check=1\n",
    "for tomo_name in tomo_list:\n",
    "    top_points_file = tomo_dir / f\"{tomo_name}_top.xyz\"\n",
    "    top_points_df = pd.read_csv(top_points_file, delim_whitespace=True, header=None, names=[\"x\", \"y\", \"z\"]) * binning\n",
    "    top_points_df[\"z\"] = top_points_df[\"z\"] - extend_z_interface_px\n",
    "    top_points_df = pd.concat([top_points_df, topboundary_points_df])\n",
    "    top_ConvexHull = ConvexHull(top_points_df)\n",
    "\n",
    "    # pm_points_file = tomo_dir / f\"{tomo_name}_bot.xyz\"\n",
    "    # pm_points_df = pd.read_csv(pm_points_file, delim_whitespace=True, header=None, names=[\"x\", \"y\", \"z\"]) * binning\n",
    "    # pm_points_df[\"z\"] = pm_points_df[\"z\"] + extend_z_boundaries_px\n",
    "    # pm_points_df = pd.concat([pm_points_df, bottomboundary_points_df])\n",
    "    # pm_ConvexHull = ConvexHull(pm_points_df)\n",
    "\n",
    "    for index, row in preclass_particles_to_check_df[preclass_particles_to_check_df[\"rlnTomoName\"] == tomo_name].iterrows():\n",
    "\n",
    "        if point_in_ConvexHull(top_ConvexHull, row[[\"rlnCoordinateX\", \"rlnCoordinateY\", \"rlnCoordinateZ\"]].values):\n",
    "            preclass_particles_to_check_df.loc[index, \"Context\"] = \"top\"\n",
    "            preclass_particles_to_check_df.loc[index, \"ContextNum\"] = \"3\"\n",
    "        # elif point_in_ConvexHull(pm_ConvexHull, row[[\"rlnCoordinateX\", \"rlnCoordinateY\", \"rlnCoordinateZ\"]].values):\n",
    "        #     preclass_particles_to_check_df.loc[index, \"Context\"] = \"PM\"\n",
    "        #     preclass_particles_to_check_df.loc[index, \"ContextNum\"] = \"1\"\n",
    "        else:\n",
    "            preclass_particles_to_check_df.loc[index, \"Context\"] = \"Other\"\n",
    "            preclass_particles_to_check_df.loc[index, \"ContextNum\"] = \"2\"\n",
    "\n",
    "\n",
    "    for index, row in postclass_particles_to_check_df[postclass_particles_to_check_df[\"rlnTomoName\"] == tomo_name].iterrows():\n",
    "\n",
    "        if point_in_ConvexHull(top_ConvexHull, row[[\"rlnCoordinateX\", \"rlnCoordinateY\", \"rlnCoordinateZ\"]].values):\n",
    "            postclass_particles_to_check_df.loc[index, \"Context\"] = \"top\"\n",
    "            postclass_particles_to_check_df.loc[index, \"ContextNum\"] = \"3\"\n",
    "        # elif point_in_ConvexHull(pm_ConvexHull, row[[\"rlnCoordinateX\", \"rlnCoordinateY\", \"rlnCoordinateZ\"]].values):\n",
    "        #     postclass_particles_to_check_df.loc[index, \"Context\"] = \"PM\"\n",
    "        #     postclass_particles_to_check_df.loc[index, \"ContextNum\"] = \"1\"\n",
    "        else:\n",
    "            postclass_particles_to_check_df.loc[index, \"Context\"] = \"Other\"\n",
    "            postclass_particles_to_check_df.loc[index, \"ContextNum\"] = \"2\"\n",
    "\n",
    "starfile.write(preclass_particles_to_check_df, tomo_dir / \"preclass_particle_context.star\", overwrite=True)\n",
    "starfile.write(postclass_particles_to_check_df, tomo_dir / \"postclass_particle_context.star\", overwrite=True)"
   ]
  },
  {
   "cell_type": "code",
   "execution_count": 7,
   "metadata": {},
   "outputs": [
    {
     "name": "stdout",
     "output_type": "stream",
     "text": [
      "Preclass context counts: Context\n",
      "Other    282\n",
      "top      112\n",
      "Name: count, dtype: int64\n",
      "Postclass context counts: Context\n",
      "Other    274\n",
      "top      110\n",
      "Name: count, dtype: int64\n"
     ]
    },
    {
     "data": {
      "text/plain": [
       "<matplotlib.legend.Legend at 0x7ff4b864ab20>"
      ]
     },
     "execution_count": 7,
     "metadata": {},
     "output_type": "execute_result"
    },
    {
     "data": {
      "image/png": "[encoded data removed]",
      "text/plain": [
       "<Figure size 640x480 with 1 Axes>"
      ]
     },
     "metadata": {},
     "output_type": "display_data"
    }
   ],
   "source": [
    "contexts = [\"Other\", \"top\"]\n",
    "\n",
    "plt.bar(contexts, preclass_particles_to_check_df[\"Context\"].value_counts()[contexts], label=\"Preclass\")\n",
    "plt.bar(contexts, postclass_particles_to_check_df[\"Context\"].value_counts()[contexts], label=\"Postclass\")\n",
    "plt.ylim(0, 3000)\n",
    "\n",
    "# calculate % change in each context between preclass and postclass, and total % change\n",
    "preclass_context_counts = preclass_particles_to_check_df[\"Context\"].value_counts()\n",
    "postclass_context_counts = postclass_particles_to_check_df[\"Context\"].value_counts()\n",
    "# print counts\n",
    "print(f\"Preclass context counts: {preclass_context_counts}\")\n",
    "print(f\"Postclass context counts: {postclass_context_counts}\")\n",
    "context_change = (postclass_context_counts - preclass_context_counts) / preclass_context_counts * 100\n",
    "total_change = (postclass_context_counts.sum() - preclass_context_counts.sum()) / preclass_context_counts.sum() * 100\n",
    "plt.title(f\"Total change: {total_change:.1f}%\")\n",
    "for context in contexts:\n",
    "    plt.text(context, -400, f\"{context_change[context]:.1f}%\", ha=\"center\", va=\"bottom\")\n",
    "plt.legend()\n"
   ]
  },
  {
   "cell_type": "code",
   "execution_count": 121,
   "metadata": {},
   "outputs": [
    {
     "name": "stdout",
     "output_type": "stream",
     "text": [
      "3202.621247113164\n",
      "3110.242494226328\n",
      "3017.8637413394918\n",
      "2925.4849884526557\n",
      "2833.1062355658196\n",
      "2740.7274826789835\n",
      "2648.3487297921474\n",
      "2555.9699769053113\n",
      "2463.5912240184753\n",
      "2371.212471131639\n",
      "2278.833718244803\n",
      "2186.454965357967\n",
      "2094.076212471131\n",
      "2001.6974595842948\n",
      "1909.3187066974588\n",
      "1816.9399538106227\n",
      "1724.5612009237866\n",
      "1632.1824480369505\n",
      "1539.8036951501144\n",
      "1447.4249422632784\n",
      "1355.0461893764423\n",
      "1262.6674364896062\n",
      "1170.28868360277\n",
      "1077.909930715934\n",
      "985.5311778290979\n",
      "893.1524249422619\n",
      "800.7736720554258\n",
      "708.3949191685897\n",
      "616.0161662817536\n",
      "523.6374133949175\n",
      "3207.621247113164\n"
     ]
    },
    {
     "ename": "ValueError",
     "evalue": "The truth value of a Series is ambiguous. Use a.empty, a.bool(), a.item(), a.any() or a.all().",
     "output_type": "error",
     "traceback": [
      "\u001b[0;31m---------------------------------------------------------------------------\u001b[0m",
      "\u001b[0;31mValueError\u001b[0m                                Traceback (most recent call last)",
      "\u001b[0;32m/tmp/ipykernel_3073299/3637648289.py\u001b[0m in \u001b[0;36m?\u001b[0;34m()\u001b[0m\n\u001b[1;32m     22\u001b[0m             \u001b[0;32mbreak\u001b[0m\u001b[0;34m\u001b[0m\u001b[0;34m\u001b[0m\u001b[0m\n\u001b[1;32m     23\u001b[0m \u001b[0;34m\u001b[0m\u001b[0m\n\u001b[1;32m     24\u001b[0m         \u001b[0mtop_points_df\u001b[0m\u001b[0;34m[\u001b[0m\u001b[0;34m\"z\"\u001b[0m\u001b[0;34m]\u001b[0m \u001b[0;34m=\u001b[0m \u001b[0mtop_points_df\u001b[0m\u001b[0;34m[\u001b[0m\u001b[0;34m\"z\"\u001b[0m\u001b[0;34m]\u001b[0m \u001b[0;34m-\u001b[0m \u001b[0mincrement_px\u001b[0m\u001b[0;34m\u001b[0m\u001b[0;34m\u001b[0m\u001b[0m\n\u001b[1;32m     25\u001b[0m         \u001b[0mprint\u001b[0m\u001b[0;34m(\u001b[0m\u001b[0mtop_points_df\u001b[0m\u001b[0;34m[\u001b[0m\u001b[0;34m\"z\"\u001b[0m\u001b[0;34m]\u001b[0m\u001b[0;34m.\u001b[0m\u001b[0mmin\u001b[0m\u001b[0;34m(\u001b[0m\u001b[0;34m)\u001b[0m\u001b[0;34m)\u001b[0m\u001b[0;34m\u001b[0m\u001b[0;34m\u001b[0m\u001b[0m\n\u001b[0;32m---> 26\u001b[0;31m         \u001b[0mtop_points_df\u001b[0m \u001b[0;34m=\u001b[0m \u001b[0mpd\u001b[0m\u001b[0;34m.\u001b[0m\u001b[0mconcat\u001b[0m\u001b[0;34m(\u001b[0m\u001b[0;34m[\u001b[0m\u001b[0mtop_points_df\u001b[0m\u001b[0;34m,\u001b[0m \u001b[0mtopboundary_points_df\u001b[0m\u001b[0;34m]\u001b[0m\u001b[0;34m)\u001b[0m\u001b[0;34m\u001b[0m\u001b[0;34m\u001b[0m\u001b[0m\n\u001b[0m\u001b[1;32m     27\u001b[0m         \u001b[0mtop_ConvexHull\u001b[0m \u001b[0;34m=\u001b[0m \u001b[0mConvexHull\u001b[0m\u001b[0;34m(\u001b[0m\u001b[0mtop_points_df\u001b[0m\u001b[0;34m)\u001b[0m\u001b[0;34m\u001b[0m\u001b[0;34m\u001b[0m\u001b[0m\n\u001b[1;32m     28\u001b[0m         \u001b[0;32mfor\u001b[0m \u001b[0mindex\u001b[0m\u001b[0;34m,\u001b[0m \u001b[0mrow\u001b[0m \u001b[0;32min\u001b[0m \u001b[0mpreclass_particles_to_check_df\u001b[0m\u001b[0;34m[\u001b[0m\u001b[0mpreclass_particles_to_check_df\u001b[0m\u001b[0;34m[\u001b[0m\u001b[0;34m\"rlnTomoName\"\u001b[0m\u001b[0;34m]\u001b[0m \u001b[0;34m==\u001b[0m \u001b[0mtomo_name\u001b[0m\u001b[0;34m]\u001b[0m\u001b[0;34m.\u001b[0m\u001b[0miterrows\u001b[0m\u001b[0;34m(\u001b[0m\u001b[0;34m)\u001b[0m\u001b[0;34m:\u001b[0m\u001b[0;34m\u001b[0m\u001b[0;34m\u001b[0m\u001b[0m\n\u001b[1;32m     29\u001b[0m             \u001b[0;32mif\u001b[0m \u001b[0mpreclass_particles_to_check_df\u001b[0m\u001b[0;34m.\u001b[0m\u001b[0mloc\u001b[0m\u001b[0;34m[\u001b[0m\u001b[0mindex\u001b[0m\u001b[0;34m,\u001b[0m \u001b[0;34m\"Context\"\u001b[0m\u001b[0;34m]\u001b[0m\u001b[0;34m==\u001b[0m\u001b[0;32mNone\u001b[0m\u001b[0;34m:\u001b[0m\u001b[0;34m\u001b[0m\u001b[0;34m\u001b[0m\u001b[0m\n",
      "\u001b[0;32m~/mambaforge/envs/devbio-napari-env/lib/python3.9/site-packages/pandas/core/generic.py\u001b[0m in \u001b[0;36m?\u001b[0;34m(self)\u001b[0m\n\u001b[1;32m   1464\u001b[0m     \u001b[0;34m@\u001b[0m\u001b[0mfinal\u001b[0m\u001b[0;34m\u001b[0m\u001b[0;34m\u001b[0m\u001b[0m\n\u001b[1;32m   1465\u001b[0m     \u001b[0;32mdef\u001b[0m \u001b[0m__nonzero__\u001b[0m\u001b[0;34m(\u001b[0m\u001b[0mself\u001b[0m\u001b[0;34m)\u001b[0m \u001b[0;34m->\u001b[0m \u001b[0mNoReturn\u001b[0m\u001b[0;34m:\u001b[0m\u001b[0;34m\u001b[0m\u001b[0;34m\u001b[0m\u001b[0m\n\u001b[0;32m-> 1466\u001b[0;31m         raise ValueError(\n\u001b[0m\u001b[1;32m   1467\u001b[0m             \u001b[0;34mf\"The truth value of a {type(self).__name__} is ambiguous. \"\u001b[0m\u001b[0;34m\u001b[0m\u001b[0;34m\u001b[0m\u001b[0m\n\u001b[1;32m   1468\u001b[0m             \u001b[0;34m\"Use a.empty, a.bool(), a.item(), a.any() or a.all().\"\u001b[0m\u001b[0;34m\u001b[0m\u001b[0;34m\u001b[0m\u001b[0m\n\u001b[1;32m   1469\u001b[0m         )\n",
      "\u001b[0;31mValueError\u001b[0m: The truth value of a Series is ambiguous. Use a.empty, a.bool(), a.item(), a.any() or a.all()."
     ]
    }
   ],
   "source": [
    "tomo_list = [tomo.name[:6] for tomo in sorted(tomo_dir.glob(\"*.mod\"))]\n",
    "preclass_particles_to_check_df = pd.DataFrame()\n",
    "postclass_particles_to_check_df = pd.DataFrame()\n",
    "for tomo_name in tomo_list:\n",
    "\n",
    "    preclass_particles_to_check_df = pd.concat([preclass_particles_to_check_df, preclass_particle_df[preclass_particle_df[\"rlnTomoName\"].isin(tomo_list)]])\n",
    "    postclass_particles_to_check_df = pd.concat([postclass_particles_to_check_df, postclass_particle_df[postclass_particle_df[\"rlnTomoName\"].isin(tomo_list)]])\n",
    "    \n",
    "    preclass_particles_to_check_df[\"Context\"] = None\n",
    "    postclass_particles_to_check_df[\"Context\"] = None\n",
    "    top_points_file = tomo_dir / f\"{tomo_name}_top.xyz\" \n",
    "    top_points_df = pd.read_csv(top_points_file, delim_whitespace=True, header=None, names=[\"x\", \"y\", \"z\"]) * binning\n",
    "    increment_nm = 10\n",
    "    increment_px = increment_nm * 10 / unbinned_pixel_size\n",
    "    num_layers = 30\n",
    "    for i in range(num_layers):\n",
    "        # if the lowest point is below the bottom boundary, stop\n",
    "        if top_points_df[\"z\"].min() < 0:\n",
    "            break\n",
    "        \n",
    "        top_points_df[\"z\"] = top_points_df[\"z\"] - increment_px\n",
    "        print(top_points_df[\"z\"].min())\n",
    "        top_points_df = pd.concat([top_points_df, topboundary_points_df])\n",
    "        top_ConvexHull = ConvexHull(top_points_df)\n",
    "        for index, row in preclass_particles_to_check_df[preclass_particles_to_check_df[\"rlnTomoName\"] == tomo_name].iterrows():\n",
    "            if preclass_particles_to_check_df.loc[index, \"Context\"]==None:\n",
    "                if point_in_ConvexHull(top_ConvexHull, row[[\"rlnCoordinateX\", \"rlnCoordinateY\", \"rlnCoordinateZ\"]].values):\n",
    "                    preclass_particles_to_check_df.loc[index, \"Context\"] = f\"{i}\"\n",
    "        for index, row in postclass_particles_to_check_df[postclass_particles_to_check_df[\"rlnTomoName\"] == tomo_name].iterrows():\n",
    "            if postclass_particles_to_check_df.loc[index, \"Context\"]==None:\n",
    "                if point_in_ConvexHull(top_ConvexHull, row[[\"rlnCoordinateX\", \"rlnCoordinateY\", \"rlnCoordinateZ\"]].values):\n",
    "                    postclass_particles_to_check_df.loc[index, \"Context\"] = f\"{i}\""
   ]
  },
  {
   "cell_type": "code",
   "execution_count": 118,
   "metadata": {},
   "outputs": [
    {
     "data": {
      "text/plain": [
       "Context\n",
       "11    46\n",
       "10    45\n",
       "12    44\n",
       "14    35\n",
       "13    34\n",
       "15    32\n",
       "8     22\n",
       "9     21\n",
       "16    20\n",
       "18    16\n",
       "17    14\n",
       "7     13\n",
       "3     12\n",
       "19    11\n",
       "20    11\n",
       "21     8\n",
       "24     7\n",
       "22     7\n",
       "2      6\n",
       "6      5\n",
       "1      4\n",
       "23     4\n",
       "4      3\n",
       "5      3\n",
       "0      1\n",
       "26     1\n",
       "Name: count, dtype: int64"
      ]
     },
     "execution_count": 118,
     "metadata": {},
     "output_type": "execute_result"
    }
   ],
   "source": [
    "# print number of particles in tomo_list\n"
   ]
  },
  {
   "cell_type": "code",
   "execution_count": 119,
   "metadata": {},
   "outputs": [
    {
     "name": "stdout",
     "output_type": "stream",
     "text": [
      "Context\n",
      "0      1\n",
      "1      4\n",
      "2      6\n",
      "3     12\n",
      "4      3\n",
      "5      3\n",
      "6      5\n",
      "7     13\n",
      "8     22\n",
      "9     21\n",
      "10    45\n",
      "11    46\n",
      "12    44\n",
      "13    34\n",
      "14    35\n",
      "15    32\n",
      "16    20\n",
      "17    14\n",
      "18    16\n",
      "19    11\n",
      "20    11\n",
      "21     8\n",
      "22     7\n",
      "23     4\n",
      "24     7\n",
      "26     1\n",
      "Name: count, dtype: int64\n"
     ]
    },
    {
     "data": {
      "text/plain": [
       "<matplotlib.legend.Legend at 0x7fac70052400>"
      ]
     },
     "execution_count": 119,
     "metadata": {},
     "output_type": "execute_result"
    },
    {
     "data": {
      "image/png": "[encoded data removed]",
      "text/plain": [
       "<Figure size 1000x500 with 1 Axes>"
      ]
     },
     "metadata": {},
     "output_type": "display_data"
    }
   ],
   "source": [
    "fig, ax = plt.subplots()\n",
    "# set fig size\n",
    "fig.set_size_inches(10, 5)\n",
    "preclass_context_counts = preclass_particles_to_check_df[\"Context\"].value_counts()\n",
    "postclass_context_counts = postclass_particles_to_check_df[\"Context\"].value_counts()\n",
    "\n",
    "preclass_context_counts.sort_index(inplace=True, key=lambda x: x.astype(int))\n",
    "postclass_context_counts.sort_index(inplace=True, key=lambda x: x.astype(int))\n",
    "# fill in unoccupied layers\n",
    "print(preclass_context_counts)\n",
    "\n",
    "ax.plot(preclass_context_counts.index, preclass_context_counts.values,\n",
    "           label=\"Preclass\", \n",
    "           color = \"blue\",\n",
    "           alpha = 0.5\n",
    "           )\n",
    "ax.plot(postclass_context_counts.index, postclass_context_counts.values, \n",
    "           label=\"Postclass\", \n",
    "           color = \"red\",\n",
    "           alpha = 0.5,\n",
    "           )\n",
    "\n",
    "\n",
    "ax.legend()"
   ]
  }
 ],
 "metadata": {
  "kernelspec": {
   "display_name": "devbio-napari-env",
   "language": "python",
   "name": "python3"
  },
  "language_info": {
   "codemirror_mode": {
    "name": "ipython",
    "version": 3
   },
   "file_extension": ".py",
   "mimetype": "text/x-python",
   "name": "python",
   "nbconvert_exporter": "python",
   "pygments_lexer": "ipython3",
   "version": "3.9.16"
  }
 },
 "nbformat": 4,
 "nbformat_minor": 2
}
