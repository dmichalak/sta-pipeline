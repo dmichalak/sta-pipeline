{
 "cells": [
  {
   "cell_type": "code",
   "execution_count": 1,
   "metadata": {},
   "outputs": [],
   "source": [
    "from pathlib import Path\n",
    "\n",
    "import matplotlib.pyplot as plt\n",
    "import numpy as np\n",
    "import pandas as pd\n",
    "\n",
    "import starfile"
   ]
  },
  {
   "cell_type": "code",
   "execution_count": 2,
   "metadata": {},
   "outputs": [],
   "source": [
    "from scipy.spatial import ConvexHull\n",
    "def point_in_ConvexHull(hull, pnt):\n",
    "    '''\n",
    "    Checks if `pnt` is inside the convex hull.\n",
    "    `hull` -- a QHull ConvexHull object\n",
    "    `pnt` -- point array of shape (3,)\n",
    "    '''\n",
    "    new_hull = ConvexHull(np.concatenate((hull.points, [pnt])))\n",
    "    if np.array_equal(new_hull.vertices, hull.vertices): \n",
    "        return True\n",
    "    return False"
   ]
  },
  {
   "cell_type": "code",
   "execution_count": 12,
   "metadata": {},
   "outputs": [
    {
     "name": "stdout",
     "output_type": "stream",
     "text": [
      "increment_px (unbinned): 92.37875288683603\n"
     ]
    }
   ],
   "source": [
    "preclass_particle_star_path = Path(\"/mnt/scratch/ribosomes/kas_k44a/particle_context/particle_data/preclass_job282_run_data.star\")\n",
    "postclass_particle_star_path = Path(\"/mnt/scratch/ribosomes/kas_k44a/particle_context/particle_data/postclass_job292_run_data.star\")\n",
    "\n",
    "\n",
    "binning = 10\n",
    "tomo_dir = Path(\"/mnt/scratch/ribosomes/kas_k44a/particle_context/surfaces_10tomos/\")\n",
    "max_x = 818 * binning\n",
    "max_y = 1152 * binning\n",
    "max_z = 480 * binning\n",
    "unbinned_pixel_size = 1.0825 # A/px\n",
    "increment_nm = 10\n",
    "num_layers = 30\n",
    "increment_px = increment_nm * 10 / unbinned_pixel_size\n",
    "print(f\"increment_px (unbinned): {increment_px}\")\n",
    "# initialize a df with num_layers rows and 1 column \"count\"\n"
   ]
  },
  {
   "cell_type": "code",
   "execution_count": 13,
   "metadata": {},
   "outputs": [],
   "source": [
    "preclass_particle_star = starfile.read(preclass_particle_star_path)\n",
    "postclass_particle_star = starfile.read(postclass_particle_star_path)\n",
    "preclass_particle_df = preclass_particle_star[\"particles\"]\n",
    "postclass_particle_df = postclass_particle_star[\"particles\"]\n",
    "\n",
    "topboundary_points = [\n",
    "    [0, 0, max_z],\n",
    "    [0, max_y, max_z],\n",
    "    [max_x, 0, max_z],\n",
    "    [max_x, max_y, max_z]\n",
    "]\n",
    "topboundary_points_df = pd.DataFrame(topboundary_points, columns=[\"x\", \"y\", \"z\"])\n",
    "bottomboundary_points = [\n",
    "    [0, 0, 0],\n",
    "    [0, max_y, 0],\n",
    "    [max_x, 0, 0],\n",
    "    [max_x, max_y, 0]\n",
    "]\n",
    "bottomboundary_points_df = pd.DataFrame(bottomboundary_points, columns=[\"x\", \"y\", \"z\"])"
   ]
  },
  {
   "cell_type": "code",
   "execution_count": 14,
   "metadata": {},
   "outputs": [],
   "source": [
    "tomo_list = [tomo.name[:6] for tomo in sorted(tomo_dir.glob(\"*.mod\"))]\n",
    "\n",
    "preclass_particle_df[\"Context\"] = None\n",
    "postclass_particle_df[\"Context\"] = None\n",
    "preclass_particles_to_check_df = preclass_particle_df[preclass_particle_df[\"rlnTomoName\"].isin(tomo_list)]\n",
    "postclass_particles_to_check_df = postclass_particle_df[postclass_particle_df[\"rlnTomoName\"].isin(tomo_list)]\n"
   ]
  },
  {
   "cell_type": "code",
   "execution_count": 20,
   "metadata": {},
   "outputs": [
    {
     "name": "stdout",
     "output_type": "stream",
     "text": [
      "ts_003\n",
      "394\n",
      "384\n",
      "ts_004\n",
      "911\n",
      "865\n",
      "ts_006\n",
      "425\n",
      "420\n"
     ]
    }
   ],
   "source": [
    "one_iter = False\n",
    "\n",
    "pre_layer_df = pd.DataFrame(data={\"count\": np.zeros(num_layers, dtype=int)})\n",
    "post_layer_df = pd.DataFrame(data={\"count\": np.zeros(num_layers, dtype=int)})\n",
    "\n",
    "for tomo_name in tomo_list:\n",
    "    print(tomo_name)\n",
    "    pre_tomo_df = preclass_particles_to_check_df[preclass_particles_to_check_df[\"rlnTomoName\"] == tomo_name]\n",
    "    post_tomo_df = postclass_particles_to_check_df[postclass_particles_to_check_df[\"rlnTomoName\"] == tomo_name]\n",
    "    print(len(pre_tomo_df))\n",
    "    print(len(post_tomo_df))\n",
    "\n",
    "    top_points_file = tomo_dir / f\"{tomo_name}_top.xyz\"\n",
    "    top_points_df = pd.read_csv(top_points_file, delim_whitespace=True, header=None, names=[\"x\", \"y\", \"z\"]) * binning\n",
    "    top_points_df = pd.concat([top_points_df, topboundary_points_df])\n",
    "\n",
    "    # Starting at the top air-water interface, go down in increments of 10 nm.\n",
    "    # For each increment, check if the particle is inside the convex hull of the surface.\n",
    "    # If it is, assign the particle to the context of the surface.\n",
    "    # If it is not, continue to the next increment.\n",
    "\n",
    "    for layer in range(num_layers):\n",
    "        top_ConvexHull = ConvexHull(top_points_df)\n",
    "\n",
    "        # Check if each particle is inside the convex hull\n",
    "        for i, particle in pre_tomo_df.iterrows():\n",
    "            if particle[\"Context\"] is not None:\n",
    "                continue\n",
    "            particle_coords = np.array([particle[\"rlnCoordinateX\"], particle[\"rlnCoordinateY\"], particle[\"rlnCoordinateZ\"]])\n",
    "            #print(particle_coords)\n",
    "            if point_in_ConvexHull(top_ConvexHull, particle_coords):\n",
    "                #print(f\"Particle {i} is in layer {layer}\")\n",
    "                # Set the \"Context\" of the particle to the layer number\n",
    "                pre_tomo_df.at[i, \"Context\"] = layer\n",
    "\n",
    "        # print the total number of particles found in this layer\n",
    "\n",
    "        for i, particle in post_tomo_df.iterrows():\n",
    "            if particle[\"Context\"] is not None:\n",
    "                continue\n",
    "            particle_coords = np.array([particle[\"rlnCoordinateX\"], particle[\"rlnCoordinateY\"], particle[\"rlnCoordinateZ\"]])\n",
    "            if point_in_ConvexHull(top_ConvexHull, particle_coords):\n",
    "                post_tomo_df.at[i, \"Context\"] = layer\n",
    "        \n",
    "        pre_layer_df.at[layer, \"count\"] += len(pre_tomo_df[pre_tomo_df[\"Context\"] == layer])\n",
    "        post_layer_df.at[layer, \"count\"] += len(post_tomo_df[post_tomo_df[\"Context\"] == layer])\n",
    "        top_points_df[\"z\"] -= increment_px\n",
    "\n",
    "    if one_iter == True:\n",
    "        break"
   ]
  },
  {
   "cell_type": "code",
   "execution_count": 29,
   "metadata": {},
   "outputs": [
    {
     "name": "stderr",
     "output_type": "stream",
     "text": [
      "/tmp/ipykernel_3104805/4266156844.py:9: UserWarning: FixedFormatter should only be used together with FixedLocator\n",
      "  ax.set_xticklabels([f\"{i * increment_nm}\" for i in ax.get_xticks()])\n"
     ]
    },
    {
     "data": {
      "text/plain": [
       "<matplotlib.legend.Legend at 0x7f672c590af0>"
      ]
     },
     "execution_count": 29,
     "metadata": {},
     "output_type": "execute_result"
    },
    {
     "data": {
      "image/png": "[encoded data removed]",
      "text/plain": [
       "<Figure size 640x480 with 1 Axes>"
      ]
     },
     "metadata": {},
     "output_type": "display_data"
    }
   ],
   "source": [
    "#plot the number of particles in each layer\n",
    "fig, ax = plt.subplots()\n",
    "#ax.plot(pre_layer_df.index, pre_layer_df[\"count\"], label=\"Pre-classification\")\n",
    "#ax.plot(post_layer_df.index, post_layer_df[\"count\"], label=\"Post-classification\")\n",
    "# plot the difference as a bar chart\n",
    "ax.bar(pre_layer_df.index, pre_layer_df[\"count\"] - post_layer_df[\"count\"], label=\"Pre-classification - Post-classification\")\n",
    "ax.set_xlabel(\"nm below the top interface\")\n",
    "# change the tick labels to nm\n",
    "ax.set_xticklabels([f\"{i * increment_nm}\" for i in ax.get_xticks()])\n",
    "ax.set_ylabel(\"Number of particles\")\n",
    "ax.set_title(f\"Total particles = {len(preclass_particles_to_check_df)}, Number of tomograms = {len(tomo_list)}\")\n",
    "ax.legend()\n"
   ]
  },
  {
   "cell_type": "code",
   "execution_count": null,
   "metadata": {},
   "outputs": [],
   "source": []
  }
 ],
 "metadata": {
  "kernelspec": {
   "display_name": "devbio-napari-env",
   "language": "python",
   "name": "python3"
  },
  "language_info": {
   "codemirror_mode": {
    "name": "ipython",
    "version": 3
   },
   "file_extension": ".py",
   "mimetype": "text/x-python",
   "name": "python",
   "nbconvert_exporter": "python",
   "pygments_lexer": "ipython3",
   "version": "3.9.16"
  }
 },
 "nbformat": 4,
 "nbformat_minor": 2
}
