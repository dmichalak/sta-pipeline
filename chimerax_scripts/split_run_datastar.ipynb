{
 "cells": [
  {
   "cell_type": "code",
   "execution_count": 2,
   "metadata": {},
   "outputs": [],
   "source": [
    "from pathlib import Path\n",
    "import pandas as pd\n",
    "\n",
    "import starfile\n"
   ]
  },
  {
   "cell_type": "code",
   "execution_count": 46,
   "metadata": {},
   "outputs": [],
   "source": [
    "run_data_file = Path(\"/mnt/scratch/ribosomes/kas_k44a/artiax_cleaning/bin6/full_artiax_run_data.star\")\n",
    "output_directory = Path(\"/mnt/scratch/ribosomes/kas_k44a/artiax_cleaning/bin6\")\n",
    "\n",
    "\n",
    "run_data_star = starfile.read(run_data_file)\n",
    "run_data_optics = run_data_star[\"optics\"]\n",
    "run_data_particles = run_data_star[\"particles\"]"
   ]
  },
  {
   "cell_type": "code",
   "execution_count": 47,
   "metadata": {},
   "outputs": [],
   "source": [
    "tomo_stars = {}\n",
    "for tomo_name in run_data_particles[\"rlnTomoName\"].unique():\n",
    "    tomo_stars[tomo_name] = {\n",
    "        \"optics\" : run_data_optics,\n",
    "        \"particles\" : run_data_particles[run_data_particles[\"rlnTomoName\"] == tomo_name],\n",
    "    }\n"
   ]
  },
  {
   "cell_type": "code",
   "execution_count": 48,
   "metadata": {},
   "outputs": [],
   "source": [
    "for tomo_name in tomo_stars.keys():\n",
    "    output_filename = f\"{tomo_name}_run_data.star\"\n",
    "    starfile.write(tomo_stars[tomo_name], output_directory / output_filename, overwrite=True)\n"
   ]
  },
  {
   "cell_type": "code",
   "execution_count": 59,
   "metadata": {},
   "outputs": [],
   "source": [
    "artiax_dict = {}\n",
    "full_artia_dict = {}\n",
    "for artiax_star in sorted(output_directory.glob(\"artiax*run_data.star\")):\n",
    "    artiax_name = artiax_star.name.split(\"_run\")[0][7:]\n",
    "    artiax_dict[artiax_name] = starfile.read(artiax_star)\n",
    "\n",
    "    # Make sure rlnTomoName is correct for the new particles\n",
    "    artiax_dict[artiax_name][\"particles\"][\"rlnTomoName\"] = artiax_name\n",
    "\n",
    "    # If optics was not already added to full_artia_dict, add it\n",
    "    if \"optics\" not in full_artia_dict.keys():\n",
    "        full_artia_dict[\"optics\"] = artiax_dict[artiax_name][\"optics\"]\n",
    "    \n",
    "    # Add particles to full_artia_dict\n",
    "    if \"particles\" not in full_artia_dict.keys():\n",
    "        full_artia_dict[\"particles\"] = artiax_dict[artiax_name][\"particles\"]\n",
    "    else:\n",
    "        full_artia_dict[\"particles\"] = pd.concat(\n",
    "            [full_artia_dict[\"particles\"], artiax_dict[artiax_name][\"particles\"]],\n",
    "            ignore_index=True,\n",
    "        )"
   ]
  },
  {
   "cell_type": "code",
   "execution_count": null,
   "metadata": {},
   "outputs": [],
   "source": [
    "# if a rlnObjectnumber from df1 is not in df2, add it to df2.\n",
    "for rlnObjectNumber in artiax_dict[\"particles\"][\"rlnObjectNumber\"].unique():\n",
    "    if rlnObjectNumber not in run_data_star[\"particles\"][\"rlnObjectNumber\"].unique():\n",
    "        run_data_star[\"particles\"] = run_data_star[\"particles\"].append(\n",
    "            artiax_dict[\"particles\"][artiax_dict[\"particles\"][\"rlnObjectNumber\"] == rlnObjectNumber]\n",
    "        )\n",
    "\n",
    "for rlnObjectNumber in run_data_star[\"particles\"][\"rlnObjectNumber\"].unique():\n",
    "    if rlnObjectNumber not in artiax_dict[\"particles\"][\"rlnObjectNumber\"].unique():\n",
    "        # Remove the row from run_data_star using .drop and reindex\n",
    "        run_data_star[\"particles\"] = run_data_star[\"particles\"].drop(\n",
    "            run_data_star[\"particles\"][run_data_star[\"particles\"][\"rlnObjectNumber\"] == rlnObjectNumber].index\n",
    "        ).reset_index(drop=True)\n",
    "\n",
    "# remove the rlnObjectNumber column from run_data_star\n",
    "run_data_star[\"particles\"] = run_data_star[\"particles\"].drop(columns=[\"rlnObjectNumber\"])\n"
   ]
  },
  {
   "cell_type": "code",
   "execution_count": 60,
   "metadata": {},
   "outputs": [],
   "source": [
    "\n",
    "# If rlnObjectNumber does not have a unique value for each row, reset it\n",
    "if not full_artia_dict[\"particles\"][\"rlnObjectNumber\"].is_unique:\n",
    "    with open(output_directory / \"max_rlnObjectNumber.txt\", \"r\") as f:\n",
    "        max_object_number = int(f.read())\n",
    "    # for rows other than index 0, if the rlnObjectNumber is 0.0, set it to max_object_number + 1 and increment max_object_number\n",
    "    new_max_object_number = max_object_number\n",
    "    for row in full_artia_dict[\"particles\"].index[1:]:\n",
    "        if full_artia_dict[\"particles\"].loc[row, \"rlnObjectNumber\"] == 0.0:\n",
    "            new_max_object_number = new_max_object_number + 1\n",
    "            full_artia_dict[\"particles\"].loc[row, \"rlnObjectNumber\"] = new_max_object_number\n"
   ]
  },
  {
   "cell_type": "code",
   "execution_count": 66,
   "metadata": {},
   "outputs": [
    {
     "data": {
      "text/plain": [
       "9944.0"
      ]
     },
     "execution_count": 66,
     "metadata": {},
     "output_type": "execute_result"
    }
   ],
   "source": [
    "# print max rlnObjectNumber to stdout\n",
    "full_artia_dict[\"particles\"][\"rlnObjectNumber\"].max()"
   ]
  },
  {
   "cell_type": "code",
   "execution_count": 68,
   "metadata": {},
   "outputs": [],
   "source": [
    "starfile.write(full_artia_dict, output_directory / \"full_artiax_run_data.star\", overwrite=True)\n",
    "with open(output_directory / \"max_rlnObjectNumber.txt\", \"w\") as f:\n",
    "    f.write(f\"{full_artia_dict['particles']['rlnObjectNumber'].max()}\")"
   ]
  },
  {
   "cell_type": "code",
   "execution_count": 38,
   "metadata": {},
   "outputs": [
    {
     "data": {
      "text/html": [
       "<div>\n",
       "<style scoped>\n",
       "    .dataframe tbody tr th:only-of-type {\n",
       "        vertical-align: middle;\n",
       "    }\n",
       "\n",
       "    .dataframe tbody tr th {\n",
       "        vertical-align: top;\n",
       "    }\n",
       "\n",
       "    .dataframe thead th {\n",
       "        text-align: right;\n",
       "    }\n",
       "</style>\n",
       "<table border=\"1\" class=\"dataframe\">\n",
       "  <thead>\n",
       "    <tr style=\"text-align: right;\">\n",
       "      <th></th>\n",
       "      <th>rlnOpticsGroup</th>\n",
       "      <th>rlnOpticsGroupName</th>\n",
       "      <th>rlnSphericalAberration</th>\n",
       "      <th>rlnVoltage</th>\n",
       "      <th>rlnTomoTiltSeriesPixelSize</th>\n",
       "      <th>rlnCtfDataAreCtfPremultiplied</th>\n",
       "      <th>rlnImageDimensionality</th>\n",
       "      <th>rlnTomoSubtomogramBinning</th>\n",
       "      <th>rlnImagePixelSize</th>\n",
       "      <th>rlnImageSize</th>\n",
       "    </tr>\n",
       "  </thead>\n",
       "  <tbody>\n",
       "    <tr>\n",
       "      <th>0</th>\n",
       "      <td>1</td>\n",
       "      <td>opticsGroup1</td>\n",
       "      <td>2.7</td>\n",
       "      <td>300.0</td>\n",
       "      <td>1.0825</td>\n",
       "      <td>1</td>\n",
       "      <td>3</td>\n",
       "      <td>6.0</td>\n",
       "      <td>6.495</td>\n",
       "      <td>72</td>\n",
       "    </tr>\n",
       "  </tbody>\n",
       "</table>\n",
       "</div>"
      ],
      "text/plain": [
       "   rlnOpticsGroup rlnOpticsGroupName  rlnSphericalAberration  rlnVoltage  \\\n",
       "0               1       opticsGroup1                     2.7       300.0   \n",
       "\n",
       "   rlnTomoTiltSeriesPixelSize  rlnCtfDataAreCtfPremultiplied  \\\n",
       "0                      1.0825                              1   \n",
       "\n",
       "   rlnImageDimensionality  rlnTomoSubtomogramBinning  rlnImagePixelSize  \\\n",
       "0                       3                        6.0              6.495   \n",
       "\n",
       "   rlnImageSize  \n",
       "0            72  "
      ]
     },
     "execution_count": 38,
     "metadata": {},
     "output_type": "execute_result"
    }
   ],
   "source": []
  },
  {
   "cell_type": "code",
   "execution_count": null,
   "metadata": {},
   "outputs": [],
   "source": []
  }
 ],
 "metadata": {
  "kernelspec": {
   "display_name": "base",
   "language": "python",
   "name": "python3"
  },
  "language_info": {
   "codemirror_mode": {
    "name": "ipython",
    "version": 3
   },
   "file_extension": ".py",
   "mimetype": "text/x-python",
   "name": "python",
   "nbconvert_exporter": "python",
   "pygments_lexer": "ipython3",
   "version": "3.10.11"
  },
  "orig_nbformat": 4
 },
 "nbformat": 4,
 "nbformat_minor": 2
}
