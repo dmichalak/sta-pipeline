{
 "cells": [
  {
   "cell_type": "code",
   "execution_count": null,
   "metadata": {},
   "outputs": [],
   "source": [
    "from pathlib import Path\n",
    "import pandas as pd\n",
    "import numpy as np\n",
    "\n",
    "import starfile"
   ]
  },
  {
   "cell_type": "markdown",
   "metadata": {},
   "source": [
    "- set tomogram.mrc directory\n",
    "- set particles.star directory\n",
    "start artiax\n",
    "- Load tomogram.mrc\n",
    "open /mnt/scratch/ribosomes/kas_k44a/eman2/segmentations/particles_ts_001_abs0.1rel0.1_Xshift-10.star format star\n",
    "\n",
    "artiax particles #1.2.1 originScaleFactor 1.0825\n",
    "artiax particles #1.2.1 axesSize 0.1\n",
    "artiax particles #1.2.1 radius 51.88133\n",
    "volume showOutlineBox true\n",
    "\n",
    "- Add Selector rlnCoordinateZ show particles\n",
    "ui mousemode alt left \"move planes\"\n",
    "ui mousemode right \"mark plane\"\n",
    "ui mousemode alt right \"delete picked particle\"\n",
    "\n",
    "ui mousemode wheel \"zoom\"\n",
    "- All formating is correct\n",
    "save /mnt/scratch/ribosomes/kas_k44a/eman2/segmentations/test.star partlist #1.2.1\n",
    "close particle list\n",
    "close tomogram"
   ]
  },
  {
   "cell_type": "markdown",
   "metadata": {},
   "source": [
    "### Set path to relion classification directory"
   ]
  },
  {
   "cell_type": "code",
   "execution_count": null,
   "metadata": {},
   "outputs": [],
   "source": [
    "classification_directory = Path(\"/mnt/scratch/ribosomes/kas_k44a/relion/Refine3D/job005/\").absolute()"
   ]
  },
  {
   "cell_type": "markdown",
   "metadata": {},
   "source": [
    "### Import run_it025_data.star"
   ]
  },
  {
   "cell_type": "code",
   "execution_count": null,
   "metadata": {},
   "outputs": [],
   "source": [
    "classified_starfile = classification_directory / Path(\"run_it002_data.star\")\n",
    "\n",
    "classified_star_dict = starfile.read(classified_starfile)\n",
    "classified_optics_df = classified_star_dict['optics']\n",
    "classified_particles_df = classified_star_dict['particles']"
   ]
  },
  {
   "cell_type": "code",
   "execution_count": 14,
   "metadata": {},
   "outputs": [
    {
     "data": {
      "text/plain": [
       "<pandas.core.groupby.generic.DataFrameGroupBy object at 0x7efb3489acd0>"
      ]
     },
     "execution_count": 14,
     "metadata": {},
     "output_type": "execute_result"
    }
   ],
   "source": [
    "# For each unique value in rlnClassNumber, write a new star file with only the particles from that class using the pandas module\n",
    "\n",
    "class_groups = classified_particles_df.groupby('rlnClassNumber')\n",
    "\n",
    "for class_number, class_group in class_groups:\n",
    "    class_dict = {}\n",
    "    class_dict['optics'] = classified_optics_df.copy()\n",
    "    class_dict['particles'] = class_group.copy()\n",
    "    class_starfile = f\"class_{class_number}.star\"\n",
    "    write_path = classification_directory / class_starfile\n",
    "    starfile.write(class_dict, write_path)"
   ]
  },
  {
   "cell_type": "code",
   "execution_count": 16,
   "metadata": {},
   "outputs": [
    {
     "name": "stdout",
     "output_type": "stream",
     "text": [
      "1\n"
     ]
    }
   ],
   "source": []
  },
  {
   "cell_type": "code",
   "execution_count": null,
   "metadata": {},
   "outputs": [],
   "source": []
  }
 ],
 "metadata": {
  "kernelspec": {
   "display_name": "devbio-napari-env",
   "language": "python",
   "name": "python3"
  },
  "language_info": {
   "codemirror_mode": {
    "name": "ipython",
    "version": 3
   },
   "file_extension": ".py",
   "mimetype": "text/x-python",
   "name": "python",
   "nbconvert_exporter": "python",
   "pygments_lexer": "ipython3",
   "version": "3.9.16"
  },
  "orig_nbformat": 4
 },
 "nbformat": 4,
 "nbformat_minor": 2
}
